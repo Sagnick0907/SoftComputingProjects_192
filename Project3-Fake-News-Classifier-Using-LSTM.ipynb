{
 "cells": [
  {
   "cell_type": "markdown",
   "id": "13ee7b31",
   "metadata": {
    "papermill": {
     "duration": 0.069391,
     "end_time": "2022-04-30T13:23:36.542677",
     "exception": false,
     "start_time": "2022-04-30T13:23:36.473286",
     "status": "completed"
    },
    "tags": []
   },
   "source": [
    "## Fake News Classifier Using LSTM\n",
    "\n",
    "Author - Sagnick Bhar  \n",
    "Dataset: https://www.kaggle.com/datasets/hassanamin/textdb3  \n",
    "Accuracy = 75.27%"
   ]
  },
  {
   "cell_type": "markdown",
   "id": "803de5db",
   "metadata": {
    "papermill": {
     "duration": 0.063828,
     "end_time": "2022-04-30T13:23:36.674421",
     "exception": false,
     "start_time": "2022-04-30T13:23:36.610593",
     "status": "completed"
    },
    "tags": []
   },
   "source": [
    "### Importing Libraries"
   ]
  },
  {
   "cell_type": "code",
   "execution_count": 1,
   "id": "685c2d49",
   "metadata": {
    "execution": {
     "iopub.execute_input": "2022-04-30T13:23:36.810767Z",
     "iopub.status.busy": "2022-04-30T13:23:36.808816Z",
     "iopub.status.idle": "2022-04-30T13:23:44.076790Z",
     "shell.execute_reply": "2022-04-30T13:23:44.077331Z",
     "shell.execute_reply.started": "2022-04-30T13:19:41.184414Z"
    },
    "papermill": {
     "duration": 7.338904,
     "end_time": "2022-04-30T13:23:44.077623",
     "exception": false,
     "start_time": "2022-04-30T13:23:36.738719",
     "status": "completed"
    },
    "tags": []
   },
   "outputs": [
    {
     "name": "stdout",
     "output_type": "stream",
     "text": [
      "[nltk_data] Downloading package stopwords to /usr/share/nltk_data...\n",
      "[nltk_data]   Package stopwords is already up-to-date!\n"
     ]
    },
    {
     "data": {
      "text/plain": [
       "True"
      ]
     },
     "execution_count": 1,
     "metadata": {},
     "output_type": "execute_result"
    }
   ],
   "source": [
    "import numpy as np # linear algebra\n",
    "import pandas as pd # data processing, CSV file I/O (e.g. pd.read_csv)\n",
    "import os\n",
    "\n",
    "import tensorflow as tf\n",
    "from tensorflow.keras.layers import Embedding\n",
    "from tensorflow.keras.preprocessing.sequence import pad_sequences\n",
    "from tensorflow.keras.models import Sequential\n",
    "from tensorflow.keras.preprocessing.text import one_hot\n",
    "from tensorflow.keras.layers import LSTM\n",
    "from tensorflow.keras.layers import Dense\n",
    "\n",
    "import nltk\n",
    "import re\n",
    "from nltk.corpus import stopwords\n",
    "nltk.download('stopwords')"
   ]
  },
  {
   "cell_type": "markdown",
   "id": "9f08d64a",
   "metadata": {
    "papermill": {
     "duration": 0.038067,
     "end_time": "2022-04-30T13:23:44.154104",
     "exception": false,
     "start_time": "2022-04-30T13:23:44.116037",
     "status": "completed"
    },
    "tags": []
   },
   "source": [
    "###  Importing Dataset"
   ]
  },
  {
   "cell_type": "code",
   "execution_count": 2,
   "id": "38a23b4c",
   "metadata": {
    "execution": {
     "iopub.execute_input": "2022-04-30T13:23:44.237536Z",
     "iopub.status.busy": "2022-04-30T13:23:44.236589Z",
     "iopub.status.idle": "2022-04-30T13:23:44.899215Z",
     "shell.execute_reply": "2022-04-30T13:23:44.898198Z",
     "shell.execute_reply.started": "2022-04-30T13:19:52.315746Z"
    },
    "papermill": {
     "duration": 0.705902,
     "end_time": "2022-04-30T13:23:44.899408",
     "exception": false,
     "start_time": "2022-04-30T13:23:44.193506",
     "status": "completed"
    },
    "tags": []
   },
   "outputs": [],
   "source": [
    "#Importing Dataset\n",
    "df=pd.read_csv('../input/textdb3/fake_or_real_news.csv')"
   ]
  },
  {
   "cell_type": "code",
   "execution_count": 3,
   "id": "23393596",
   "metadata": {
    "execution": {
     "iopub.execute_input": "2022-04-30T13:23:44.982491Z",
     "iopub.status.busy": "2022-04-30T13:23:44.981370Z",
     "iopub.status.idle": "2022-04-30T13:23:44.995423Z",
     "shell.execute_reply": "2022-04-30T13:23:44.995951Z",
     "shell.execute_reply.started": "2022-04-30T13:19:53.088010Z"
    },
    "papermill": {
     "duration": 0.058578,
     "end_time": "2022-04-30T13:23:44.996139",
     "exception": false,
     "start_time": "2022-04-30T13:23:44.937561",
     "status": "completed"
    },
    "tags": []
   },
   "outputs": [
    {
     "data": {
      "text/html": [
       "<div>\n",
       "<style scoped>\n",
       "    .dataframe tbody tr th:only-of-type {\n",
       "        vertical-align: middle;\n",
       "    }\n",
       "\n",
       "    .dataframe tbody tr th {\n",
       "        vertical-align: top;\n",
       "    }\n",
       "\n",
       "    .dataframe thead th {\n",
       "        text-align: right;\n",
       "    }\n",
       "</style>\n",
       "<table border=\"1\" class=\"dataframe\">\n",
       "  <thead>\n",
       "    <tr style=\"text-align: right;\">\n",
       "      <th></th>\n",
       "      <th>Unnamed: 0</th>\n",
       "      <th>title</th>\n",
       "      <th>text</th>\n",
       "      <th>label</th>\n",
       "    </tr>\n",
       "  </thead>\n",
       "  <tbody>\n",
       "    <tr>\n",
       "      <th>0</th>\n",
       "      <td>8476</td>\n",
       "      <td>You Can Smell Hillary’s Fear</td>\n",
       "      <td>Daniel Greenfield, a Shillman Journalism Fello...</td>\n",
       "      <td>FAKE</td>\n",
       "    </tr>\n",
       "    <tr>\n",
       "      <th>1</th>\n",
       "      <td>10294</td>\n",
       "      <td>Watch The Exact Moment Paul Ryan Committed Pol...</td>\n",
       "      <td>Google Pinterest Digg Linkedin Reddit Stumbleu...</td>\n",
       "      <td>FAKE</td>\n",
       "    </tr>\n",
       "    <tr>\n",
       "      <th>2</th>\n",
       "      <td>3608</td>\n",
       "      <td>Kerry to go to Paris in gesture of sympathy</td>\n",
       "      <td>U.S. Secretary of State John F. Kerry said Mon...</td>\n",
       "      <td>REAL</td>\n",
       "    </tr>\n",
       "    <tr>\n",
       "      <th>3</th>\n",
       "      <td>10142</td>\n",
       "      <td>Bernie supporters on Twitter erupt in anger ag...</td>\n",
       "      <td>— Kaydee King (@KaydeeKing) November 9, 2016 T...</td>\n",
       "      <td>FAKE</td>\n",
       "    </tr>\n",
       "    <tr>\n",
       "      <th>4</th>\n",
       "      <td>875</td>\n",
       "      <td>The Battle of New York: Why This Primary Matters</td>\n",
       "      <td>It's primary day in New York and front-runners...</td>\n",
       "      <td>REAL</td>\n",
       "    </tr>\n",
       "  </tbody>\n",
       "</table>\n",
       "</div>"
      ],
      "text/plain": [
       "   Unnamed: 0                                              title  \\\n",
       "0        8476                       You Can Smell Hillary’s Fear   \n",
       "1       10294  Watch The Exact Moment Paul Ryan Committed Pol...   \n",
       "2        3608        Kerry to go to Paris in gesture of sympathy   \n",
       "3       10142  Bernie supporters on Twitter erupt in anger ag...   \n",
       "4         875   The Battle of New York: Why This Primary Matters   \n",
       "\n",
       "                                                text label  \n",
       "0  Daniel Greenfield, a Shillman Journalism Fello...  FAKE  \n",
       "1  Google Pinterest Digg Linkedin Reddit Stumbleu...  FAKE  \n",
       "2  U.S. Secretary of State John F. Kerry said Mon...  REAL  \n",
       "3  — Kaydee King (@KaydeeKing) November 9, 2016 T...  FAKE  \n",
       "4  It's primary day in New York and front-runners...  REAL  "
      ]
     },
     "execution_count": 3,
     "metadata": {},
     "output_type": "execute_result"
    }
   ],
   "source": [
    "df.head()"
   ]
  },
  {
   "cell_type": "code",
   "execution_count": 4,
   "id": "fc516540",
   "metadata": {
    "execution": {
     "iopub.execute_input": "2022-04-30T13:23:45.085488Z",
     "iopub.status.busy": "2022-04-30T13:23:45.084616Z",
     "iopub.status.idle": "2022-04-30T13:23:45.091090Z",
     "shell.execute_reply": "2022-04-30T13:23:45.090601Z",
     "shell.execute_reply.started": "2022-04-30T13:19:54.392055Z"
    },
    "papermill": {
     "duration": 0.056279,
     "end_time": "2022-04-30T13:23:45.091219",
     "exception": false,
     "start_time": "2022-04-30T13:23:45.034940",
     "status": "completed"
    },
    "tags": []
   },
   "outputs": [],
   "source": [
    "##Drop Nan Values\n",
    "df=df.dropna()"
   ]
  },
  {
   "cell_type": "code",
   "execution_count": 5,
   "id": "d7ddcdb7",
   "metadata": {
    "execution": {
     "iopub.execute_input": "2022-04-30T13:23:45.174746Z",
     "iopub.status.busy": "2022-04-30T13:23:45.174112Z",
     "iopub.status.idle": "2022-04-30T13:23:45.178419Z",
     "shell.execute_reply": "2022-04-30T13:23:45.177909Z",
     "shell.execute_reply.started": "2022-04-30T13:19:55.269334Z"
    },
    "papermill": {
     "duration": 0.048908,
     "end_time": "2022-04-30T13:23:45.178588",
     "exception": false,
     "start_time": "2022-04-30T13:23:45.129680",
     "status": "completed"
    },
    "tags": []
   },
   "outputs": [],
   "source": [
    "## Get the Independent Features\n",
    "X=df.drop('label',axis=1)"
   ]
  },
  {
   "cell_type": "code",
   "execution_count": 6,
   "id": "4f0d7361",
   "metadata": {
    "execution": {
     "iopub.execute_input": "2022-04-30T13:23:45.263436Z",
     "iopub.status.busy": "2022-04-30T13:23:45.262310Z",
     "iopub.status.idle": "2022-04-30T13:23:45.265869Z",
     "shell.execute_reply": "2022-04-30T13:23:45.265273Z",
     "shell.execute_reply.started": "2022-04-30T13:19:57.777227Z"
    },
    "papermill": {
     "duration": 0.048794,
     "end_time": "2022-04-30T13:23:45.266007",
     "exception": false,
     "start_time": "2022-04-30T13:23:45.217213",
     "status": "completed"
    },
    "tags": []
   },
   "outputs": [],
   "source": [
    "## Get the Dependent features\n",
    "y=df['label']"
   ]
  },
  {
   "cell_type": "code",
   "execution_count": 7,
   "id": "ff39ac00",
   "metadata": {
    "execution": {
     "iopub.execute_input": "2022-04-30T13:23:45.353589Z",
     "iopub.status.busy": "2022-04-30T13:23:45.352724Z",
     "iopub.status.idle": "2022-04-30T13:23:45.356131Z",
     "shell.execute_reply": "2022-04-30T13:23:45.356704Z",
     "shell.execute_reply.started": "2022-04-30T13:20:03.243439Z"
    },
    "papermill": {
     "duration": 0.050572,
     "end_time": "2022-04-30T13:23:45.356853",
     "exception": false,
     "start_time": "2022-04-30T13:23:45.306281",
     "status": "completed"
    },
    "tags": []
   },
   "outputs": [
    {
     "data": {
      "text/plain": [
       "(6335, 3)"
      ]
     },
     "execution_count": 7,
     "metadata": {},
     "output_type": "execute_result"
    }
   ],
   "source": [
    "X.shape"
   ]
  },
  {
   "cell_type": "code",
   "execution_count": 8,
   "id": "5a8b7151",
   "metadata": {
    "execution": {
     "iopub.execute_input": "2022-04-30T13:23:45.442979Z",
     "iopub.status.busy": "2022-04-30T13:23:45.440828Z",
     "iopub.status.idle": "2022-04-30T13:23:45.446218Z",
     "shell.execute_reply": "2022-04-30T13:23:45.445676Z",
     "shell.execute_reply.started": "2022-04-30T13:20:05.149875Z"
    },
    "papermill": {
     "duration": 0.050103,
     "end_time": "2022-04-30T13:23:45.446359",
     "exception": false,
     "start_time": "2022-04-30T13:23:45.396256",
     "status": "completed"
    },
    "tags": []
   },
   "outputs": [
    {
     "data": {
      "text/plain": [
       "(6335,)"
      ]
     },
     "execution_count": 8,
     "metadata": {},
     "output_type": "execute_result"
    }
   ],
   "source": [
    "y.shape"
   ]
  },
  {
   "cell_type": "markdown",
   "id": "6447a810",
   "metadata": {
    "papermill": {
     "duration": 0.040284,
     "end_time": "2022-04-30T13:23:45.527042",
     "exception": false,
     "start_time": "2022-04-30T13:23:45.486758",
     "status": "completed"
    },
    "tags": []
   },
   "source": [
    "###  Data Preprocessing"
   ]
  },
  {
   "cell_type": "code",
   "execution_count": 9,
   "id": "eae2f30c",
   "metadata": {
    "execution": {
     "iopub.execute_input": "2022-04-30T13:23:45.612674Z",
     "iopub.status.busy": "2022-04-30T13:23:45.611207Z",
     "iopub.status.idle": "2022-04-30T13:23:45.614404Z",
     "shell.execute_reply": "2022-04-30T13:23:45.615021Z",
     "shell.execute_reply.started": "2022-04-30T13:20:07.164167Z"
    },
    "papermill": {
     "duration": 0.047985,
     "end_time": "2022-04-30T13:23:45.615167",
     "exception": false,
     "start_time": "2022-04-30T13:23:45.567182",
     "status": "completed"
    },
    "tags": []
   },
   "outputs": [],
   "source": [
    "### Vocabulary size\n",
    "voc_size=6256"
   ]
  },
  {
   "cell_type": "code",
   "execution_count": 10,
   "id": "e74de0ab",
   "metadata": {
    "execution": {
     "iopub.execute_input": "2022-04-30T13:23:45.702179Z",
     "iopub.status.busy": "2022-04-30T13:23:45.699874Z",
     "iopub.status.idle": "2022-04-30T13:23:45.702942Z",
     "shell.execute_reply": "2022-04-30T13:23:45.703515Z",
     "shell.execute_reply.started": "2022-04-30T13:20:08.262693Z"
    },
    "papermill": {
     "duration": 0.048467,
     "end_time": "2022-04-30T13:23:45.703667",
     "exception": false,
     "start_time": "2022-04-30T13:23:45.655200",
     "status": "completed"
    },
    "tags": []
   },
   "outputs": [],
   "source": [
    "messages=X.copy()"
   ]
  },
  {
   "cell_type": "code",
   "execution_count": 11,
   "id": "dc7d42ff",
   "metadata": {
    "execution": {
     "iopub.execute_input": "2022-04-30T13:23:45.790850Z",
     "iopub.status.busy": "2022-04-30T13:23:45.789659Z",
     "iopub.status.idle": "2022-04-30T13:23:45.795441Z",
     "shell.execute_reply": "2022-04-30T13:23:45.794893Z",
     "shell.execute_reply.started": "2022-04-30T13:20:09.538510Z"
    },
    "papermill": {
     "duration": 0.052048,
     "end_time": "2022-04-30T13:23:45.795565",
     "exception": false,
     "start_time": "2022-04-30T13:23:45.743517",
     "status": "completed"
    },
    "tags": []
   },
   "outputs": [
    {
     "data": {
      "text/plain": [
       "'Watch The Exact Moment Paul Ryan Committed Political Suicide At A Trump Rally (VIDEO)'"
      ]
     },
     "execution_count": 11,
     "metadata": {},
     "output_type": "execute_result"
    }
   ],
   "source": [
    "messages['title'][1]"
   ]
  },
  {
   "cell_type": "code",
   "execution_count": 12,
   "id": "2eea1ab9",
   "metadata": {
    "execution": {
     "iopub.execute_input": "2022-04-30T13:23:45.883742Z",
     "iopub.status.busy": "2022-04-30T13:23:45.882718Z",
     "iopub.status.idle": "2022-04-30T13:23:45.885925Z",
     "shell.execute_reply": "2022-04-30T13:23:45.885357Z",
     "shell.execute_reply.started": "2022-04-30T13:20:11.251180Z"
    },
    "papermill": {
     "duration": 0.049743,
     "end_time": "2022-04-30T13:23:45.886063",
     "exception": false,
     "start_time": "2022-04-30T13:23:45.836320",
     "status": "completed"
    },
    "tags": []
   },
   "outputs": [],
   "source": [
    "messages.reset_index(inplace=True)"
   ]
  },
  {
   "cell_type": "code",
   "execution_count": 13,
   "id": "61e7c9af",
   "metadata": {
    "execution": {
     "iopub.execute_input": "2022-04-30T13:23:45.977397Z",
     "iopub.status.busy": "2022-04-30T13:23:45.976697Z",
     "iopub.status.idle": "2022-04-30T13:24:00.609222Z",
     "shell.execute_reply": "2022-04-30T13:24:00.608648Z",
     "shell.execute_reply.started": "2022-04-30T13:20:12.612274Z"
    },
    "papermill": {
     "duration": 14.681678,
     "end_time": "2022-04-30T13:24:00.609389",
     "exception": false,
     "start_time": "2022-04-30T13:23:45.927711",
     "status": "completed"
    },
    "tags": []
   },
   "outputs": [
    {
     "name": "stdout",
     "output_type": "stream",
     "text": [
      "Process Completed\n"
     ]
    }
   ],
   "source": [
    "from nltk.stem.porter import PorterStemmer\n",
    "ps = PorterStemmer()\n",
    "corpus = []\n",
    "for i in range(0, len(messages)):\n",
    "    review = re.sub('[^a-zA-Z]', ' ', messages['title'][i])\n",
    "    review = review.lower()\n",
    "    review = review.split()\n",
    "    \n",
    "    review = [ps.stem(word) for word in review if not word in stopwords.words('english')]\n",
    "    review = ' '.join(review)\n",
    "    corpus.append(review)\n",
    "print(\"Process Completed\")"
   ]
  },
  {
   "cell_type": "code",
   "execution_count": 14,
   "id": "33f21d0d",
   "metadata": {
    "execution": {
     "iopub.execute_input": "2022-04-30T13:24:00.695947Z",
     "iopub.status.busy": "2022-04-30T13:24:00.693323Z",
     "iopub.status.idle": "2022-04-30T13:24:00.700140Z",
     "shell.execute_reply": "2022-04-30T13:24:00.699564Z",
     "shell.execute_reply.started": "2022-04-30T13:20:27.955823Z"
    },
    "papermill": {
     "duration": 0.050875,
     "end_time": "2022-04-30T13:24:00.700280",
     "exception": false,
     "start_time": "2022-04-30T13:24:00.649405",
     "status": "completed"
    },
    "tags": []
   },
   "outputs": [
    {
     "data": {
      "text/plain": [
       "'watch exact moment paul ryan commit polit suicid trump ralli video'"
      ]
     },
     "execution_count": 14,
     "metadata": {},
     "output_type": "execute_result"
    }
   ],
   "source": [
    "corpus[1]"
   ]
  },
  {
   "cell_type": "code",
   "execution_count": 15,
   "id": "04b83309",
   "metadata": {
    "execution": {
     "iopub.execute_input": "2022-04-30T13:24:00.787599Z",
     "iopub.status.busy": "2022-04-30T13:24:00.786480Z",
     "iopub.status.idle": "2022-04-30T13:24:03.264429Z",
     "shell.execute_reply": "2022-04-30T13:24:03.263856Z",
     "shell.execute_reply.started": "2022-04-30T13:20:29.298806Z"
    },
    "papermill": {
     "duration": 2.522967,
     "end_time": "2022-04-30T13:24:03.264580",
     "exception": false,
     "start_time": "2022-04-30T13:24:00.741613",
     "status": "completed"
    },
    "tags": []
   },
   "outputs": [
    {
     "name": "stderr",
     "output_type": "stream",
     "text": [
      "/opt/conda/lib/python3.7/site-packages/ipykernel_launcher.py:7: SettingWithCopyWarning: \n",
      "A value is trying to be set on a copy of a slice from a DataFrame\n",
      "\n",
      "See the caveats in the documentation: https://pandas.pydata.org/pandas-docs/stable/user_guide/indexing.html#returning-a-view-versus-a-copy\n",
      "  import sys\n",
      "/opt/conda/lib/python3.7/site-packages/ipykernel_launcher.py:5: SettingWithCopyWarning: \n",
      "A value is trying to be set on a copy of a slice from a DataFrame\n",
      "\n",
      "See the caveats in the documentation: https://pandas.pydata.org/pandas-docs/stable/user_guide/indexing.html#returning-a-view-versus-a-copy\n",
      "  \"\"\"\n"
     ]
    },
    {
     "data": {
      "text/plain": [
       "[6175, 5219, 5251, 2905, 1518, 868, 504, 4971, 3917, 661, 92]"
      ]
     },
     "execution_count": 15,
     "metadata": {},
     "output_type": "execute_result"
    }
   ],
   "source": [
    "# One Hot Representation of Sentence\n",
    "onehot_repr=[one_hot(words,voc_size)for words in corpus] \n",
    "for i in range (len(y)):\n",
    "    if(y[i]==\"REAL\"):\n",
    "        y[i]=1\n",
    "    else:\n",
    "        y[i]=0\n",
    "\n",
    "onehot_repr[1]"
   ]
  },
  {
   "cell_type": "code",
   "execution_count": 16,
   "id": "8834e06f",
   "metadata": {
    "execution": {
     "iopub.execute_input": "2022-04-30T13:24:03.355668Z",
     "iopub.status.busy": "2022-04-30T13:24:03.354833Z",
     "iopub.status.idle": "2022-04-30T13:24:03.358165Z",
     "shell.execute_reply": "2022-04-30T13:24:03.358852Z",
     "shell.execute_reply.started": "2022-04-30T13:20:36.032348Z"
    },
    "papermill": {
     "duration": 0.052526,
     "end_time": "2022-04-30T13:24:03.359004",
     "exception": false,
     "start_time": "2022-04-30T13:24:03.306478",
     "status": "completed"
    },
    "tags": []
   },
   "outputs": [
    {
     "data": {
      "text/plain": [
       "0       0\n",
       "1       0\n",
       "2       1\n",
       "3       0\n",
       "4       1\n",
       "       ..\n",
       "6330    1\n",
       "6331    0\n",
       "6332    0\n",
       "6333    1\n",
       "6334    1\n",
       "Name: label, Length: 6335, dtype: object"
      ]
     },
     "execution_count": 16,
     "metadata": {},
     "output_type": "execute_result"
    }
   ],
   "source": [
    "y"
   ]
  },
  {
   "cell_type": "code",
   "execution_count": 17,
   "id": "c5d1331d",
   "metadata": {
    "execution": {
     "iopub.execute_input": "2022-04-30T13:24:03.448514Z",
     "iopub.status.busy": "2022-04-30T13:24:03.445441Z",
     "iopub.status.idle": "2022-04-30T13:24:03.454152Z",
     "shell.execute_reply": "2022-04-30T13:24:03.453338Z",
     "shell.execute_reply.started": "2022-04-30T13:20:36.923607Z"
    },
    "papermill": {
     "duration": 0.054536,
     "end_time": "2022-04-30T13:24:03.454430",
     "exception": false,
     "start_time": "2022-04-30T13:24:03.399894",
     "status": "completed"
    },
    "tags": []
   },
   "outputs": [
    {
     "name": "stdout",
     "output_type": "stream",
     "text": [
      "26\n"
     ]
    }
   ],
   "source": [
    "list_len = [len(i) for i in onehot_repr]\n",
    "print(max(list_len))"
   ]
  },
  {
   "cell_type": "markdown",
   "id": "f720747f",
   "metadata": {
    "papermill": {
     "duration": 0.041085,
     "end_time": "2022-04-30T13:24:03.537908",
     "exception": false,
     "start_time": "2022-04-30T13:24:03.496823",
     "status": "completed"
    },
    "tags": []
   },
   "source": [
    "### Embedding Representation"
   ]
  },
  {
   "cell_type": "code",
   "execution_count": 18,
   "id": "b764593e",
   "metadata": {
    "execution": {
     "iopub.execute_input": "2022-04-30T13:24:03.629983Z",
     "iopub.status.busy": "2022-04-30T13:24:03.627030Z",
     "iopub.status.idle": "2022-04-30T13:24:03.674853Z",
     "shell.execute_reply": "2022-04-30T13:24:03.675357Z",
     "shell.execute_reply.started": "2022-04-30T13:20:38.714123Z"
    },
    "papermill": {
     "duration": 0.096689,
     "end_time": "2022-04-30T13:24:03.675535",
     "exception": false,
     "start_time": "2022-04-30T13:24:03.578846",
     "status": "completed"
    },
    "tags": []
   },
   "outputs": [
    {
     "name": "stdout",
     "output_type": "stream",
     "text": [
      "[[   0    0    0 ... 1827 2980 3132]\n",
      " [   0    0    0 ... 3917  661   92]\n",
      " [   0    0    0 ...  405 3345 4753]\n",
      " ...\n",
      " [   0    0    0 ... 1635 4537 4220]\n",
      " [   0    0    0 ... 5478 5439 3291]\n",
      " [   0    0    0 ... 1961 3917   36]]\n"
     ]
    }
   ],
   "source": [
    "sent_length=26\n",
    "embedded_docs=pad_sequences(onehot_repr,padding='pre',maxlen=sent_length)\n",
    "\n",
    "print(embedded_docs)"
   ]
  },
  {
   "cell_type": "code",
   "execution_count": 19,
   "id": "dc285385",
   "metadata": {
    "execution": {
     "iopub.execute_input": "2022-04-30T13:24:03.765473Z",
     "iopub.status.busy": "2022-04-30T13:24:03.764550Z",
     "iopub.status.idle": "2022-04-30T13:24:03.768276Z",
     "shell.execute_reply": "2022-04-30T13:24:03.768903Z",
     "shell.execute_reply.started": "2022-04-30T13:20:39.679121Z"
    },
    "papermill": {
     "duration": 0.050834,
     "end_time": "2022-04-30T13:24:03.769084",
     "exception": false,
     "start_time": "2022-04-30T13:24:03.718250",
     "status": "completed"
    },
    "tags": []
   },
   "outputs": [
    {
     "data": {
      "text/plain": [
       "array([   0,    0,    0,    0,    0,    0,    0,    0,    0,    0,    0,\n",
       "          0,    0,    0,    0,    0,    0,    0,    0,    0,    0,    0,\n",
       "          0, 1827, 2980, 3132], dtype=int32)"
      ]
     },
     "execution_count": 19,
     "metadata": {},
     "output_type": "execute_result"
    }
   ],
   "source": [
    "embedded_docs[0]"
   ]
  },
  {
   "cell_type": "code",
   "execution_count": 20,
   "id": "e7f7475f",
   "metadata": {
    "execution": {
     "iopub.execute_input": "2022-04-30T13:24:03.860769Z",
     "iopub.status.busy": "2022-04-30T13:24:03.860127Z",
     "iopub.status.idle": "2022-04-30T13:24:07.036492Z",
     "shell.execute_reply": "2022-04-30T13:24:07.037009Z",
     "shell.execute_reply.started": "2022-04-30T13:20:40.538769Z"
    },
    "papermill": {
     "duration": 3.225362,
     "end_time": "2022-04-30T13:24:07.037175",
     "exception": false,
     "start_time": "2022-04-30T13:24:03.811813",
     "status": "completed"
    },
    "tags": []
   },
   "outputs": [
    {
     "name": "stderr",
     "output_type": "stream",
     "text": [
      "2022-04-30 13:24:03.958146: I tensorflow/stream_executor/cuda/cuda_gpu_executor.cc:937] successful NUMA node read from SysFS had negative value (-1), but there must be at least one NUMA node, so returning NUMA node zero\n",
      "2022-04-30 13:24:04.063329: I tensorflow/stream_executor/cuda/cuda_gpu_executor.cc:937] successful NUMA node read from SysFS had negative value (-1), but there must be at least one NUMA node, so returning NUMA node zero\n",
      "2022-04-30 13:24:04.064756: I tensorflow/stream_executor/cuda/cuda_gpu_executor.cc:937] successful NUMA node read from SysFS had negative value (-1), but there must be at least one NUMA node, so returning NUMA node zero\n",
      "2022-04-30 13:24:04.066644: I tensorflow/core/platform/cpu_feature_guard.cc:142] This TensorFlow binary is optimized with oneAPI Deep Neural Network Library (oneDNN) to use the following CPU instructions in performance-critical operations:  AVX2 FMA\n",
      "To enable them in other operations, rebuild TensorFlow with the appropriate compiler flags.\n",
      "2022-04-30 13:24:04.067920: I tensorflow/stream_executor/cuda/cuda_gpu_executor.cc:937] successful NUMA node read from SysFS had negative value (-1), but there must be at least one NUMA node, so returning NUMA node zero\n",
      "2022-04-30 13:24:04.068982: I tensorflow/stream_executor/cuda/cuda_gpu_executor.cc:937] successful NUMA node read from SysFS had negative value (-1), but there must be at least one NUMA node, so returning NUMA node zero\n",
      "2022-04-30 13:24:04.069931: I tensorflow/stream_executor/cuda/cuda_gpu_executor.cc:937] successful NUMA node read from SysFS had negative value (-1), but there must be at least one NUMA node, so returning NUMA node zero\n",
      "2022-04-30 13:24:06.308713: I tensorflow/stream_executor/cuda/cuda_gpu_executor.cc:937] successful NUMA node read from SysFS had negative value (-1), but there must be at least one NUMA node, so returning NUMA node zero\n",
      "2022-04-30 13:24:06.309841: I tensorflow/stream_executor/cuda/cuda_gpu_executor.cc:937] successful NUMA node read from SysFS had negative value (-1), but there must be at least one NUMA node, so returning NUMA node zero\n",
      "2022-04-30 13:24:06.310894: I tensorflow/stream_executor/cuda/cuda_gpu_executor.cc:937] successful NUMA node read from SysFS had negative value (-1), but there must be at least one NUMA node, so returning NUMA node zero\n",
      "2022-04-30 13:24:06.311854: I tensorflow/core/common_runtime/gpu/gpu_device.cc:1510] Created device /job:localhost/replica:0/task:0/device:GPU:0 with 15403 MB memory:  -> device: 0, name: Tesla P100-PCIE-16GB, pci bus id: 0000:00:04.0, compute capability: 6.0\n"
     ]
    },
    {
     "name": "stdout",
     "output_type": "stream",
     "text": [
      "Model: \"sequential\"\n",
      "_________________________________________________________________\n",
      "Layer (type)                 Output Shape              Param #   \n",
      "=================================================================\n",
      "embedding (Embedding)        (None, 26, 40)            250240    \n",
      "_________________________________________________________________\n",
      "lstm (LSTM)                  (None, 100)               56400     \n",
      "_________________________________________________________________\n",
      "dense (Dense)                (None, 1)                 101       \n",
      "=================================================================\n",
      "Total params: 306,741\n",
      "Trainable params: 306,741\n",
      "Non-trainable params: 0\n",
      "_________________________________________________________________\n",
      "None\n"
     ]
    }
   ],
   "source": [
    "## Creating model\n",
    "embedding_vector_features=40\n",
    "model=Sequential()\n",
    "model.add(Embedding(voc_size,embedding_vector_features,input_length=sent_length))\n",
    "model.add(LSTM(100))\n",
    "model.add(Dense(1,activation='sigmoid'))\n",
    "model.compile(loss='binary_crossentropy',optimizer='adam',metrics=['accuracy'])\n",
    "print(model.summary())"
   ]
  },
  {
   "cell_type": "code",
   "execution_count": 21,
   "id": "215ee739",
   "metadata": {
    "execution": {
     "iopub.execute_input": "2022-04-30T13:24:07.135126Z",
     "iopub.status.busy": "2022-04-30T13:24:07.134101Z",
     "iopub.status.idle": "2022-04-30T13:24:07.138009Z",
     "shell.execute_reply": "2022-04-30T13:24:07.138634Z",
     "shell.execute_reply.started": "2022-04-30T13:20:45.120455Z"
    },
    "papermill": {
     "duration": 0.055869,
     "end_time": "2022-04-30T13:24:07.138815",
     "exception": false,
     "start_time": "2022-04-30T13:24:07.082946",
     "status": "completed"
    },
    "tags": []
   },
   "outputs": [
    {
     "data": {
      "text/plain": [
       "(6335, (6335,))"
      ]
     },
     "execution_count": 21,
     "metadata": {},
     "output_type": "execute_result"
    }
   ],
   "source": [
    "len(embedded_docs),y.shape"
   ]
  },
  {
   "cell_type": "code",
   "execution_count": 22,
   "id": "dac381fb",
   "metadata": {
    "execution": {
     "iopub.execute_input": "2022-04-30T13:24:07.233230Z",
     "iopub.status.busy": "2022-04-30T13:24:07.232560Z",
     "iopub.status.idle": "2022-04-30T13:24:07.236911Z",
     "shell.execute_reply": "2022-04-30T13:24:07.236231Z",
     "shell.execute_reply.started": "2022-04-30T13:20:46.257444Z"
    },
    "papermill": {
     "duration": 0.053999,
     "end_time": "2022-04-30T13:24:07.237038",
     "exception": false,
     "start_time": "2022-04-30T13:24:07.183039",
     "status": "completed"
    },
    "tags": []
   },
   "outputs": [],
   "source": [
    "X_final=np.array(embedded_docs)\n",
    "y_final=np.array(y)"
   ]
  },
  {
   "cell_type": "code",
   "execution_count": 23,
   "id": "8e430b4c",
   "metadata": {
    "execution": {
     "iopub.execute_input": "2022-04-30T13:24:07.331142Z",
     "iopub.status.busy": "2022-04-30T13:24:07.330250Z",
     "iopub.status.idle": "2022-04-30T13:24:07.333774Z",
     "shell.execute_reply": "2022-04-30T13:24:07.334306Z",
     "shell.execute_reply.started": "2022-04-30T13:20:47.090247Z"
    },
    "papermill": {
     "duration": 0.053567,
     "end_time": "2022-04-30T13:24:07.334469",
     "exception": false,
     "start_time": "2022-04-30T13:24:07.280902",
     "status": "completed"
    },
    "tags": []
   },
   "outputs": [
    {
     "data": {
      "text/plain": [
       "((6335, 26), (6335,))"
      ]
     },
     "execution_count": 23,
     "metadata": {},
     "output_type": "execute_result"
    }
   ],
   "source": [
    "X_final.shape,y_final.shape"
   ]
  },
  {
   "cell_type": "markdown",
   "id": "b2460acc",
   "metadata": {
    "papermill": {
     "duration": 0.044309,
     "end_time": "2022-04-30T13:24:07.424739",
     "exception": false,
     "start_time": "2022-04-30T13:24:07.380430",
     "status": "completed"
    },
    "tags": []
   },
   "source": [
    "### Splitting Dataset into Train and Test "
   ]
  },
  {
   "cell_type": "code",
   "execution_count": 24,
   "id": "4fa517b1",
   "metadata": {
    "execution": {
     "iopub.execute_input": "2022-04-30T13:24:07.519978Z",
     "iopub.status.busy": "2022-04-30T13:24:07.518775Z",
     "iopub.status.idle": "2022-04-30T13:24:07.524815Z",
     "shell.execute_reply": "2022-04-30T13:24:07.524260Z",
     "shell.execute_reply.started": "2022-04-30T13:20:48.784887Z"
    },
    "papermill": {
     "duration": 0.054799,
     "end_time": "2022-04-30T13:24:07.524933",
     "exception": false,
     "start_time": "2022-04-30T13:24:07.470134",
     "status": "completed"
    },
    "tags": []
   },
   "outputs": [],
   "source": [
    "from sklearn.model_selection import train_test_split\n",
    "X_train, X_test, y_train, y_test = train_test_split(X_final, y_final, test_size=0.33, random_state=0)"
   ]
  },
  {
   "cell_type": "code",
   "execution_count": 25,
   "id": "bc52b364",
   "metadata": {
    "execution": {
     "iopub.execute_input": "2022-04-30T13:24:07.620420Z",
     "iopub.status.busy": "2022-04-30T13:24:07.619288Z",
     "iopub.status.idle": "2022-04-30T13:24:07.621748Z",
     "shell.execute_reply": "2022-04-30T13:24:07.622288Z",
     "shell.execute_reply.started": "2022-04-30T13:20:50.478476Z"
    },
    "papermill": {
     "duration": 0.052574,
     "end_time": "2022-04-30T13:24:07.622487",
     "exception": false,
     "start_time": "2022-04-30T13:24:07.569913",
     "status": "completed"
    },
    "tags": []
   },
   "outputs": [],
   "source": [
    "y_train1 =tf.convert_to_tensor(y_train, dtype=tf.int64)\n",
    "y_test1 =tf.convert_to_tensor(y_test, dtype=tf.int64)"
   ]
  },
  {
   "cell_type": "markdown",
   "id": "b809284e",
   "metadata": {
    "papermill": {
     "duration": 0.044595,
     "end_time": "2022-04-30T13:24:07.710979",
     "exception": false,
     "start_time": "2022-04-30T13:24:07.666384",
     "status": "completed"
    },
    "tags": []
   },
   "source": [
    "### Model Training"
   ]
  },
  {
   "cell_type": "code",
   "execution_count": 26,
   "id": "aa849e11",
   "metadata": {
    "execution": {
     "iopub.execute_input": "2022-04-30T13:24:07.804490Z",
     "iopub.status.busy": "2022-04-30T13:24:07.803724Z",
     "iopub.status.idle": "2022-04-30T13:24:40.401650Z",
     "shell.execute_reply": "2022-04-30T13:24:40.402156Z",
     "shell.execute_reply.started": "2022-04-30T13:20:54.210672Z"
    },
    "papermill": {
     "duration": 32.646459,
     "end_time": "2022-04-30T13:24:40.402418",
     "exception": false,
     "start_time": "2022-04-30T13:24:07.755959",
     "status": "completed"
    },
    "tags": []
   },
   "outputs": [
    {
     "name": "stderr",
     "output_type": "stream",
     "text": [
      "2022-04-30 13:24:07.857214: I tensorflow/compiler/mlir/mlir_graph_optimization_pass.cc:185] None of the MLIR Optimization Passes are enabled (registered 2)\n"
     ]
    },
    {
     "name": "stdout",
     "output_type": "stream",
     "text": [
      "Epoch 1/50\n"
     ]
    },
    {
     "name": "stderr",
     "output_type": "stream",
     "text": [
      "2022-04-30 13:24:11.060028: I tensorflow/stream_executor/cuda/cuda_dnn.cc:369] Loaded cuDNN version 8005\n"
     ]
    },
    {
     "name": "stdout",
     "output_type": "stream",
     "text": [
      "67/67 [==============================] - 5s 15ms/step - loss: 0.6517 - accuracy: 0.6320 - val_loss: 0.5610 - val_accuracy: 0.7264\n",
      "Epoch 2/50\n",
      "67/67 [==============================] - 1s 8ms/step - loss: 0.4060 - accuracy: 0.8273 - val_loss: 0.4536 - val_accuracy: 0.7905\n",
      "Epoch 3/50\n",
      "67/67 [==============================] - 1s 8ms/step - loss: 0.2655 - accuracy: 0.8893 - val_loss: 0.5056 - val_accuracy: 0.7896\n",
      "Epoch 4/50\n",
      "67/67 [==============================] - 0s 7ms/step - loss: 0.1901 - accuracy: 0.9284 - val_loss: 0.6385 - val_accuracy: 0.7719\n",
      "Epoch 5/50\n",
      "67/67 [==============================] - 1s 8ms/step - loss: 0.1386 - accuracy: 0.9493 - val_loss: 0.7833 - val_accuracy: 0.7618\n",
      "Epoch 6/50\n",
      "67/67 [==============================] - 0s 7ms/step - loss: 0.1014 - accuracy: 0.9632 - val_loss: 0.7807 - val_accuracy: 0.7700\n",
      "Epoch 7/50\n",
      "67/67 [==============================] - 1s 8ms/step - loss: 0.0773 - accuracy: 0.9767 - val_loss: 0.8570 - val_accuracy: 0.7695\n",
      "Epoch 8/50\n",
      "67/67 [==============================] - 0s 7ms/step - loss: 0.0570 - accuracy: 0.9830 - val_loss: 1.1760 - val_accuracy: 0.7618\n",
      "Epoch 9/50\n",
      "67/67 [==============================] - 0s 7ms/step - loss: 0.0481 - accuracy: 0.9861 - val_loss: 1.1661 - val_accuracy: 0.7571\n",
      "Epoch 10/50\n",
      "67/67 [==============================] - 1s 8ms/step - loss: 0.0434 - accuracy: 0.9882 - val_loss: 1.2743 - val_accuracy: 0.7628\n",
      "Epoch 11/50\n",
      "67/67 [==============================] - 0s 7ms/step - loss: 0.0451 - accuracy: 0.9880 - val_loss: 1.3480 - val_accuracy: 0.7614\n",
      "Epoch 12/50\n",
      "67/67 [==============================] - 0s 7ms/step - loss: 0.0211 - accuracy: 0.9953 - val_loss: 1.4494 - val_accuracy: 0.7585\n",
      "Epoch 13/50\n",
      "67/67 [==============================] - 1s 8ms/step - loss: 0.0131 - accuracy: 0.9974 - val_loss: 1.5501 - val_accuracy: 0.7556\n",
      "Epoch 14/50\n",
      "67/67 [==============================] - 0s 7ms/step - loss: 0.0089 - accuracy: 0.9984 - val_loss: 1.7408 - val_accuracy: 0.7585\n",
      "Epoch 15/50\n",
      "67/67 [==============================] - 1s 11ms/step - loss: 0.0082 - accuracy: 0.9986 - val_loss: 1.4860 - val_accuracy: 0.7518\n",
      "Epoch 16/50\n",
      "67/67 [==============================] - 1s 9ms/step - loss: 0.0079 - accuracy: 0.9986 - val_loss: 1.7394 - val_accuracy: 0.7594\n",
      "Epoch 17/50\n",
      "67/67 [==============================] - 0s 7ms/step - loss: 0.0083 - accuracy: 0.9984 - val_loss: 1.5482 - val_accuracy: 0.7590\n",
      "Epoch 18/50\n",
      "67/67 [==============================] - 0s 7ms/step - loss: 0.0148 - accuracy: 0.9986 - val_loss: 1.7682 - val_accuracy: 0.7542\n",
      "Epoch 19/50\n",
      "67/67 [==============================] - 0s 7ms/step - loss: 0.0030 - accuracy: 0.9998 - val_loss: 2.0407 - val_accuracy: 0.7527\n",
      "Epoch 20/50\n",
      "67/67 [==============================] - 1s 7ms/step - loss: 0.0028 - accuracy: 0.9995 - val_loss: 1.9167 - val_accuracy: 0.7537\n",
      "Epoch 21/50\n",
      "67/67 [==============================] - 1s 8ms/step - loss: 0.0017 - accuracy: 0.9998 - val_loss: 2.1252 - val_accuracy: 0.7523\n",
      "Epoch 22/50\n",
      "67/67 [==============================] - 1s 8ms/step - loss: 0.0045 - accuracy: 0.9988 - val_loss: 1.7986 - val_accuracy: 0.7518\n",
      "Epoch 23/50\n",
      "67/67 [==============================] - 0s 7ms/step - loss: 0.0057 - accuracy: 0.9984 - val_loss: 1.7349 - val_accuracy: 0.7547\n",
      "Epoch 24/50\n",
      "67/67 [==============================] - 0s 7ms/step - loss: 0.0194 - accuracy: 0.9955 - val_loss: 1.6050 - val_accuracy: 0.7609\n",
      "Epoch 25/50\n",
      "67/67 [==============================] - 0s 7ms/step - loss: 0.0078 - accuracy: 0.9984 - val_loss: 1.6623 - val_accuracy: 0.7599\n",
      "Epoch 26/50\n",
      "67/67 [==============================] - 1s 8ms/step - loss: 0.0027 - accuracy: 0.9998 - val_loss: 1.8862 - val_accuracy: 0.7618\n",
      "Epoch 27/50\n",
      "67/67 [==============================] - 1s 8ms/step - loss: 0.0015 - accuracy: 0.9998 - val_loss: 2.0174 - val_accuracy: 0.7628\n",
      "Epoch 28/50\n",
      "67/67 [==============================] - 1s 8ms/step - loss: 9.4557e-04 - accuracy: 0.9998 - val_loss: 2.1652 - val_accuracy: 0.7614\n",
      "Epoch 29/50\n",
      "67/67 [==============================] - 1s 8ms/step - loss: 0.0011 - accuracy: 0.9995 - val_loss: 2.2787 - val_accuracy: 0.7637\n",
      "Epoch 30/50\n",
      "67/67 [==============================] - 1s 7ms/step - loss: 8.9395e-04 - accuracy: 0.9998 - val_loss: 2.3599 - val_accuracy: 0.7590\n",
      "Epoch 31/50\n",
      "67/67 [==============================] - 1s 8ms/step - loss: 0.0011 - accuracy: 0.9995 - val_loss: 2.2622 - val_accuracy: 0.7614\n",
      "Epoch 32/50\n",
      "67/67 [==============================] - 0s 7ms/step - loss: 9.4912e-04 - accuracy: 0.9995 - val_loss: 2.4085 - val_accuracy: 0.7575\n",
      "Epoch 33/50\n",
      "67/67 [==============================] - 1s 7ms/step - loss: 9.6691e-04 - accuracy: 0.9998 - val_loss: 2.2955 - val_accuracy: 0.7647\n",
      "Epoch 34/50\n",
      "67/67 [==============================] - 1s 8ms/step - loss: 0.0011 - accuracy: 0.9995 - val_loss: 2.3601 - val_accuracy: 0.7618\n",
      "Epoch 35/50\n",
      "67/67 [==============================] - 0s 7ms/step - loss: 0.0010 - accuracy: 0.9995 - val_loss: 2.3618 - val_accuracy: 0.7623\n",
      "Epoch 36/50\n",
      "67/67 [==============================] - 1s 11ms/step - loss: 7.9724e-04 - accuracy: 0.9998 - val_loss: 2.4255 - val_accuracy: 0.7561\n",
      "Epoch 37/50\n",
      "67/67 [==============================] - 1s 15ms/step - loss: 7.8523e-04 - accuracy: 0.9998 - val_loss: 2.3733 - val_accuracy: 0.7618\n",
      "Epoch 38/50\n",
      "67/67 [==============================] - 1s 11ms/step - loss: 6.7063e-04 - accuracy: 0.9998 - val_loss: 2.4772 - val_accuracy: 0.7566\n",
      "Epoch 39/50\n",
      "67/67 [==============================] - 1s 9ms/step - loss: 6.2689e-04 - accuracy: 0.9998 - val_loss: 2.4628 - val_accuracy: 0.7628\n",
      "Epoch 40/50\n",
      "67/67 [==============================] - 1s 9ms/step - loss: 9.6933e-04 - accuracy: 0.9995 - val_loss: 2.3778 - val_accuracy: 0.7628\n",
      "Epoch 41/50\n",
      "67/67 [==============================] - 1s 8ms/step - loss: 8.4155e-04 - accuracy: 0.9998 - val_loss: 2.4116 - val_accuracy: 0.7618\n",
      "Epoch 42/50\n",
      "67/67 [==============================] - 1s 9ms/step - loss: 7.2506e-04 - accuracy: 0.9998 - val_loss: 2.5816 - val_accuracy: 0.7618\n",
      "Epoch 43/50\n",
      "67/67 [==============================] - 1s 9ms/step - loss: 8.6601e-04 - accuracy: 0.9998 - val_loss: 2.3239 - val_accuracy: 0.7585\n",
      "Epoch 44/50\n",
      "67/67 [==============================] - 1s 8ms/step - loss: 6.3699e-04 - accuracy: 0.9998 - val_loss: 2.5017 - val_accuracy: 0.7599\n",
      "Epoch 45/50\n",
      "67/67 [==============================] - 1s 8ms/step - loss: 6.4867e-04 - accuracy: 0.9998 - val_loss: 2.4962 - val_accuracy: 0.7580\n",
      "Epoch 46/50\n",
      "67/67 [==============================] - 1s 10ms/step - loss: 6.8185e-04 - accuracy: 0.9998 - val_loss: 2.5449 - val_accuracy: 0.7633\n",
      "Epoch 47/50\n",
      "67/67 [==============================] - 1s 8ms/step - loss: 8.0282e-04 - accuracy: 0.9998 - val_loss: 2.4435 - val_accuracy: 0.7614\n",
      "Epoch 48/50\n",
      "67/67 [==============================] - 0s 7ms/step - loss: 8.0121e-04 - accuracy: 0.9995 - val_loss: 2.4247 - val_accuracy: 0.7566\n",
      "Epoch 49/50\n",
      "67/67 [==============================] - 1s 8ms/step - loss: 5.9916e-04 - accuracy: 0.9998 - val_loss: 2.6031 - val_accuracy: 0.7628\n",
      "Epoch 50/50\n",
      "67/67 [==============================] - 0s 7ms/step - loss: 6.5589e-04 - accuracy: 0.9998 - val_loss: 2.4821 - val_accuracy: 0.7623\n"
     ]
    },
    {
     "data": {
      "text/plain": [
       "<keras.callbacks.History at 0x7f3cebe00450>"
      ]
     },
     "execution_count": 26,
     "metadata": {},
     "output_type": "execute_result"
    }
   ],
   "source": [
    "# Training\n",
    "model.fit(X_train,y_train1 ,validation_data=(X_test,y_test1),epochs=50,batch_size=64)"
   ]
  },
  {
   "cell_type": "markdown",
   "id": "4e877ab8",
   "metadata": {
    "papermill": {
     "duration": 0.230556,
     "end_time": "2022-04-30T13:24:40.866097",
     "exception": false,
     "start_time": "2022-04-30T13:24:40.635541",
     "status": "completed"
    },
    "tags": []
   },
   "source": [
    "### Performance Metrics And Accuracy"
   ]
  },
  {
   "cell_type": "code",
   "execution_count": 27,
   "id": "5ca83431",
   "metadata": {
    "execution": {
     "iopub.execute_input": "2022-04-30T13:24:41.337427Z",
     "iopub.status.busy": "2022-04-30T13:24:41.336450Z",
     "iopub.status.idle": "2022-04-30T13:24:41.892057Z",
     "shell.execute_reply": "2022-04-30T13:24:41.891170Z",
     "shell.execute_reply.started": "2022-04-30T13:21:37.257605Z"
    },
    "papermill": {
     "duration": 0.795522,
     "end_time": "2022-04-30T13:24:41.892220",
     "exception": false,
     "start_time": "2022-04-30T13:24:41.096698",
     "status": "completed"
    },
    "tags": []
   },
   "outputs": [],
   "source": [
    "y_pred=(model.predict(X_test) > 0.5).astype(\"int32\")"
   ]
  },
  {
   "cell_type": "code",
   "execution_count": 28,
   "id": "983304e5",
   "metadata": {
    "execution": {
     "iopub.execute_input": "2022-04-30T13:24:42.391583Z",
     "iopub.status.busy": "2022-04-30T13:24:42.390481Z",
     "iopub.status.idle": "2022-04-30T13:24:42.395739Z",
     "shell.execute_reply": "2022-04-30T13:24:42.396572Z",
     "shell.execute_reply.started": "2022-04-30T13:21:41.015927Z"
    },
    "papermill": {
     "duration": 0.268125,
     "end_time": "2022-04-30T13:24:42.396845",
     "exception": false,
     "start_time": "2022-04-30T13:24:42.128720",
     "status": "completed"
    },
    "tags": []
   },
   "outputs": [],
   "source": [
    "from sklearn.metrics import confusion_matrix"
   ]
  },
  {
   "cell_type": "code",
   "execution_count": 29,
   "id": "47db8b0a",
   "metadata": {
    "execution": {
     "iopub.execute_input": "2022-04-30T13:24:43.166271Z",
     "iopub.status.busy": "2022-04-30T13:24:43.165267Z",
     "iopub.status.idle": "2022-04-30T13:24:43.173162Z",
     "shell.execute_reply": "2022-04-30T13:24:43.173755Z",
     "shell.execute_reply.started": "2022-04-30T13:21:42.249927Z"
    },
    "papermill": {
     "duration": 0.300932,
     "end_time": "2022-04-30T13:24:43.173906",
     "exception": false,
     "start_time": "2022-04-30T13:24:42.872974",
     "status": "completed"
    },
    "tags": []
   },
   "outputs": [
    {
     "data": {
      "text/plain": [
       "array([[748, 279],\n",
       "       [218, 846]])"
      ]
     },
     "execution_count": 29,
     "metadata": {},
     "output_type": "execute_result"
    }
   ],
   "source": [
    "confusion_matrix(tf.convert_to_tensor(y_test, dtype=tf.int64),y_pred)"
   ]
  },
  {
   "cell_type": "code",
   "execution_count": 30,
   "id": "ef588a62",
   "metadata": {
    "execution": {
     "iopub.execute_input": "2022-04-30T13:24:43.651073Z",
     "iopub.status.busy": "2022-04-30T13:24:43.650095Z",
     "iopub.status.idle": "2022-04-30T13:24:43.656716Z",
     "shell.execute_reply": "2022-04-30T13:24:43.657191Z",
     "shell.execute_reply.started": "2022-04-30T13:21:43.534570Z"
    },
    "papermill": {
     "duration": 0.248979,
     "end_time": "2022-04-30T13:24:43.657406",
     "exception": false,
     "start_time": "2022-04-30T13:24:43.408427",
     "status": "completed"
    },
    "tags": []
   },
   "outputs": [
    {
     "data": {
      "text/plain": [
       "0.7623146819703491"
      ]
     },
     "execution_count": 30,
     "metadata": {},
     "output_type": "execute_result"
    }
   ],
   "source": [
    "from sklearn.metrics import accuracy_score\n",
    "accuracy_score(y_test1,y_pred)"
   ]
  },
  {
   "cell_type": "markdown",
   "id": "b4d9c177",
   "metadata": {
    "papermill": {
     "duration": 0.230096,
     "end_time": "2022-04-30T13:24:44.122529",
     "exception": false,
     "start_time": "2022-04-30T13:24:43.892433",
     "status": "completed"
    },
    "tags": []
   },
   "source": [
    "**The End**"
   ]
  }
 ],
 "metadata": {
  "kernelspec": {
   "display_name": "Python 3",
   "language": "python",
   "name": "python3"
  },
  "language_info": {
   "codemirror_mode": {
    "name": "ipython",
    "version": 3
   },
   "file_extension": ".py",
   "mimetype": "text/x-python",
   "name": "python",
   "nbconvert_exporter": "python",
   "pygments_lexer": "ipython3",
   "version": "3.7.12"
  },
  "papermill": {
   "default_parameters": {},
   "duration": 80.802636,
   "end_time": "2022-04-30T13:24:47.521897",
   "environment_variables": {},
   "exception": null,
   "input_path": "__notebook__.ipynb",
   "output_path": "__notebook__.ipynb",
   "parameters": {},
   "start_time": "2022-04-30T13:23:26.719261",
   "version": "2.3.3"
  }
 },
 "nbformat": 4,
 "nbformat_minor": 5
}
