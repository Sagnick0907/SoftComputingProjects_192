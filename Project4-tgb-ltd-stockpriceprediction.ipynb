{
 "cells": [
  {
   "cell_type": "markdown",
   "id": "e86c42b0",
   "metadata": {
    "papermill": {
     "duration": 0.196093,
     "end_time": "2022-04-30T14:14:40.478738",
     "exception": false,
     "start_time": "2022-04-30T14:14:40.282645",
     "status": "completed"
    },
    "tags": []
   },
   "source": [
    "### Stock Market Prediction And Forecasting Using Stacked LSTM for NSE-Tata-Global-Beverages-Ltd"
   ]
  },
  {
   "cell_type": "markdown",
   "id": "f70cd28f",
   "metadata": {
    "papermill": {
     "duration": 0.09946,
     "end_time": "2022-04-30T14:14:40.697417",
     "exception": false,
     "start_time": "2022-04-30T14:14:40.597957",
     "status": "completed"
    },
    "tags": []
   },
   "source": [
    "Author - Sagnick Bhar"
   ]
  },
  {
   "cell_type": "markdown",
   "id": "2071daf8",
   "metadata": {
    "papermill": {
     "duration": 0.078288,
     "end_time": "2022-04-30T14:14:40.934021",
     "exception": false,
     "start_time": "2022-04-30T14:14:40.855733",
     "status": "completed"
    },
    "tags": []
   },
   "source": [
    "### Importing Dataset"
   ]
  },
  {
   "cell_type": "code",
   "execution_count": 1,
   "id": "5040072d",
   "metadata": {
    "execution": {
     "iopub.execute_input": "2022-04-30T14:14:41.114163Z",
     "iopub.status.busy": "2022-04-30T14:14:41.113641Z",
     "iopub.status.idle": "2022-04-30T14:14:41.140970Z",
     "shell.execute_reply": "2022-04-30T14:14:41.140062Z"
    },
    "papermill": {
     "duration": 0.129676,
     "end_time": "2022-04-30T14:14:41.144413",
     "exception": false,
     "start_time": "2022-04-30T14:14:41.014737",
     "status": "completed"
    },
    "tags": []
   },
   "outputs": [],
   "source": [
    "import pandas as pd"
   ]
  },
  {
   "cell_type": "code",
   "execution_count": 2,
   "id": "d463394b",
   "metadata": {
    "execution": {
     "iopub.execute_input": "2022-04-30T14:14:41.304223Z",
     "iopub.status.busy": "2022-04-30T14:14:41.303826Z",
     "iopub.status.idle": "2022-04-30T14:14:41.329198Z",
     "shell.execute_reply": "2022-04-30T14:14:41.328018Z"
    },
    "papermill": {
     "duration": 0.108645,
     "end_time": "2022-04-30T14:14:41.333013",
     "exception": false,
     "start_time": "2022-04-30T14:14:41.224368",
     "status": "completed"
    },
    "tags": []
   },
   "outputs": [],
   "source": [
    "df=pd.read_csv('../input/tata-set/NSE-Tata-Global-Beverages-Limited.csv')"
   ]
  },
  {
   "cell_type": "code",
   "execution_count": 3,
   "id": "0bc068b9",
   "metadata": {
    "execution": {
     "iopub.execute_input": "2022-04-30T14:14:41.492644Z",
     "iopub.status.busy": "2022-04-30T14:14:41.492236Z",
     "iopub.status.idle": "2022-04-30T14:14:41.531958Z",
     "shell.execute_reply": "2022-04-30T14:14:41.530968Z"
    },
    "papermill": {
     "duration": 0.122462,
     "end_time": "2022-04-30T14:14:41.534617",
     "exception": false,
     "start_time": "2022-04-30T14:14:41.412155",
     "status": "completed"
    },
    "tags": []
   },
   "outputs": [
    {
     "data": {
      "text/html": [
       "<div>\n",
       "<style scoped>\n",
       "    .dataframe tbody tr th:only-of-type {\n",
       "        vertical-align: middle;\n",
       "    }\n",
       "\n",
       "    .dataframe tbody tr th {\n",
       "        vertical-align: top;\n",
       "    }\n",
       "\n",
       "    .dataframe thead th {\n",
       "        text-align: right;\n",
       "    }\n",
       "</style>\n",
       "<table border=\"1\" class=\"dataframe\">\n",
       "  <thead>\n",
       "    <tr style=\"text-align: right;\">\n",
       "      <th></th>\n",
       "      <th>Date</th>\n",
       "      <th>Open</th>\n",
       "      <th>High</th>\n",
       "      <th>Low</th>\n",
       "      <th>Last</th>\n",
       "      <th>Close</th>\n",
       "      <th>Total Trade Quantity</th>\n",
       "      <th>Turnover (Lacs)</th>\n",
       "    </tr>\n",
       "  </thead>\n",
       "  <tbody>\n",
       "    <tr>\n",
       "      <th>0</th>\n",
       "      <td>2018-10-08</td>\n",
       "      <td>208.00</td>\n",
       "      <td>222.25</td>\n",
       "      <td>206.85</td>\n",
       "      <td>216.00</td>\n",
       "      <td>215.15</td>\n",
       "      <td>4642146.0</td>\n",
       "      <td>10062.83</td>\n",
       "    </tr>\n",
       "    <tr>\n",
       "      <th>1</th>\n",
       "      <td>2018-10-05</td>\n",
       "      <td>217.00</td>\n",
       "      <td>218.60</td>\n",
       "      <td>205.90</td>\n",
       "      <td>210.25</td>\n",
       "      <td>209.20</td>\n",
       "      <td>3519515.0</td>\n",
       "      <td>7407.06</td>\n",
       "    </tr>\n",
       "    <tr>\n",
       "      <th>2</th>\n",
       "      <td>2018-10-04</td>\n",
       "      <td>223.50</td>\n",
       "      <td>227.80</td>\n",
       "      <td>216.15</td>\n",
       "      <td>217.25</td>\n",
       "      <td>218.20</td>\n",
       "      <td>1728786.0</td>\n",
       "      <td>3815.79</td>\n",
       "    </tr>\n",
       "    <tr>\n",
       "      <th>3</th>\n",
       "      <td>2018-10-03</td>\n",
       "      <td>230.00</td>\n",
       "      <td>237.50</td>\n",
       "      <td>225.75</td>\n",
       "      <td>226.45</td>\n",
       "      <td>227.60</td>\n",
       "      <td>1708590.0</td>\n",
       "      <td>3960.27</td>\n",
       "    </tr>\n",
       "    <tr>\n",
       "      <th>4</th>\n",
       "      <td>2018-10-01</td>\n",
       "      <td>234.55</td>\n",
       "      <td>234.60</td>\n",
       "      <td>221.05</td>\n",
       "      <td>230.30</td>\n",
       "      <td>230.90</td>\n",
       "      <td>1534749.0</td>\n",
       "      <td>3486.05</td>\n",
       "    </tr>\n",
       "  </tbody>\n",
       "</table>\n",
       "</div>"
      ],
      "text/plain": [
       "         Date    Open    High     Low    Last   Close  Total Trade Quantity  \\\n",
       "0  2018-10-08  208.00  222.25  206.85  216.00  215.15             4642146.0   \n",
       "1  2018-10-05  217.00  218.60  205.90  210.25  209.20             3519515.0   \n",
       "2  2018-10-04  223.50  227.80  216.15  217.25  218.20             1728786.0   \n",
       "3  2018-10-03  230.00  237.50  225.75  226.45  227.60             1708590.0   \n",
       "4  2018-10-01  234.55  234.60  221.05  230.30  230.90             1534749.0   \n",
       "\n",
       "   Turnover (Lacs)  \n",
       "0         10062.83  \n",
       "1          7407.06  \n",
       "2          3815.79  \n",
       "3          3960.27  \n",
       "4          3486.05  "
      ]
     },
     "execution_count": 3,
     "metadata": {},
     "output_type": "execute_result"
    }
   ],
   "source": [
    "df.head()"
   ]
  },
  {
   "cell_type": "code",
   "execution_count": 4,
   "id": "582259bd",
   "metadata": {
    "execution": {
     "iopub.execute_input": "2022-04-30T14:14:41.633664Z",
     "iopub.status.busy": "2022-04-30T14:14:41.632972Z",
     "iopub.status.idle": "2022-04-30T14:14:41.652069Z",
     "shell.execute_reply": "2022-04-30T14:14:41.651045Z"
    },
    "papermill": {
     "duration": 0.072164,
     "end_time": "2022-04-30T14:14:41.654873",
     "exception": false,
     "start_time": "2022-04-30T14:14:41.582709",
     "status": "completed"
    },
    "tags": []
   },
   "outputs": [
    {
     "data": {
      "text/html": [
       "<div>\n",
       "<style scoped>\n",
       "    .dataframe tbody tr th:only-of-type {\n",
       "        vertical-align: middle;\n",
       "    }\n",
       "\n",
       "    .dataframe tbody tr th {\n",
       "        vertical-align: top;\n",
       "    }\n",
       "\n",
       "    .dataframe thead th {\n",
       "        text-align: right;\n",
       "    }\n",
       "</style>\n",
       "<table border=\"1\" class=\"dataframe\">\n",
       "  <thead>\n",
       "    <tr style=\"text-align: right;\">\n",
       "      <th></th>\n",
       "      <th>Date</th>\n",
       "      <th>Open</th>\n",
       "      <th>High</th>\n",
       "      <th>Low</th>\n",
       "      <th>Last</th>\n",
       "      <th>Close</th>\n",
       "      <th>Total Trade Quantity</th>\n",
       "      <th>Turnover (Lacs)</th>\n",
       "    </tr>\n",
       "  </thead>\n",
       "  <tbody>\n",
       "    <tr>\n",
       "      <th>1230</th>\n",
       "      <td>2013-10-14</td>\n",
       "      <td>160.85</td>\n",
       "      <td>161.45</td>\n",
       "      <td>157.70</td>\n",
       "      <td>159.3</td>\n",
       "      <td>159.45</td>\n",
       "      <td>1281419.0</td>\n",
       "      <td>2039.09</td>\n",
       "    </tr>\n",
       "    <tr>\n",
       "      <th>1231</th>\n",
       "      <td>2013-10-11</td>\n",
       "      <td>161.15</td>\n",
       "      <td>163.45</td>\n",
       "      <td>159.00</td>\n",
       "      <td>159.8</td>\n",
       "      <td>160.05</td>\n",
       "      <td>1880046.0</td>\n",
       "      <td>3030.76</td>\n",
       "    </tr>\n",
       "    <tr>\n",
       "      <th>1232</th>\n",
       "      <td>2013-10-10</td>\n",
       "      <td>156.00</td>\n",
       "      <td>160.80</td>\n",
       "      <td>155.85</td>\n",
       "      <td>160.3</td>\n",
       "      <td>160.15</td>\n",
       "      <td>3124853.0</td>\n",
       "      <td>4978.80</td>\n",
       "    </tr>\n",
       "    <tr>\n",
       "      <th>1233</th>\n",
       "      <td>2013-10-09</td>\n",
       "      <td>155.70</td>\n",
       "      <td>158.20</td>\n",
       "      <td>154.15</td>\n",
       "      <td>155.3</td>\n",
       "      <td>155.55</td>\n",
       "      <td>2049580.0</td>\n",
       "      <td>3204.49</td>\n",
       "    </tr>\n",
       "    <tr>\n",
       "      <th>1234</th>\n",
       "      <td>2013-10-08</td>\n",
       "      <td>157.00</td>\n",
       "      <td>157.80</td>\n",
       "      <td>155.20</td>\n",
       "      <td>155.8</td>\n",
       "      <td>155.80</td>\n",
       "      <td>1720413.0</td>\n",
       "      <td>2688.94</td>\n",
       "    </tr>\n",
       "  </tbody>\n",
       "</table>\n",
       "</div>"
      ],
      "text/plain": [
       "            Date    Open    High     Low   Last   Close  Total Trade Quantity  \\\n",
       "1230  2013-10-14  160.85  161.45  157.70  159.3  159.45             1281419.0   \n",
       "1231  2013-10-11  161.15  163.45  159.00  159.8  160.05             1880046.0   \n",
       "1232  2013-10-10  156.00  160.80  155.85  160.3  160.15             3124853.0   \n",
       "1233  2013-10-09  155.70  158.20  154.15  155.3  155.55             2049580.0   \n",
       "1234  2013-10-08  157.00  157.80  155.20  155.8  155.80             1720413.0   \n",
       "\n",
       "      Turnover (Lacs)  \n",
       "1230          2039.09  \n",
       "1231          3030.76  \n",
       "1232          4978.80  \n",
       "1233          3204.49  \n",
       "1234          2688.94  "
      ]
     },
     "execution_count": 4,
     "metadata": {},
     "output_type": "execute_result"
    }
   ],
   "source": [
    "df.tail()"
   ]
  },
  {
   "cell_type": "code",
   "execution_count": 5,
   "id": "c32e94b6",
   "metadata": {
    "execution": {
     "iopub.execute_input": "2022-04-30T14:14:41.757123Z",
     "iopub.status.busy": "2022-04-30T14:14:41.756240Z",
     "iopub.status.idle": "2022-04-30T14:14:41.766583Z",
     "shell.execute_reply": "2022-04-30T14:14:41.765693Z"
    },
    "papermill": {
     "duration": 0.06364,
     "end_time": "2022-04-30T14:14:41.768914",
     "exception": false,
     "start_time": "2022-04-30T14:14:41.705274",
     "status": "completed"
    },
    "tags": []
   },
   "outputs": [],
   "source": [
    "## Selecting the 'close' column for our forecasting\n",
    "df1=df.reset_index()['Close']"
   ]
  },
  {
   "cell_type": "code",
   "execution_count": 6,
   "id": "62ac6394",
   "metadata": {
    "execution": {
     "iopub.execute_input": "2022-04-30T14:14:41.869477Z",
     "iopub.status.busy": "2022-04-30T14:14:41.869161Z",
     "iopub.status.idle": "2022-04-30T14:14:41.880075Z",
     "shell.execute_reply": "2022-04-30T14:14:41.878765Z"
    },
    "papermill": {
     "duration": 0.067296,
     "end_time": "2022-04-30T14:14:41.884860",
     "exception": false,
     "start_time": "2022-04-30T14:14:41.817564",
     "status": "completed"
    },
    "tags": []
   },
   "outputs": [
    {
     "data": {
      "text/plain": [
       "0       215.15\n",
       "1       209.20\n",
       "2       218.20\n",
       "3       227.60\n",
       "4       230.90\n",
       "         ...  \n",
       "1230    159.45\n",
       "1231    160.05\n",
       "1232    160.15\n",
       "1233    155.55\n",
       "1234    155.80\n",
       "Name: Close, Length: 1235, dtype: float64"
      ]
     },
     "execution_count": 6,
     "metadata": {},
     "output_type": "execute_result"
    }
   ],
   "source": [
    "df1"
   ]
  },
  {
   "cell_type": "code",
   "execution_count": 7,
   "id": "f2a75526",
   "metadata": {
    "execution": {
     "iopub.execute_input": "2022-04-30T14:14:41.990865Z",
     "iopub.status.busy": "2022-04-30T14:14:41.990536Z",
     "iopub.status.idle": "2022-04-30T14:14:42.253132Z",
     "shell.execute_reply": "2022-04-30T14:14:42.251971Z"
    },
    "papermill": {
     "duration": 0.317118,
     "end_time": "2022-04-30T14:14:42.255814",
     "exception": false,
     "start_time": "2022-04-30T14:14:41.938696",
     "status": "completed"
    },
    "tags": []
   },
   "outputs": [
    {
     "data": {
      "text/plain": [
       "[<matplotlib.lines.Line2D at 0x7f30655ab350>]"
      ]
     },
     "execution_count": 7,
     "metadata": {},
     "output_type": "execute_result"
    },
    {
     "data": {
      "image/png": "[encoded data removed]",
      "text/plain": [
       "<Figure size 432x288 with 1 Axes>"
      ]
     },
     "metadata": {
      "needs_background": "light"
     },
     "output_type": "display_data"
    }
   ],
   "source": [
    "#Plotting the data\n",
    "import matplotlib.pyplot as plt\n",
    "plt.plot(df1)"
   ]
  },
  {
   "cell_type": "code",
   "execution_count": 8,
   "id": "56b9553a",
   "metadata": {
    "execution": {
     "iopub.execute_input": "2022-04-30T14:14:42.360995Z",
     "iopub.status.busy": "2022-04-30T14:14:42.360681Z",
     "iopub.status.idle": "2022-04-30T14:14:42.365612Z",
     "shell.execute_reply": "2022-04-30T14:14:42.364599Z"
    },
    "papermill": {
     "duration": 0.060657,
     "end_time": "2022-04-30T14:14:42.367833",
     "exception": false,
     "start_time": "2022-04-30T14:14:42.307176",
     "status": "completed"
    },
    "tags": []
   },
   "outputs": [],
   "source": [
    "import numpy as np"
   ]
  },
  {
   "cell_type": "code",
   "execution_count": 9,
   "id": "179fca2f",
   "metadata": {
    "execution": {
     "iopub.execute_input": "2022-04-30T14:14:42.471350Z",
     "iopub.status.busy": "2022-04-30T14:14:42.470998Z",
     "iopub.status.idle": "2022-04-30T14:14:43.507076Z",
     "shell.execute_reply": "2022-04-30T14:14:43.505991Z"
    },
    "papermill": {
     "duration": 1.091906,
     "end_time": "2022-04-30T14:14:43.510137",
     "exception": false,
     "start_time": "2022-04-30T14:14:42.418231",
     "status": "completed"
    },
    "tags": []
   },
   "outputs": [],
   "source": [
    "### Note: LSTM are sensitive to the scale of the data. so we apply MinMax scaler \n",
    "from sklearn.preprocessing import MinMaxScaler\n",
    "scaler=MinMaxScaler(feature_range=(0,1))\n",
    "df1=scaler.fit_transform(np.array(df1).reshape(-1,1))"
   ]
  },
  {
   "cell_type": "code",
   "execution_count": 10,
   "id": "8f06e244",
   "metadata": {
    "execution": {
     "iopub.execute_input": "2022-04-30T14:14:43.612227Z",
     "iopub.status.busy": "2022-04-30T14:14:43.610634Z",
     "iopub.status.idle": "2022-04-30T14:14:43.619007Z",
     "shell.execute_reply": "2022-04-30T14:14:43.617280Z"
    },
    "papermill": {
     "duration": 0.062224,
     "end_time": "2022-04-30T14:14:43.622346",
     "exception": false,
     "start_time": "2022-04-30T14:14:43.560122",
     "status": "completed"
    },
    "tags": []
   },
   "outputs": [
    {
     "name": "stdout",
     "output_type": "stream",
     "text": [
      "[[0.50425818]\n",
      " [0.47758853]\n",
      " [0.51792918]\n",
      " ...\n",
      " [0.25773196]\n",
      " [0.2371134 ]\n",
      " [0.23823398]]\n"
     ]
    }
   ],
   "source": [
    "print(df1)"
   ]
  },
  {
   "cell_type": "code",
   "execution_count": 11,
   "id": "149a8119",
   "metadata": {
    "execution": {
     "iopub.execute_input": "2022-04-30T14:14:43.730697Z",
     "iopub.status.busy": "2022-04-30T14:14:43.730347Z",
     "iopub.status.idle": "2022-04-30T14:14:43.736124Z",
     "shell.execute_reply": "2022-04-30T14:14:43.735013Z"
    },
    "papermill": {
     "duration": 0.063017,
     "end_time": "2022-04-30T14:14:43.738509",
     "exception": false,
     "start_time": "2022-04-30T14:14:43.675492",
     "status": "completed"
    },
    "tags": []
   },
   "outputs": [],
   "source": [
    "##splitting Dataset into train and test split\n",
    "training_size=int(len(df1)*0.65)\n",
    "test_size=len(df1)-training_size\n",
    "train_data,test_data=df1[0:training_size,:],df1[training_size:len(df1),:1]"
   ]
  },
  {
   "cell_type": "code",
   "execution_count": 12,
   "id": "45e646ed",
   "metadata": {
    "execution": {
     "iopub.execute_input": "2022-04-30T14:14:43.845815Z",
     "iopub.status.busy": "2022-04-30T14:14:43.845523Z",
     "iopub.status.idle": "2022-04-30T14:14:43.852013Z",
     "shell.execute_reply": "2022-04-30T14:14:43.851008Z"
    },
    "papermill": {
     "duration": 0.063765,
     "end_time": "2022-04-30T14:14:43.854625",
     "exception": false,
     "start_time": "2022-04-30T14:14:43.790860",
     "status": "completed"
    },
    "tags": []
   },
   "outputs": [
    {
     "data": {
      "text/plain": [
       "(802, 433)"
      ]
     },
     "execution_count": 12,
     "metadata": {},
     "output_type": "execute_result"
    }
   ],
   "source": [
    "training_size,test_size"
   ]
  },
  {
   "cell_type": "code",
   "execution_count": 13,
   "id": "7b538d5e",
   "metadata": {
    "execution": {
     "iopub.execute_input": "2022-04-30T14:14:43.963925Z",
     "iopub.status.busy": "2022-04-30T14:14:43.963038Z",
     "iopub.status.idle": "2022-04-30T14:14:43.970526Z",
     "shell.execute_reply": "2022-04-30T14:14:43.969490Z"
    },
    "papermill": {
     "duration": 0.065302,
     "end_time": "2022-04-30T14:14:43.973149",
     "exception": false,
     "start_time": "2022-04-30T14:14:43.907847",
     "status": "completed"
    },
    "tags": []
   },
   "outputs": [
    {
     "data": {
      "text/plain": [
       "array([[0.50425818],\n",
       "       [0.47758853],\n",
       "       [0.51792918],\n",
       "       [0.56006275],\n",
       "       [0.57485433]])"
      ]
     },
     "execution_count": 13,
     "metadata": {},
     "output_type": "execute_result"
    }
   ],
   "source": [
    "train_data[0:5,]"
   ]
  },
  {
   "cell_type": "code",
   "execution_count": 14,
   "id": "9ea09836",
   "metadata": {
    "execution": {
     "iopub.execute_input": "2022-04-30T14:14:44.082601Z",
     "iopub.status.busy": "2022-04-30T14:14:44.081730Z",
     "iopub.status.idle": "2022-04-30T14:14:44.089180Z",
     "shell.execute_reply": "2022-04-30T14:14:44.088108Z"
    },
    "papermill": {
     "duration": 0.065447,
     "end_time": "2022-04-30T14:14:44.091897",
     "exception": false,
     "start_time": "2022-04-30T14:14:44.026450",
     "status": "completed"
    },
    "tags": []
   },
   "outputs": [],
   "source": [
    "import numpy\n",
    "# convert an array of values into a Dataset matrix\n",
    "def create_dataset(dataset, time_step=1):\n",
    "\tdataX, dataY = [], []\n",
    "\tfor i in range(len(dataset)-time_step-1):\n",
    "\t\ta = dataset[i:(i+time_step), 0]   ###i=0, dataX:0,1,2,3-----99   dataY:100 \n",
    "\t\tdataX.append(a)\n",
    "\t\tdataY.append(dataset[i + time_step, 0])\n",
    "\treturn numpy.array(dataX), numpy.array(dataY)"
   ]
  },
  {
   "cell_type": "code",
   "execution_count": 15,
   "id": "3014b54b",
   "metadata": {
    "execution": {
     "iopub.execute_input": "2022-04-30T14:14:44.203159Z",
     "iopub.status.busy": "2022-04-30T14:14:44.202831Z",
     "iopub.status.idle": "2022-04-30T14:14:44.212342Z",
     "shell.execute_reply": "2022-04-30T14:14:44.211342Z"
    },
    "papermill": {
     "duration": 0.067116,
     "end_time": "2022-04-30T14:14:44.214878",
     "exception": false,
     "start_time": "2022-04-30T14:14:44.147762",
     "status": "completed"
    },
    "tags": []
   },
   "outputs": [],
   "source": [
    "# reshape into X=t,t+1,t+2,t+3 and Y=t+4\n",
    "time_step = 100\n",
    "X_train, y_train = create_dataset(train_data, time_step)\n",
    "X_test, ytest = create_dataset(test_data, time_step)"
   ]
  },
  {
   "cell_type": "code",
   "execution_count": 16,
   "id": "4b363c11",
   "metadata": {
    "execution": {
     "iopub.execute_input": "2022-04-30T14:14:44.319852Z",
     "iopub.status.busy": "2022-04-30T14:14:44.319554Z",
     "iopub.status.idle": "2022-04-30T14:14:44.328353Z",
     "shell.execute_reply": "2022-04-30T14:14:44.326401Z"
    },
    "papermill": {
     "duration": 0.06507,
     "end_time": "2022-04-30T14:14:44.332299",
     "exception": false,
     "start_time": "2022-04-30T14:14:44.267229",
     "status": "completed"
    },
    "tags": []
   },
   "outputs": [
    {
     "name": "stdout",
     "output_type": "stream",
     "text": [
      "(701, 100)\n",
      "(701,)\n"
     ]
    },
    {
     "data": {
      "text/plain": [
       "(None, None)"
      ]
     },
     "execution_count": 16,
     "metadata": {},
     "output_type": "execute_result"
    }
   ],
   "source": [
    "print(X_train.shape), print(y_train.shape)"
   ]
  },
  {
   "cell_type": "code",
   "execution_count": 17,
   "id": "2f8a7859",
   "metadata": {
    "execution": {
     "iopub.execute_input": "2022-04-30T14:14:44.443135Z",
     "iopub.status.busy": "2022-04-30T14:14:44.442314Z",
     "iopub.status.idle": "2022-04-30T14:14:44.450388Z",
     "shell.execute_reply": "2022-04-30T14:14:44.449342Z"
    },
    "papermill": {
     "duration": 0.068077,
     "end_time": "2022-04-30T14:14:44.455303",
     "exception": false,
     "start_time": "2022-04-30T14:14:44.387226",
     "status": "completed"
    },
    "tags": []
   },
   "outputs": [
    {
     "name": "stdout",
     "output_type": "stream",
     "text": [
      "(332, 100)\n",
      "(332,)\n"
     ]
    },
    {
     "data": {
      "text/plain": [
       "(None, None)"
      ]
     },
     "execution_count": 17,
     "metadata": {},
     "output_type": "execute_result"
    }
   ],
   "source": [
    "print(X_test.shape), print(ytest.shape)"
   ]
  },
  {
   "cell_type": "code",
   "execution_count": 18,
   "id": "21a2304c",
   "metadata": {
    "execution": {
     "iopub.execute_input": "2022-04-30T14:14:44.565307Z",
     "iopub.status.busy": "2022-04-30T14:14:44.564494Z",
     "iopub.status.idle": "2022-04-30T14:14:44.570227Z",
     "shell.execute_reply": "2022-04-30T14:14:44.569073Z"
    },
    "papermill": {
     "duration": 0.062238,
     "end_time": "2022-04-30T14:14:44.573011",
     "exception": false,
     "start_time": "2022-04-30T14:14:44.510773",
     "status": "completed"
    },
    "tags": []
   },
   "outputs": [],
   "source": [
    "# Reshape input to be [samples, time steps, features] which is required for LSTM\n",
    "X_train =X_train.reshape(X_train.shape[0],X_train.shape[1] , 1)\n",
    "X_test = X_test.reshape(X_test.shape[0],X_test.shape[1] , 1)"
   ]
  },
  {
   "cell_type": "code",
   "execution_count": 19,
   "id": "3a5e2092",
   "metadata": {
    "execution": {
     "iopub.execute_input": "2022-04-30T14:14:44.682307Z",
     "iopub.status.busy": "2022-04-30T14:14:44.681960Z",
     "iopub.status.idle": "2022-04-30T14:14:50.503218Z",
     "shell.execute_reply": "2022-04-30T14:14:50.502171Z"
    },
    "papermill": {
     "duration": 5.879086,
     "end_time": "2022-04-30T14:14:50.505823",
     "exception": false,
     "start_time": "2022-04-30T14:14:44.626737",
     "status": "completed"
    },
    "tags": []
   },
   "outputs": [],
   "source": [
    "### Create the Stacked LSTM model\n",
    "from tensorflow.keras.models import Sequential\n",
    "from tensorflow.keras.layers import Dense\n",
    "from tensorflow.keras.layers import LSTM"
   ]
  },
  {
   "cell_type": "code",
   "execution_count": 20,
   "id": "558a50fa",
   "metadata": {
    "execution": {
     "iopub.execute_input": "2022-04-30T14:14:50.612652Z",
     "iopub.status.busy": "2022-04-30T14:14:50.611691Z",
     "iopub.status.idle": "2022-04-30T14:14:54.431318Z",
     "shell.execute_reply": "2022-04-30T14:14:54.430281Z"
    },
    "papermill": {
     "duration": 3.875859,
     "end_time": "2022-04-30T14:14:54.434012",
     "exception": false,
     "start_time": "2022-04-30T14:14:50.558153",
     "status": "completed"
    },
    "tags": []
   },
   "outputs": [
    {
     "name": "stderr",
     "output_type": "stream",
     "text": [
      "2022-04-30 14:14:50.705921: I tensorflow/stream_executor/cuda/cuda_gpu_executor.cc:937] successful NUMA node read from SysFS had negative value (-1), but there must be at least one NUMA node, so returning NUMA node zero\n",
      "2022-04-30 14:14:50.844153: I tensorflow/stream_executor/cuda/cuda_gpu_executor.cc:937] successful NUMA node read from SysFS had negative value (-1), but there must be at least one NUMA node, so returning NUMA node zero\n",
      "2022-04-30 14:14:50.845661: I tensorflow/stream_executor/cuda/cuda_gpu_executor.cc:937] successful NUMA node read from SysFS had negative value (-1), but there must be at least one NUMA node, so returning NUMA node zero\n",
      "2022-04-30 14:14:50.847989: I tensorflow/core/platform/cpu_feature_guard.cc:142] This TensorFlow binary is optimized with oneAPI Deep Neural Network Library (oneDNN) to use the following CPU instructions in performance-critical operations:  AVX2 FMA\n",
      "To enable them in other operations, rebuild TensorFlow with the appropriate compiler flags.\n",
      "2022-04-30 14:14:50.848574: I tensorflow/stream_executor/cuda/cuda_gpu_executor.cc:937] successful NUMA node read from SysFS had negative value (-1), but there must be at least one NUMA node, so returning NUMA node zero\n",
      "2022-04-30 14:14:50.849885: I tensorflow/stream_executor/cuda/cuda_gpu_executor.cc:937] successful NUMA node read from SysFS had negative value (-1), but there must be at least one NUMA node, so returning NUMA node zero\n",
      "2022-04-30 14:14:50.851192: I tensorflow/stream_executor/cuda/cuda_gpu_executor.cc:937] successful NUMA node read from SysFS had negative value (-1), but there must be at least one NUMA node, so returning NUMA node zero\n",
      "2022-04-30 14:14:53.207429: I tensorflow/stream_executor/cuda/cuda_gpu_executor.cc:937] successful NUMA node read from SysFS had negative value (-1), but there must be at least one NUMA node, so returning NUMA node zero\n",
      "2022-04-30 14:14:53.208654: I tensorflow/stream_executor/cuda/cuda_gpu_executor.cc:937] successful NUMA node read from SysFS had negative value (-1), but there must be at least one NUMA node, so returning NUMA node zero\n",
      "2022-04-30 14:14:53.209709: I tensorflow/stream_executor/cuda/cuda_gpu_executor.cc:937] successful NUMA node read from SysFS had negative value (-1), but there must be at least one NUMA node, so returning NUMA node zero\n",
      "2022-04-30 14:14:53.211375: I tensorflow/core/common_runtime/gpu/gpu_device.cc:1510] Created device /job:localhost/replica:0/task:0/device:GPU:0 with 15403 MB memory:  -> device: 0, name: Tesla P100-PCIE-16GB, pci bus id: 0000:00:04.0, compute capability: 6.0\n"
     ]
    }
   ],
   "source": [
    "model=Sequential()\n",
    "model.add(LSTM(50,return_sequences=True,input_shape=(100,1)))\n",
    "model.add(LSTM(50,return_sequences=True))\n",
    "model.add(LSTM(50))\n",
    "model.add(Dense(1))\n",
    "model.compile(loss='mean_squared_error',optimizer='adam')\n"
   ]
  },
  {
   "cell_type": "code",
   "execution_count": 21,
   "id": "5c7c849b",
   "metadata": {
    "execution": {
     "iopub.execute_input": "2022-04-30T14:14:54.548470Z",
     "iopub.status.busy": "2022-04-30T14:14:54.547870Z",
     "iopub.status.idle": "2022-04-30T14:14:54.558580Z",
     "shell.execute_reply": "2022-04-30T14:14:54.557375Z"
    },
    "papermill": {
     "duration": 0.06865,
     "end_time": "2022-04-30T14:14:54.562327",
     "exception": false,
     "start_time": "2022-04-30T14:14:54.493677",
     "status": "completed"
    },
    "tags": []
   },
   "outputs": [
    {
     "name": "stdout",
     "output_type": "stream",
     "text": [
      "Model: \"sequential\"\n",
      "_________________________________________________________________\n",
      "Layer (type)                 Output Shape              Param #   \n",
      "=================================================================\n",
      "lstm (LSTM)                  (None, 100, 50)           10400     \n",
      "_________________________________________________________________\n",
      "lstm_1 (LSTM)                (None, 100, 50)           20200     \n",
      "_________________________________________________________________\n",
      "lstm_2 (LSTM)                (None, 50)                20200     \n",
      "_________________________________________________________________\n",
      "dense (Dense)                (None, 1)                 51        \n",
      "=================================================================\n",
      "Total params: 50,851\n",
      "Trainable params: 50,851\n",
      "Non-trainable params: 0\n",
      "_________________________________________________________________\n"
     ]
    }
   ],
   "source": [
    "model.summary()"
   ]
  },
  {
   "cell_type": "code",
   "execution_count": 22,
   "id": "9e07a1a7",
   "metadata": {
    "execution": {
     "iopub.execute_input": "2022-04-30T14:14:54.675417Z",
     "iopub.status.busy": "2022-04-30T14:14:54.675124Z",
     "iopub.status.idle": "2022-04-30T14:15:40.238049Z",
     "shell.execute_reply": "2022-04-30T14:15:40.236945Z"
    },
    "papermill": {
     "duration": 45.621751,
     "end_time": "2022-04-30T14:15:40.240397",
     "exception": false,
     "start_time": "2022-04-30T14:14:54.618646",
     "status": "completed"
    },
    "tags": []
   },
   "outputs": [
    {
     "name": "stderr",
     "output_type": "stream",
     "text": [
      "2022-04-30 14:14:54.738779: I tensorflow/compiler/mlir/mlir_graph_optimization_pass.cc:185] None of the MLIR Optimization Passes are enabled (registered 2)\n"
     ]
    },
    {
     "name": "stdout",
     "output_type": "stream",
     "text": [
      "Epoch 1/100\n"
     ]
    },
    {
     "name": "stderr",
     "output_type": "stream",
     "text": [
      "2022-04-30 14:15:00.241562: I tensorflow/stream_executor/cuda/cuda_dnn.cc:369] Loaded cuDNN version 8005\n"
     ]
    },
    {
     "name": "stdout",
     "output_type": "stream",
     "text": [
      "11/11 [==============================] - 9s 154ms/step - loss: 0.0561 - val_loss: 0.0093\n",
      "Epoch 2/100\n",
      "11/11 [==============================] - 0s 26ms/step - loss: 0.0108 - val_loss: 0.0012\n",
      "Epoch 3/100\n",
      "11/11 [==============================] - 0s 24ms/step - loss: 0.0038 - val_loss: 0.0030\n",
      "Epoch 4/100\n",
      "11/11 [==============================] - 0s 24ms/step - loss: 0.0031 - val_loss: 0.0010\n",
      "Epoch 5/100\n",
      "11/11 [==============================] - 0s 25ms/step - loss: 0.0027 - val_loss: 9.0031e-04\n",
      "Epoch 6/100\n",
      "11/11 [==============================] - 0s 27ms/step - loss: 0.0027 - val_loss: 9.6928e-04\n",
      "Epoch 7/100\n",
      "11/11 [==============================] - 0s 25ms/step - loss: 0.0025 - val_loss: 8.7282e-04\n",
      "Epoch 8/100\n",
      "11/11 [==============================] - 0s 26ms/step - loss: 0.0025 - val_loss: 9.4970e-04\n",
      "Epoch 9/100\n",
      "11/11 [==============================] - 0s 25ms/step - loss: 0.0023 - val_loss: 9.7238e-04\n",
      "Epoch 10/100\n",
      "11/11 [==============================] - 0s 27ms/step - loss: 0.0022 - val_loss: 8.9250e-04\n",
      "Epoch 11/100\n",
      "11/11 [==============================] - 0s 25ms/step - loss: 0.0023 - val_loss: 8.2590e-04\n",
      "Epoch 12/100\n",
      "11/11 [==============================] - 0s 25ms/step - loss: 0.0022 - val_loss: 8.6662e-04\n",
      "Epoch 13/100\n",
      "11/11 [==============================] - 0s 25ms/step - loss: 0.0020 - val_loss: 8.2181e-04\n",
      "Epoch 14/100\n",
      "11/11 [==============================] - 0s 24ms/step - loss: 0.0022 - val_loss: 8.1965e-04\n",
      "Epoch 15/100\n",
      "11/11 [==============================] - 0s 24ms/step - loss: 0.0022 - val_loss: 7.6296e-04\n",
      "Epoch 16/100\n",
      "11/11 [==============================] - 0s 24ms/step - loss: 0.0018 - val_loss: 9.2736e-04\n",
      "Epoch 17/100\n",
      "11/11 [==============================] - 0s 25ms/step - loss: 0.0018 - val_loss: 7.9484e-04\n",
      "Epoch 18/100\n",
      "11/11 [==============================] - 0s 24ms/step - loss: 0.0017 - val_loss: 7.8196e-04\n",
      "Epoch 19/100\n",
      "11/11 [==============================] - 0s 24ms/step - loss: 0.0016 - val_loss: 7.2576e-04\n",
      "Epoch 20/100\n",
      "11/11 [==============================] - 0s 25ms/step - loss: 0.0017 - val_loss: 0.0010\n",
      "Epoch 21/100\n",
      "11/11 [==============================] - 0s 25ms/step - loss: 0.0016 - val_loss: 7.4668e-04\n",
      "Epoch 22/100\n",
      "11/11 [==============================] - 0s 25ms/step - loss: 0.0015 - val_loss: 8.6141e-04\n",
      "Epoch 23/100\n",
      "11/11 [==============================] - 0s 25ms/step - loss: 0.0015 - val_loss: 7.0283e-04\n",
      "Epoch 24/100\n",
      "11/11 [==============================] - 0s 26ms/step - loss: 0.0014 - val_loss: 6.8679e-04\n",
      "Epoch 25/100\n",
      "11/11 [==============================] - 0s 27ms/step - loss: 0.0015 - val_loss: 6.9315e-04\n",
      "Epoch 26/100\n",
      "11/11 [==============================] - 0s 27ms/step - loss: 0.0014 - val_loss: 7.1660e-04\n",
      "Epoch 27/100\n",
      "11/11 [==============================] - 0s 26ms/step - loss: 0.0013 - val_loss: 7.9419e-04\n",
      "Epoch 28/100\n",
      "11/11 [==============================] - 0s 25ms/step - loss: 0.0013 - val_loss: 6.6878e-04\n",
      "Epoch 29/100\n",
      "11/11 [==============================] - 0s 24ms/step - loss: 0.0013 - val_loss: 6.3964e-04\n",
      "Epoch 30/100\n",
      "11/11 [==============================] - 0s 26ms/step - loss: 0.0014 - val_loss: 6.9181e-04\n",
      "Epoch 31/100\n",
      "11/11 [==============================] - 0s 26ms/step - loss: 0.0013 - val_loss: 7.4727e-04\n",
      "Epoch 32/100\n",
      "11/11 [==============================] - 0s 25ms/step - loss: 0.0013 - val_loss: 6.4504e-04\n",
      "Epoch 33/100\n",
      "11/11 [==============================] - 0s 26ms/step - loss: 0.0012 - val_loss: 8.2002e-04\n",
      "Epoch 34/100\n",
      "11/11 [==============================] - 0s 25ms/step - loss: 0.0014 - val_loss: 6.0140e-04\n",
      "Epoch 35/100\n",
      "11/11 [==============================] - 0s 43ms/step - loss: 0.0012 - val_loss: 6.5594e-04\n",
      "Epoch 36/100\n",
      "11/11 [==============================] - 1s 54ms/step - loss: 0.0012 - val_loss: 7.4502e-04\n",
      "Epoch 37/100\n",
      "11/11 [==============================] - 1s 49ms/step - loss: 0.0016 - val_loss: 6.2345e-04\n",
      "Epoch 38/100\n",
      "11/11 [==============================] - 0s 32ms/step - loss: 0.0015 - val_loss: 7.8071e-04\n",
      "Epoch 39/100\n",
      "11/11 [==============================] - 0s 27ms/step - loss: 0.0015 - val_loss: 0.0012\n",
      "Epoch 40/100\n",
      "11/11 [==============================] - 0s 26ms/step - loss: 0.0012 - val_loss: 6.9291e-04\n",
      "Epoch 41/100\n",
      "11/11 [==============================] - 0s 25ms/step - loss: 0.0010 - val_loss: 8.5471e-04\n",
      "Epoch 42/100\n",
      "11/11 [==============================] - 0s 25ms/step - loss: 0.0011 - val_loss: 7.1706e-04\n",
      "Epoch 43/100\n",
      "11/11 [==============================] - 0s 25ms/step - loss: 0.0011 - val_loss: 5.6148e-04\n",
      "Epoch 44/100\n",
      "11/11 [==============================] - 0s 25ms/step - loss: 0.0010 - val_loss: 6.1140e-04\n",
      "Epoch 45/100\n",
      "11/11 [==============================] - 0s 25ms/step - loss: 9.6816e-04 - val_loss: 6.9273e-04\n",
      "Epoch 46/100\n",
      "11/11 [==============================] - 0s 25ms/step - loss: 9.5689e-04 - val_loss: 5.6461e-04\n",
      "Epoch 47/100\n",
      "11/11 [==============================] - 0s 25ms/step - loss: 9.9961e-04 - val_loss: 7.0631e-04\n",
      "Epoch 48/100\n",
      "11/11 [==============================] - 0s 25ms/step - loss: 0.0010 - val_loss: 5.2682e-04\n",
      "Epoch 49/100\n",
      "11/11 [==============================] - 0s 24ms/step - loss: 9.8824e-04 - val_loss: 5.2037e-04\n",
      "Epoch 50/100\n",
      "11/11 [==============================] - 0s 25ms/step - loss: 9.5326e-04 - val_loss: 5.6562e-04\n",
      "Epoch 51/100\n",
      "11/11 [==============================] - 0s 27ms/step - loss: 9.1219e-04 - val_loss: 6.5453e-04\n",
      "Epoch 52/100\n",
      "11/11 [==============================] - 0s 25ms/step - loss: 8.8843e-04 - val_loss: 5.1018e-04\n",
      "Epoch 53/100\n",
      "11/11 [==============================] - 0s 27ms/step - loss: 8.4056e-04 - val_loss: 5.6216e-04\n",
      "Epoch 54/100\n",
      "11/11 [==============================] - 0s 26ms/step - loss: 8.3376e-04 - val_loss: 5.4277e-04\n",
      "Epoch 55/100\n",
      "11/11 [==============================] - 0s 25ms/step - loss: 8.1140e-04 - val_loss: 4.8229e-04\n",
      "Epoch 56/100\n",
      "11/11 [==============================] - 0s 25ms/step - loss: 8.5807e-04 - val_loss: 4.8560e-04\n",
      "Epoch 57/100\n",
      "11/11 [==============================] - 0s 25ms/step - loss: 8.0749e-04 - val_loss: 5.3442e-04\n",
      "Epoch 58/100\n",
      "11/11 [==============================] - 0s 26ms/step - loss: 7.5786e-04 - val_loss: 4.8141e-04\n",
      "Epoch 59/100\n",
      "11/11 [==============================] - 0s 27ms/step - loss: 9.2000e-04 - val_loss: 7.1434e-04\n",
      "Epoch 60/100\n",
      "11/11 [==============================] - 0s 25ms/step - loss: 8.7975e-04 - val_loss: 5.3095e-04\n",
      "Epoch 61/100\n",
      "11/11 [==============================] - 0s 26ms/step - loss: 7.7928e-04 - val_loss: 4.4019e-04\n",
      "Epoch 62/100\n",
      "11/11 [==============================] - 0s 25ms/step - loss: 6.9722e-04 - val_loss: 4.5273e-04\n",
      "Epoch 63/100\n",
      "11/11 [==============================] - 0s 26ms/step - loss: 7.3425e-04 - val_loss: 4.3567e-04\n",
      "Epoch 64/100\n",
      "11/11 [==============================] - 0s 26ms/step - loss: 0.0011 - val_loss: 5.0863e-04\n",
      "Epoch 65/100\n",
      "11/11 [==============================] - 0s 25ms/step - loss: 6.9722e-04 - val_loss: 4.7807e-04\n",
      "Epoch 66/100\n",
      "11/11 [==============================] - 0s 26ms/step - loss: 7.2038e-04 - val_loss: 5.2584e-04\n",
      "Epoch 67/100\n",
      "11/11 [==============================] - 0s 25ms/step - loss: 6.4772e-04 - val_loss: 4.5826e-04\n",
      "Epoch 68/100\n",
      "11/11 [==============================] - 0s 27ms/step - loss: 6.2920e-04 - val_loss: 4.0153e-04\n",
      "Epoch 69/100\n",
      "11/11 [==============================] - 0s 25ms/step - loss: 6.6152e-04 - val_loss: 4.0402e-04\n",
      "Epoch 70/100\n",
      "11/11 [==============================] - 0s 24ms/step - loss: 6.0706e-04 - val_loss: 4.1026e-04\n",
      "Epoch 71/100\n",
      "11/11 [==============================] - 0s 26ms/step - loss: 6.1935e-04 - val_loss: 3.7845e-04\n",
      "Epoch 72/100\n",
      "11/11 [==============================] - 0s 36ms/step - loss: 6.6577e-04 - val_loss: 4.4746e-04\n",
      "Epoch 73/100\n",
      "11/11 [==============================] - 0s 34ms/step - loss: 6.7339e-04 - val_loss: 3.6964e-04\n",
      "Epoch 74/100\n",
      "11/11 [==============================] - 0s 31ms/step - loss: 7.1427e-04 - val_loss: 3.6056e-04\n",
      "Epoch 75/100\n",
      "11/11 [==============================] - 0s 31ms/step - loss: 6.1777e-04 - val_loss: 4.9141e-04\n",
      "Epoch 76/100\n",
      "11/11 [==============================] - 0s 26ms/step - loss: 5.5201e-04 - val_loss: 3.9263e-04\n",
      "Epoch 77/100\n",
      "11/11 [==============================] - 0s 26ms/step - loss: 5.2449e-04 - val_loss: 3.4528e-04\n",
      "Epoch 78/100\n",
      "11/11 [==============================] - 0s 25ms/step - loss: 6.1414e-04 - val_loss: 4.1235e-04\n",
      "Epoch 79/100\n",
      "11/11 [==============================] - 0s 25ms/step - loss: 5.7979e-04 - val_loss: 3.5556e-04\n",
      "Epoch 80/100\n",
      "11/11 [==============================] - 0s 25ms/step - loss: 6.4467e-04 - val_loss: 3.6328e-04\n",
      "Epoch 81/100\n",
      "11/11 [==============================] - 0s 24ms/step - loss: 5.5237e-04 - val_loss: 3.3196e-04\n",
      "Epoch 82/100\n",
      "11/11 [==============================] - 0s 23ms/step - loss: 6.1674e-04 - val_loss: 4.0101e-04\n",
      "Epoch 83/100\n",
      "11/11 [==============================] - 0s 24ms/step - loss: 5.9220e-04 - val_loss: 3.1956e-04\n",
      "Epoch 84/100\n",
      "11/11 [==============================] - 0s 25ms/step - loss: 5.3468e-04 - val_loss: 4.2878e-04\n",
      "Epoch 85/100\n",
      "11/11 [==============================] - 0s 29ms/step - loss: 5.5084e-04 - val_loss: 3.3479e-04\n",
      "Epoch 86/100\n",
      "11/11 [==============================] - 0s 25ms/step - loss: 4.8479e-04 - val_loss: 4.0354e-04\n",
      "Epoch 87/100\n",
      "11/11 [==============================] - 0s 25ms/step - loss: 4.9815e-04 - val_loss: 2.9788e-04\n",
      "Epoch 88/100\n",
      "11/11 [==============================] - 0s 26ms/step - loss: 4.9145e-04 - val_loss: 3.7335e-04\n",
      "Epoch 89/100\n",
      "11/11 [==============================] - 0s 26ms/step - loss: 4.6945e-04 - val_loss: 2.9341e-04\n",
      "Epoch 90/100\n",
      "11/11 [==============================] - 0s 25ms/step - loss: 5.0388e-04 - val_loss: 3.9528e-04\n",
      "Epoch 91/100\n",
      "11/11 [==============================] - 0s 25ms/step - loss: 4.7343e-04 - val_loss: 2.8184e-04\n",
      "Epoch 92/100\n",
      "11/11 [==============================] - 0s 25ms/step - loss: 5.0923e-04 - val_loss: 3.0978e-04\n",
      "Epoch 93/100\n",
      "11/11 [==============================] - 0s 26ms/step - loss: 5.8117e-04 - val_loss: 3.1211e-04\n",
      "Epoch 94/100\n",
      "11/11 [==============================] - 0s 26ms/step - loss: 4.6733e-04 - val_loss: 2.9896e-04\n",
      "Epoch 95/100\n",
      "11/11 [==============================] - 0s 25ms/step - loss: 4.2001e-04 - val_loss: 2.7466e-04\n",
      "Epoch 96/100\n",
      "11/11 [==============================] - 0s 25ms/step - loss: 4.7409e-04 - val_loss: 5.4859e-04\n",
      "Epoch 97/100\n",
      "11/11 [==============================] - 0s 25ms/step - loss: 5.1263e-04 - val_loss: 2.7273e-04\n",
      "Epoch 98/100\n",
      "11/11 [==============================] - 0s 25ms/step - loss: 4.5098e-04 - val_loss: 2.8745e-04\n",
      "Epoch 99/100\n",
      "11/11 [==============================] - 0s 24ms/step - loss: 4.2000e-04 - val_loss: 3.0457e-04\n",
      "Epoch 100/100\n",
      "11/11 [==============================] - 0s 25ms/step - loss: 4.4374e-04 - val_loss: 2.7827e-04\n"
     ]
    },
    {
     "data": {
      "text/plain": [
       "<keras.callbacks.History at 0x7f300419f350>"
      ]
     },
     "execution_count": 22,
     "metadata": {},
     "output_type": "execute_result"
    }
   ],
   "source": [
    "model.fit(X_train,y_train,validation_data=(X_test,ytest),epochs=100,batch_size=64,verbose=1)"
   ]
  },
  {
   "cell_type": "code",
   "execution_count": 23,
   "id": "e50ce224",
   "metadata": {
    "execution": {
     "iopub.execute_input": "2022-04-30T14:15:40.814153Z",
     "iopub.status.busy": "2022-04-30T14:15:40.813828Z",
     "iopub.status.idle": "2022-04-30T14:15:42.150378Z",
     "shell.execute_reply": "2022-04-30T14:15:42.149372Z"
    },
    "papermill": {
     "duration": 1.628147,
     "end_time": "2022-04-30T14:15:42.152791",
     "exception": false,
     "start_time": "2022-04-30T14:15:40.524644",
     "status": "completed"
    },
    "tags": []
   },
   "outputs": [],
   "source": [
    "### Lets Do the prediction and check Performance Metrics\n",
    "train_predict=model.predict(X_train)\n",
    "test_predict=model.predict(X_test)"
   ]
  },
  {
   "cell_type": "code",
   "execution_count": 24,
   "id": "411fc921",
   "metadata": {
    "execution": {
     "iopub.execute_input": "2022-04-30T14:15:42.727829Z",
     "iopub.status.busy": "2022-04-30T14:15:42.726881Z",
     "iopub.status.idle": "2022-04-30T14:15:42.734438Z",
     "shell.execute_reply": "2022-04-30T14:15:42.733438Z"
    },
    "papermill": {
     "duration": 0.299136,
     "end_time": "2022-04-30T14:15:42.736781",
     "exception": false,
     "start_time": "2022-04-30T14:15:42.437645",
     "status": "completed"
    },
    "tags": []
   },
   "outputs": [],
   "source": [
    "##Transform back to original form\n",
    "train_predict=scaler.inverse_transform(train_predict)\n",
    "test_predict=scaler.inverse_transform(test_predict)"
   ]
  },
  {
   "cell_type": "code",
   "execution_count": 25,
   "id": "0a16f25a",
   "metadata": {
    "execution": {
     "iopub.execute_input": "2022-04-30T14:15:43.330614Z",
     "iopub.status.busy": "2022-04-30T14:15:43.330290Z",
     "iopub.status.idle": "2022-04-30T14:15:43.382016Z",
     "shell.execute_reply": "2022-04-30T14:15:43.381066Z"
    },
    "papermill": {
     "duration": 0.342468,
     "end_time": "2022-04-30T14:15:43.384571",
     "exception": false,
     "start_time": "2022-04-30T14:15:43.042103",
     "status": "completed"
    },
    "tags": []
   },
   "outputs": [
    {
     "data": {
      "text/plain": [
       "180.02595594932964"
      ]
     },
     "execution_count": 25,
     "metadata": {},
     "output_type": "execute_result"
    }
   ],
   "source": [
    "### Calculate RMSE performance metrics\n",
    "import math\n",
    "from sklearn.metrics import mean_squared_error\n",
    "math.sqrt(mean_squared_error(y_train,train_predict))"
   ]
  },
  {
   "cell_type": "code",
   "execution_count": 26,
   "id": "afd5aa2f",
   "metadata": {
    "execution": {
     "iopub.execute_input": "2022-04-30T14:15:43.962337Z",
     "iopub.status.busy": "2022-04-30T14:15:43.961996Z",
     "iopub.status.idle": "2022-04-30T14:15:43.970428Z",
     "shell.execute_reply": "2022-04-30T14:15:43.969360Z"
    },
    "papermill": {
     "duration": 0.303112,
     "end_time": "2022-04-30T14:15:43.972670",
     "exception": false,
     "start_time": "2022-04-30T14:15:43.669558",
     "status": "completed"
    },
    "tags": []
   },
   "outputs": [
    {
     "data": {
      "text/plain": [
       "154.97460186702534"
      ]
     },
     "execution_count": 26,
     "metadata": {},
     "output_type": "execute_result"
    }
   ],
   "source": [
    "### Test Data RMSE\n",
    "math.sqrt(mean_squared_error(ytest,test_predict))"
   ]
  },
  {
   "cell_type": "code",
   "execution_count": 27,
   "id": "07934184",
   "metadata": {
    "execution": {
     "iopub.execute_input": "2022-04-30T14:15:44.551146Z",
     "iopub.status.busy": "2022-04-30T14:15:44.550767Z",
     "iopub.status.idle": "2022-04-30T14:15:44.843612Z",
     "shell.execute_reply": "2022-04-30T14:15:44.842610Z"
    },
    "papermill": {
     "duration": 0.585842,
     "end_time": "2022-04-30T14:15:44.845782",
     "exception": false,
     "start_time": "2022-04-30T14:15:44.259940",
     "status": "completed"
    },
    "tags": []
   },
   "outputs": [
    {
     "data": {
      "image/png": "[encoded data removed]",
      "text/plain": [
       "<Figure size 1080x432 with 1 Axes>"
      ]
     },
     "metadata": {
      "needs_background": "light"
     },
     "output_type": "display_data"
    }
   ],
   "source": [
    "### Plotting Data\n",
    "# shift train predictions for plotting\n",
    "look_back=100\n",
    "trainPredictPlot = numpy.empty_like(df1)\n",
    "trainPredictPlot[:, :] = np.nan\n",
    "trainPredictPlot[look_back:len(train_predict)+look_back, :] = train_predict\n",
    "# shift test predictions for plotting\n",
    "testPredictPlot = numpy.empty_like(df1)\n",
    "testPredictPlot[:, :] = numpy.nan\n",
    "testPredictPlot[len(train_predict)+(look_back*2)+1:len(df1)-1, :] = test_predict\n",
    "# plot baseline and predictions\n",
    "plt.figure(figsize=(15,6))\n",
    "plt.plot(scaler.inverse_transform(df1), '-b', label='Train Data')\n",
    "plt.plot(trainPredictPlot,'--r', label='Train Predict',linewidth=2.0)\n",
    "plt.plot(testPredictPlot,'g', label='Test Predict', linewidth=2.0)\n",
    "leg = plt.legend();\n",
    "plt.show()"
   ]
  },
  {
   "cell_type": "markdown",
   "id": "2c23686f",
   "metadata": {
    "papermill": {
     "duration": 0.400816,
     "end_time": "2022-04-30T14:15:45.536011",
     "exception": false,
     "start_time": "2022-04-30T14:15:45.135195",
     "status": "completed"
    },
    "tags": []
   },
   "source": [
    "### Predicting Next 30 days"
   ]
  },
  {
   "cell_type": "code",
   "execution_count": 28,
   "id": "34995f47",
   "metadata": {
    "execution": {
     "iopub.execute_input": "2022-04-30T14:15:47.021145Z",
     "iopub.status.busy": "2022-04-30T14:15:47.020833Z",
     "iopub.status.idle": "2022-04-30T14:15:47.027717Z",
     "shell.execute_reply": "2022-04-30T14:15:47.026792Z"
    },
    "papermill": {
     "duration": 0.858154,
     "end_time": "2022-04-30T14:15:47.035933",
     "exception": false,
     "start_time": "2022-04-30T14:15:46.177779",
     "status": "completed"
    },
    "tags": []
   },
   "outputs": [
    {
     "data": {
      "text/plain": [
       "433"
      ]
     },
     "execution_count": 28,
     "metadata": {},
     "output_type": "execute_result"
    }
   ],
   "source": [
    "len(test_data)"
   ]
  },
  {
   "cell_type": "code",
   "execution_count": 29,
   "id": "c58dbcd4",
   "metadata": {
    "execution": {
     "iopub.execute_input": "2022-04-30T14:15:47.659000Z",
     "iopub.status.busy": "2022-04-30T14:15:47.658678Z",
     "iopub.status.idle": "2022-04-30T14:15:47.666690Z",
     "shell.execute_reply": "2022-04-30T14:15:47.665728Z"
    },
    "papermill": {
     "duration": 0.299835,
     "end_time": "2022-04-30T14:15:47.668986",
     "exception": false,
     "start_time": "2022-04-30T14:15:47.369151",
     "status": "completed"
    },
    "tags": []
   },
   "outputs": [
    {
     "data": {
      "text/plain": [
       "(1, 92)"
      ]
     },
     "execution_count": 29,
     "metadata": {},
     "output_type": "execute_result"
    }
   ],
   "source": [
    "x_input=test_data[341:].reshape(1,-1)\n",
    "x_input.shape"
   ]
  },
  {
   "cell_type": "code",
   "execution_count": 30,
   "id": "c50bab2b",
   "metadata": {
    "execution": {
     "iopub.execute_input": "2022-04-30T14:15:48.266236Z",
     "iopub.status.busy": "2022-04-30T14:15:48.265828Z",
     "iopub.status.idle": "2022-04-30T14:15:48.270850Z",
     "shell.execute_reply": "2022-04-30T14:15:48.269877Z"
    },
    "papermill": {
     "duration": 0.298904,
     "end_time": "2022-04-30T14:15:48.273135",
     "exception": false,
     "start_time": "2022-04-30T14:15:47.974231",
     "status": "completed"
    },
    "tags": []
   },
   "outputs": [],
   "source": [
    "temp_input=list(x_input)\n",
    "temp_input=temp_input[0].tolist()"
   ]
  },
  {
   "cell_type": "code",
   "execution_count": 31,
   "id": "12dc30e5",
   "metadata": {
    "execution": {
     "iopub.execute_input": "2022-04-30T14:15:48.858169Z",
     "iopub.status.busy": "2022-04-30T14:15:48.857830Z",
     "iopub.status.idle": "2022-04-30T14:15:48.865110Z",
     "shell.execute_reply": "2022-04-30T14:15:48.863833Z"
    },
    "papermill": {
     "duration": 0.304065,
     "end_time": "2022-04-30T14:15:48.868971",
     "exception": false,
     "start_time": "2022-04-30T14:15:48.564906",
     "status": "completed"
    },
    "tags": []
   },
   "outputs": [
    {
     "data": {
      "text/plain": [
       "[0.16248319139399375,\n",
       " 0.16987897803675484,\n",
       " 0.17525773195876287,\n",
       " 0.1855670103092784,\n",
       " 0.18915284625728362]"
      ]
     },
     "execution_count": 31,
     "metadata": {},
     "output_type": "execute_result"
    }
   ],
   "source": [
    "temp_input[0:5]"
   ]
  },
  {
   "cell_type": "code",
   "execution_count": 32,
   "id": "d14f2fed",
   "metadata": {
    "execution": {
     "iopub.execute_input": "2022-04-30T14:15:49.448161Z",
     "iopub.status.busy": "2022-04-30T14:15:49.447309Z",
     "iopub.status.idle": "2022-04-30T14:15:52.094637Z",
     "shell.execute_reply": "2022-04-30T14:15:52.093559Z"
    },
    "papermill": {
     "duration": 2.937824,
     "end_time": "2022-04-30T14:15:52.098429",
     "exception": false,
     "start_time": "2022-04-30T14:15:49.160605",
     "status": "completed"
    },
    "tags": []
   },
   "outputs": [
    {
     "name": "stdout",
     "output_type": "stream",
     "text": [
      "[0.24819353]\n",
      "93\n",
      "1 day input [0.16987898 0.17525773 0.18556701 0.18915285 0.18354998 0.1824294\n",
      " 0.17256835 0.18108472 0.18153294 0.17055132 0.17189601 0.16943075\n",
      " 0.17705065 0.16270731 0.17346481 0.18646347 0.20416853 0.21156432\n",
      " 0.20259973 0.20461676 0.19520394 0.20797848 0.22142537 0.22142537\n",
      " 0.22523532 0.23890632 0.2447333  0.24406096 0.24137158 0.24271627\n",
      " 0.24069924 0.23442403 0.25930076 0.25907665 0.25616316 0.24831914\n",
      " 0.26176602 0.2447333  0.23330345 0.22613178 0.20103093 0.20416853\n",
      " 0.18870462 0.18287763 0.19049753 0.19766921 0.19878978 0.20080681\n",
      " 0.19744509 0.19520394 0.19722098 0.19229045 0.19789332 0.20909906\n",
      " 0.20730614 0.20170327 0.19004931 0.19206634 0.17817122 0.17548185\n",
      " 0.18377409 0.19139399 0.18780816 0.20192739 0.18511878 0.18668758\n",
      " 0.23263111 0.2415957  0.25750784 0.25862842 0.27297176 0.29112506\n",
      " 0.29964142 0.29157329 0.27498879 0.27947109 0.26781712 0.27162707\n",
      " 0.27431645 0.28148812 0.25145675 0.26535186 0.2552667  0.27588525\n",
      " 0.2660242  0.24831914 0.25459435 0.25728373 0.25773196 0.2371134\n",
      " 0.23823398 0.24819353]\n",
      "1 day output [[0.2459174]]\n",
      "2 day input [0.17525773 0.18556701 0.18915285 0.18354998 0.1824294  0.17256835\n",
      " 0.18108472 0.18153294 0.17055132 0.17189601 0.16943075 0.17705065\n",
      " 0.16270731 0.17346481 0.18646347 0.20416853 0.21156432 0.20259973\n",
      " 0.20461676 0.19520394 0.20797848 0.22142537 0.22142537 0.22523532\n",
      " 0.23890632 0.2447333  0.24406096 0.24137158 0.24271627 0.24069924\n",
      " 0.23442403 0.25930076 0.25907665 0.25616316 0.24831914 0.26176602\n",
      " 0.2447333  0.23330345 0.22613178 0.20103093 0.20416853 0.18870462\n",
      " 0.18287763 0.19049753 0.19766921 0.19878978 0.20080681 0.19744509\n",
      " 0.19520394 0.19722098 0.19229045 0.19789332 0.20909906 0.20730614\n",
      " 0.20170327 0.19004931 0.19206634 0.17817122 0.17548185 0.18377409\n",
      " 0.19139399 0.18780816 0.20192739 0.18511878 0.18668758 0.23263111\n",
      " 0.2415957  0.25750784 0.25862842 0.27297176 0.29112506 0.29964142\n",
      " 0.29157329 0.27498879 0.27947109 0.26781712 0.27162707 0.27431645\n",
      " 0.28148812 0.25145675 0.26535186 0.2552667  0.27588525 0.2660242\n",
      " 0.24831914 0.25459435 0.25728373 0.25773196 0.2371134  0.23823398\n",
      " 0.24819353 0.24591739]\n",
      "2 day output [[0.24692547]]\n",
      "3 day input [0.18556701 0.18915285 0.18354998 0.1824294  0.17256835 0.18108472\n",
      " 0.18153294 0.17055132 0.17189601 0.16943075 0.17705065 0.16270731\n",
      " 0.17346481 0.18646347 0.20416853 0.21156432 0.20259973 0.20461676\n",
      " 0.19520394 0.20797848 0.22142537 0.22142537 0.22523532 0.23890632\n",
      " 0.2447333  0.24406096 0.24137158 0.24271627 0.24069924 0.23442403\n",
      " 0.25930076 0.25907665 0.25616316 0.24831914 0.26176602 0.2447333\n",
      " 0.23330345 0.22613178 0.20103093 0.20416853 0.18870462 0.18287763\n",
      " 0.19049753 0.19766921 0.19878978 0.20080681 0.19744509 0.19520394\n",
      " 0.19722098 0.19229045 0.19789332 0.20909906 0.20730614 0.20170327\n",
      " 0.19004931 0.19206634 0.17817122 0.17548185 0.18377409 0.19139399\n",
      " 0.18780816 0.20192739 0.18511878 0.18668758 0.23263111 0.2415957\n",
      " 0.25750784 0.25862842 0.27297176 0.29112506 0.29964142 0.29157329\n",
      " 0.27498879 0.27947109 0.26781712 0.27162707 0.27431645 0.28148812\n",
      " 0.25145675 0.26535186 0.2552667  0.27588525 0.2660242  0.24831914\n",
      " 0.25459435 0.25728373 0.25773196 0.2371134  0.23823398 0.24819353\n",
      " 0.24591739 0.24692547]\n",
      "3 day output [[0.24946815]]\n",
      "4 day input [0.18915285 0.18354998 0.1824294  0.17256835 0.18108472 0.18153294\n",
      " 0.17055132 0.17189601 0.16943075 0.17705065 0.16270731 0.17346481\n",
      " 0.18646347 0.20416853 0.21156432 0.20259973 0.20461676 0.19520394\n",
      " 0.20797848 0.22142537 0.22142537 0.22523532 0.23890632 0.2447333\n",
      " 0.24406096 0.24137158 0.24271627 0.24069924 0.23442403 0.25930076\n",
      " 0.25907665 0.25616316 0.24831914 0.26176602 0.2447333  0.23330345\n",
      " 0.22613178 0.20103093 0.20416853 0.18870462 0.18287763 0.19049753\n",
      " 0.19766921 0.19878978 0.20080681 0.19744509 0.19520394 0.19722098\n",
      " 0.19229045 0.19789332 0.20909906 0.20730614 0.20170327 0.19004931\n",
      " 0.19206634 0.17817122 0.17548185 0.18377409 0.19139399 0.18780816\n",
      " 0.20192739 0.18511878 0.18668758 0.23263111 0.2415957  0.25750784\n",
      " 0.25862842 0.27297176 0.29112506 0.29964142 0.29157329 0.27498879\n",
      " 0.27947109 0.26781712 0.27162707 0.27431645 0.28148812 0.25145675\n",
      " 0.26535186 0.2552667  0.27588525 0.2660242  0.24831914 0.25459435\n",
      " 0.25728373 0.25773196 0.2371134  0.23823398 0.24819353 0.24591739\n",
      " 0.24692547 0.24946815]\n",
      "4 day output [[0.25244007]]\n",
      "5 day input [0.18354998 0.1824294  0.17256835 0.18108472 0.18153294 0.17055132\n",
      " 0.17189601 0.16943075 0.17705065 0.16270731 0.17346481 0.18646347\n",
      " 0.20416853 0.21156432 0.20259973 0.20461676 0.19520394 0.20797848\n",
      " 0.22142537 0.22142537 0.22523532 0.23890632 0.2447333  0.24406096\n",
      " 0.24137158 0.24271627 0.24069924 0.23442403 0.25930076 0.25907665\n",
      " 0.25616316 0.24831914 0.26176602 0.2447333  0.23330345 0.22613178\n",
      " 0.20103093 0.20416853 0.18870462 0.18287763 0.19049753 0.19766921\n",
      " 0.19878978 0.20080681 0.19744509 0.19520394 0.19722098 0.19229045\n",
      " 0.19789332 0.20909906 0.20730614 0.20170327 0.19004931 0.19206634\n",
      " 0.17817122 0.17548185 0.18377409 0.19139399 0.18780816 0.20192739\n",
      " 0.18511878 0.18668758 0.23263111 0.2415957  0.25750784 0.25862842\n",
      " 0.27297176 0.29112506 0.29964142 0.29157329 0.27498879 0.27947109\n",
      " 0.26781712 0.27162707 0.27431645 0.28148812 0.25145675 0.26535186\n",
      " 0.2552667  0.27588525 0.2660242  0.24831914 0.25459435 0.25728373\n",
      " 0.25773196 0.2371134  0.23823398 0.24819353 0.24591739 0.24692547\n",
      " 0.24946815 0.25244007]\n",
      "5 day output [[0.25538826]]\n",
      "6 day input [0.1824294  0.17256835 0.18108472 0.18153294 0.17055132 0.17189601\n",
      " 0.16943075 0.17705065 0.16270731 0.17346481 0.18646347 0.20416853\n",
      " 0.21156432 0.20259973 0.20461676 0.19520394 0.20797848 0.22142537\n",
      " 0.22142537 0.22523532 0.23890632 0.2447333  0.24406096 0.24137158\n",
      " 0.24271627 0.24069924 0.23442403 0.25930076 0.25907665 0.25616316\n",
      " 0.24831914 0.26176602 0.2447333  0.23330345 0.22613178 0.20103093\n",
      " 0.20416853 0.18870462 0.18287763 0.19049753 0.19766921 0.19878978\n",
      " 0.20080681 0.19744509 0.19520394 0.19722098 0.19229045 0.19789332\n",
      " 0.20909906 0.20730614 0.20170327 0.19004931 0.19206634 0.17817122\n",
      " 0.17548185 0.18377409 0.19139399 0.18780816 0.20192739 0.18511878\n",
      " 0.18668758 0.23263111 0.2415957  0.25750784 0.25862842 0.27297176\n",
      " 0.29112506 0.29964142 0.29157329 0.27498879 0.27947109 0.26781712\n",
      " 0.27162707 0.27431645 0.28148812 0.25145675 0.26535186 0.2552667\n",
      " 0.27588525 0.2660242  0.24831914 0.25459435 0.25728373 0.25773196\n",
      " 0.2371134  0.23823398 0.24819353 0.24591739 0.24692547 0.24946815\n",
      " 0.25244007 0.25538826]\n",
      "6 day output [[0.2581931]]\n",
      "7 day input [0.17256835 0.18108472 0.18153294 0.17055132 0.17189601 0.16943075\n",
      " 0.17705065 0.16270731 0.17346481 0.18646347 0.20416853 0.21156432\n",
      " 0.20259973 0.20461676 0.19520394 0.20797848 0.22142537 0.22142537\n",
      " 0.22523532 0.23890632 0.2447333  0.24406096 0.24137158 0.24271627\n",
      " 0.24069924 0.23442403 0.25930076 0.25907665 0.25616316 0.24831914\n",
      " 0.26176602 0.2447333  0.23330345 0.22613178 0.20103093 0.20416853\n",
      " 0.18870462 0.18287763 0.19049753 0.19766921 0.19878978 0.20080681\n",
      " 0.19744509 0.19520394 0.19722098 0.19229045 0.19789332 0.20909906\n",
      " 0.20730614 0.20170327 0.19004931 0.19206634 0.17817122 0.17548185\n",
      " 0.18377409 0.19139399 0.18780816 0.20192739 0.18511878 0.18668758\n",
      " 0.23263111 0.2415957  0.25750784 0.25862842 0.27297176 0.29112506\n",
      " 0.29964142 0.29157329 0.27498879 0.27947109 0.26781712 0.27162707\n",
      " 0.27431645 0.28148812 0.25145675 0.26535186 0.2552667  0.27588525\n",
      " 0.2660242  0.24831914 0.25459435 0.25728373 0.25773196 0.2371134\n",
      " 0.23823398 0.24819353 0.24591739 0.24692547 0.24946815 0.25244007\n",
      " 0.25538826 0.25819311]\n",
      "7 day output [[0.26084214]]\n",
      "8 day input [0.18108472 0.18153294 0.17055132 0.17189601 0.16943075 0.17705065\n",
      " 0.16270731 0.17346481 0.18646347 0.20416853 0.21156432 0.20259973\n",
      " 0.20461676 0.19520394 0.20797848 0.22142537 0.22142537 0.22523532\n",
      " 0.23890632 0.2447333  0.24406096 0.24137158 0.24271627 0.24069924\n",
      " 0.23442403 0.25930076 0.25907665 0.25616316 0.24831914 0.26176602\n",
      " 0.2447333  0.23330345 0.22613178 0.20103093 0.20416853 0.18870462\n",
      " 0.18287763 0.19049753 0.19766921 0.19878978 0.20080681 0.19744509\n",
      " 0.19520394 0.19722098 0.19229045 0.19789332 0.20909906 0.20730614\n",
      " 0.20170327 0.19004931 0.19206634 0.17817122 0.17548185 0.18377409\n",
      " 0.19139399 0.18780816 0.20192739 0.18511878 0.18668758 0.23263111\n",
      " 0.2415957  0.25750784 0.25862842 0.27297176 0.29112506 0.29964142\n",
      " 0.29157329 0.27498879 0.27947109 0.26781712 0.27162707 0.27431645\n",
      " 0.28148812 0.25145675 0.26535186 0.2552667  0.27588525 0.2660242\n",
      " 0.24831914 0.25459435 0.25728373 0.25773196 0.2371134  0.23823398\n",
      " 0.24819353 0.24591739 0.24692547 0.24946815 0.25244007 0.25538826\n",
      " 0.25819311 0.26084214]\n",
      "8 day output [[0.2633399]]\n",
      "9 day input [0.18153294 0.17055132 0.17189601 0.16943075 0.17705065 0.16270731\n",
      " 0.17346481 0.18646347 0.20416853 0.21156432 0.20259973 0.20461676\n",
      " 0.19520394 0.20797848 0.22142537 0.22142537 0.22523532 0.23890632\n",
      " 0.2447333  0.24406096 0.24137158 0.24271627 0.24069924 0.23442403\n",
      " 0.25930076 0.25907665 0.25616316 0.24831914 0.26176602 0.2447333\n",
      " 0.23330345 0.22613178 0.20103093 0.20416853 0.18870462 0.18287763\n",
      " 0.19049753 0.19766921 0.19878978 0.20080681 0.19744509 0.19520394\n",
      " 0.19722098 0.19229045 0.19789332 0.20909906 0.20730614 0.20170327\n",
      " 0.19004931 0.19206634 0.17817122 0.17548185 0.18377409 0.19139399\n",
      " 0.18780816 0.20192739 0.18511878 0.18668758 0.23263111 0.2415957\n",
      " 0.25750784 0.25862842 0.27297176 0.29112506 0.29964142 0.29157329\n",
      " 0.27498879 0.27947109 0.26781712 0.27162707 0.27431645 0.28148812\n",
      " 0.25145675 0.26535186 0.2552667  0.27588525 0.2660242  0.24831914\n",
      " 0.25459435 0.25728373 0.25773196 0.2371134  0.23823398 0.24819353\n",
      " 0.24591739 0.24692547 0.24946815 0.25244007 0.25538826 0.25819311\n",
      " 0.26084214 0.26333991]\n",
      "9 day output [[0.26569137]]\n",
      "10 day input [0.17055132 0.17189601 0.16943075 0.17705065 0.16270731 0.17346481\n",
      " 0.18646347 0.20416853 0.21156432 0.20259973 0.20461676 0.19520394\n",
      " 0.20797848 0.22142537 0.22142537 0.22523532 0.23890632 0.2447333\n",
      " 0.24406096 0.24137158 0.24271627 0.24069924 0.23442403 0.25930076\n",
      " 0.25907665 0.25616316 0.24831914 0.26176602 0.2447333  0.23330345\n",
      " 0.22613178 0.20103093 0.20416853 0.18870462 0.18287763 0.19049753\n",
      " 0.19766921 0.19878978 0.20080681 0.19744509 0.19520394 0.19722098\n",
      " 0.19229045 0.19789332 0.20909906 0.20730614 0.20170327 0.19004931\n",
      " 0.19206634 0.17817122 0.17548185 0.18377409 0.19139399 0.18780816\n",
      " 0.20192739 0.18511878 0.18668758 0.23263111 0.2415957  0.25750784\n",
      " 0.25862842 0.27297176 0.29112506 0.29964142 0.29157329 0.27498879\n",
      " 0.27947109 0.26781712 0.27162707 0.27431645 0.28148812 0.25145675\n",
      " 0.26535186 0.2552667  0.27588525 0.2660242  0.24831914 0.25459435\n",
      " 0.25728373 0.25773196 0.2371134  0.23823398 0.24819353 0.24591739\n",
      " 0.24692547 0.24946815 0.25244007 0.25538826 0.25819311 0.26084214\n",
      " 0.26333991 0.26569137]\n",
      "10 day output [[0.2679069]]\n",
      "11 day input [0.17189601 0.16943075 0.17705065 0.16270731 0.17346481 0.18646347\n",
      " 0.20416853 0.21156432 0.20259973 0.20461676 0.19520394 0.20797848\n",
      " 0.22142537 0.22142537 0.22523532 0.23890632 0.2447333  0.24406096\n",
      " 0.24137158 0.24271627 0.24069924 0.23442403 0.25930076 0.25907665\n",
      " 0.25616316 0.24831914 0.26176602 0.2447333  0.23330345 0.22613178\n",
      " 0.20103093 0.20416853 0.18870462 0.18287763 0.19049753 0.19766921\n",
      " 0.19878978 0.20080681 0.19744509 0.19520394 0.19722098 0.19229045\n",
      " 0.19789332 0.20909906 0.20730614 0.20170327 0.19004931 0.19206634\n",
      " 0.17817122 0.17548185 0.18377409 0.19139399 0.18780816 0.20192739\n",
      " 0.18511878 0.18668758 0.23263111 0.2415957  0.25750784 0.25862842\n",
      " 0.27297176 0.29112506 0.29964142 0.29157329 0.27498879 0.27947109\n",
      " 0.26781712 0.27162707 0.27431645 0.28148812 0.25145675 0.26535186\n",
      " 0.2552667  0.27588525 0.2660242  0.24831914 0.25459435 0.25728373\n",
      " 0.25773196 0.2371134  0.23823398 0.24819353 0.24591739 0.24692547\n",
      " 0.24946815 0.25244007 0.25538826 0.25819311 0.26084214 0.26333991\n",
      " 0.26569137 0.2679069 ]\n",
      "11 day output [[0.27000612]]\n",
      "12 day input [0.16943075 0.17705065 0.16270731 0.17346481 0.18646347 0.20416853\n",
      " 0.21156432 0.20259973 0.20461676 0.19520394 0.20797848 0.22142537\n",
      " 0.22142537 0.22523532 0.23890632 0.2447333  0.24406096 0.24137158\n",
      " 0.24271627 0.24069924 0.23442403 0.25930076 0.25907665 0.25616316\n",
      " 0.24831914 0.26176602 0.2447333  0.23330345 0.22613178 0.20103093\n",
      " 0.20416853 0.18870462 0.18287763 0.19049753 0.19766921 0.19878978\n",
      " 0.20080681 0.19744509 0.19520394 0.19722098 0.19229045 0.19789332\n",
      " 0.20909906 0.20730614 0.20170327 0.19004931 0.19206634 0.17817122\n",
      " 0.17548185 0.18377409 0.19139399 0.18780816 0.20192739 0.18511878\n",
      " 0.18668758 0.23263111 0.2415957  0.25750784 0.25862842 0.27297176\n",
      " 0.29112506 0.29964142 0.29157329 0.27498879 0.27947109 0.26781712\n",
      " 0.27162707 0.27431645 0.28148812 0.25145675 0.26535186 0.2552667\n",
      " 0.27588525 0.2660242  0.24831914 0.25459435 0.25728373 0.25773196\n",
      " 0.2371134  0.23823398 0.24819353 0.24591739 0.24692547 0.24946815\n",
      " 0.25244007 0.25538826 0.25819311 0.26084214 0.26333991 0.26569137\n",
      " 0.2679069  0.27000612]\n",
      "12 day output [[0.27201635]]\n",
      "13 day input [0.17705065 0.16270731 0.17346481 0.18646347 0.20416853 0.21156432\n",
      " 0.20259973 0.20461676 0.19520394 0.20797848 0.22142537 0.22142537\n",
      " 0.22523532 0.23890632 0.2447333  0.24406096 0.24137158 0.24271627\n",
      " 0.24069924 0.23442403 0.25930076 0.25907665 0.25616316 0.24831914\n",
      " 0.26176602 0.2447333  0.23330345 0.22613178 0.20103093 0.20416853\n",
      " 0.18870462 0.18287763 0.19049753 0.19766921 0.19878978 0.20080681\n",
      " 0.19744509 0.19520394 0.19722098 0.19229045 0.19789332 0.20909906\n",
      " 0.20730614 0.20170327 0.19004931 0.19206634 0.17817122 0.17548185\n",
      " 0.18377409 0.19139399 0.18780816 0.20192739 0.18511878 0.18668758\n",
      " 0.23263111 0.2415957  0.25750784 0.25862842 0.27297176 0.29112506\n",
      " 0.29964142 0.29157329 0.27498879 0.27947109 0.26781712 0.27162707\n",
      " 0.27431645 0.28148812 0.25145675 0.26535186 0.2552667  0.27588525\n",
      " 0.2660242  0.24831914 0.25459435 0.25728373 0.25773196 0.2371134\n",
      " 0.23823398 0.24819353 0.24591739 0.24692547 0.24946815 0.25244007\n",
      " 0.25538826 0.25819311 0.26084214 0.26333991 0.26569137 0.2679069\n",
      " 0.27000612 0.27201635]\n",
      "13 day output [[0.27396837]]\n",
      "14 day input [0.16270731 0.17346481 0.18646347 0.20416853 0.21156432 0.20259973\n",
      " 0.20461676 0.19520394 0.20797848 0.22142537 0.22142537 0.22523532\n",
      " 0.23890632 0.2447333  0.24406096 0.24137158 0.24271627 0.24069924\n",
      " 0.23442403 0.25930076 0.25907665 0.25616316 0.24831914 0.26176602\n",
      " 0.2447333  0.23330345 0.22613178 0.20103093 0.20416853 0.18870462\n",
      " 0.18287763 0.19049753 0.19766921 0.19878978 0.20080681 0.19744509\n",
      " 0.19520394 0.19722098 0.19229045 0.19789332 0.20909906 0.20730614\n",
      " 0.20170327 0.19004931 0.19206634 0.17817122 0.17548185 0.18377409\n",
      " 0.19139399 0.18780816 0.20192739 0.18511878 0.18668758 0.23263111\n",
      " 0.2415957  0.25750784 0.25862842 0.27297176 0.29112506 0.29964142\n",
      " 0.29157329 0.27498879 0.27947109 0.26781712 0.27162707 0.27431645\n",
      " 0.28148812 0.25145675 0.26535186 0.2552667  0.27588525 0.2660242\n",
      " 0.24831914 0.25459435 0.25728373 0.25773196 0.2371134  0.23823398\n",
      " 0.24819353 0.24591739 0.24692547 0.24946815 0.25244007 0.25538826\n",
      " 0.25819311 0.26084214 0.26333991 0.26569137 0.2679069  0.27000612\n",
      " 0.27201635 0.27396837]\n",
      "14 day output [[0.27589187]]\n",
      "15 day input [0.17346481 0.18646347 0.20416853 0.21156432 0.20259973 0.20461676\n",
      " 0.19520394 0.20797848 0.22142537 0.22142537 0.22523532 0.23890632\n",
      " 0.2447333  0.24406096 0.24137158 0.24271627 0.24069924 0.23442403\n",
      " 0.25930076 0.25907665 0.25616316 0.24831914 0.26176602 0.2447333\n",
      " 0.23330345 0.22613178 0.20103093 0.20416853 0.18870462 0.18287763\n",
      " 0.19049753 0.19766921 0.19878978 0.20080681 0.19744509 0.19520394\n",
      " 0.19722098 0.19229045 0.19789332 0.20909906 0.20730614 0.20170327\n",
      " 0.19004931 0.19206634 0.17817122 0.17548185 0.18377409 0.19139399\n",
      " 0.18780816 0.20192739 0.18511878 0.18668758 0.23263111 0.2415957\n",
      " 0.25750784 0.25862842 0.27297176 0.29112506 0.29964142 0.29157329\n",
      " 0.27498879 0.27947109 0.26781712 0.27162707 0.27431645 0.28148812\n",
      " 0.25145675 0.26535186 0.2552667  0.27588525 0.2660242  0.24831914\n",
      " 0.25459435 0.25728373 0.25773196 0.2371134  0.23823398 0.24819353\n",
      " 0.24591739 0.24692547 0.24946815 0.25244007 0.25538826 0.25819311\n",
      " 0.26084214 0.26333991 0.26569137 0.2679069  0.27000612 0.27201635\n",
      " 0.27396837 0.27589187]\n",
      "15 day output [[0.2778126]]\n",
      "16 day input [0.18646347 0.20416853 0.21156432 0.20259973 0.20461676 0.19520394\n",
      " 0.20797848 0.22142537 0.22142537 0.22523532 0.23890632 0.2447333\n",
      " 0.24406096 0.24137158 0.24271627 0.24069924 0.23442403 0.25930076\n",
      " 0.25907665 0.25616316 0.24831914 0.26176602 0.2447333  0.23330345\n",
      " 0.22613178 0.20103093 0.20416853 0.18870462 0.18287763 0.19049753\n",
      " 0.19766921 0.19878978 0.20080681 0.19744509 0.19520394 0.19722098\n",
      " 0.19229045 0.19789332 0.20909906 0.20730614 0.20170327 0.19004931\n",
      " 0.19206634 0.17817122 0.17548185 0.18377409 0.19139399 0.18780816\n",
      " 0.20192739 0.18511878 0.18668758 0.23263111 0.2415957  0.25750784\n",
      " 0.25862842 0.27297176 0.29112506 0.29964142 0.29157329 0.27498879\n",
      " 0.27947109 0.26781712 0.27162707 0.27431645 0.28148812 0.25145675\n",
      " 0.26535186 0.2552667  0.27588525 0.2660242  0.24831914 0.25459435\n",
      " 0.25728373 0.25773196 0.2371134  0.23823398 0.24819353 0.24591739\n",
      " 0.24692547 0.24946815 0.25244007 0.25538826 0.25819311 0.26084214\n",
      " 0.26333991 0.26569137 0.2679069  0.27000612 0.27201635 0.27396837\n",
      " 0.27589187 0.2778126 ]\n",
      "16 day output [[0.2797504]]\n",
      "17 day input [0.20416853 0.21156432 0.20259973 0.20461676 0.19520394 0.20797848\n",
      " 0.22142537 0.22142537 0.22523532 0.23890632 0.2447333  0.24406096\n",
      " 0.24137158 0.24271627 0.24069924 0.23442403 0.25930076 0.25907665\n",
      " 0.25616316 0.24831914 0.26176602 0.2447333  0.23330345 0.22613178\n",
      " 0.20103093 0.20416853 0.18870462 0.18287763 0.19049753 0.19766921\n",
      " 0.19878978 0.20080681 0.19744509 0.19520394 0.19722098 0.19229045\n",
      " 0.19789332 0.20909906 0.20730614 0.20170327 0.19004931 0.19206634\n",
      " 0.17817122 0.17548185 0.18377409 0.19139399 0.18780816 0.20192739\n",
      " 0.18511878 0.18668758 0.23263111 0.2415957  0.25750784 0.25862842\n",
      " 0.27297176 0.29112506 0.29964142 0.29157329 0.27498879 0.27947109\n",
      " 0.26781712 0.27162707 0.27431645 0.28148812 0.25145675 0.26535186\n",
      " 0.2552667  0.27588525 0.2660242  0.24831914 0.25459435 0.25728373\n",
      " 0.25773196 0.2371134  0.23823398 0.24819353 0.24591739 0.24692547\n",
      " 0.24946815 0.25244007 0.25538826 0.25819311 0.26084214 0.26333991\n",
      " 0.26569137 0.2679069  0.27000612 0.27201635 0.27396837 0.27589187\n",
      " 0.2778126  0.27975041]\n",
      "17 day output [[0.28171888]]\n",
      "18 day input [0.21156432 0.20259973 0.20461676 0.19520394 0.20797848 0.22142537\n",
      " 0.22142537 0.22523532 0.23890632 0.2447333  0.24406096 0.24137158\n",
      " 0.24271627 0.24069924 0.23442403 0.25930076 0.25907665 0.25616316\n",
      " 0.24831914 0.26176602 0.2447333  0.23330345 0.22613178 0.20103093\n",
      " 0.20416853 0.18870462 0.18287763 0.19049753 0.19766921 0.19878978\n",
      " 0.20080681 0.19744509 0.19520394 0.19722098 0.19229045 0.19789332\n",
      " 0.20909906 0.20730614 0.20170327 0.19004931 0.19206634 0.17817122\n",
      " 0.17548185 0.18377409 0.19139399 0.18780816 0.20192739 0.18511878\n",
      " 0.18668758 0.23263111 0.2415957  0.25750784 0.25862842 0.27297176\n",
      " 0.29112506 0.29964142 0.29157329 0.27498879 0.27947109 0.26781712\n",
      " 0.27162707 0.27431645 0.28148812 0.25145675 0.26535186 0.2552667\n",
      " 0.27588525 0.2660242  0.24831914 0.25459435 0.25728373 0.25773196\n",
      " 0.2371134  0.23823398 0.24819353 0.24591739 0.24692547 0.24946815\n",
      " 0.25244007 0.25538826 0.25819311 0.26084214 0.26333991 0.26569137\n",
      " 0.2679069  0.27000612 0.27201635 0.27396837 0.27589187 0.2778126\n",
      " 0.27975041 0.28171888]\n",
      "18 day output [[0.28372577]]\n",
      "19 day input [0.20259973 0.20461676 0.19520394 0.20797848 0.22142537 0.22142537\n",
      " 0.22523532 0.23890632 0.2447333  0.24406096 0.24137158 0.24271627\n",
      " 0.24069924 0.23442403 0.25930076 0.25907665 0.25616316 0.24831914\n",
      " 0.26176602 0.2447333  0.23330345 0.22613178 0.20103093 0.20416853\n",
      " 0.18870462 0.18287763 0.19049753 0.19766921 0.19878978 0.20080681\n",
      " 0.19744509 0.19520394 0.19722098 0.19229045 0.19789332 0.20909906\n",
      " 0.20730614 0.20170327 0.19004931 0.19206634 0.17817122 0.17548185\n",
      " 0.18377409 0.19139399 0.18780816 0.20192739 0.18511878 0.18668758\n",
      " 0.23263111 0.2415957  0.25750784 0.25862842 0.27297176 0.29112506\n",
      " 0.29964142 0.29157329 0.27498879 0.27947109 0.26781712 0.27162707\n",
      " 0.27431645 0.28148812 0.25145675 0.26535186 0.2552667  0.27588525\n",
      " 0.2660242  0.24831914 0.25459435 0.25728373 0.25773196 0.2371134\n",
      " 0.23823398 0.24819353 0.24591739 0.24692547 0.24946815 0.25244007\n",
      " 0.25538826 0.25819311 0.26084214 0.26333991 0.26569137 0.2679069\n",
      " 0.27000612 0.27201635 0.27396837 0.27589187 0.2778126  0.27975041\n",
      " 0.28171888 0.28372577]\n",
      "19 day output [[0.2857739]]\n",
      "20 day input [0.20461676 0.19520394 0.20797848 0.22142537 0.22142537 0.22523532\n",
      " 0.23890632 0.2447333  0.24406096 0.24137158 0.24271627 0.24069924\n",
      " 0.23442403 0.25930076 0.25907665 0.25616316 0.24831914 0.26176602\n",
      " 0.2447333  0.23330345 0.22613178 0.20103093 0.20416853 0.18870462\n",
      " 0.18287763 0.19049753 0.19766921 0.19878978 0.20080681 0.19744509\n",
      " 0.19520394 0.19722098 0.19229045 0.19789332 0.20909906 0.20730614\n",
      " 0.20170327 0.19004931 0.19206634 0.17817122 0.17548185 0.18377409\n",
      " 0.19139399 0.18780816 0.20192739 0.18511878 0.18668758 0.23263111\n",
      " 0.2415957  0.25750784 0.25862842 0.27297176 0.29112506 0.29964142\n",
      " 0.29157329 0.27498879 0.27947109 0.26781712 0.27162707 0.27431645\n",
      " 0.28148812 0.25145675 0.26535186 0.2552667  0.27588525 0.2660242\n",
      " 0.24831914 0.25459435 0.25728373 0.25773196 0.2371134  0.23823398\n",
      " 0.24819353 0.24591739 0.24692547 0.24946815 0.25244007 0.25538826\n",
      " 0.25819311 0.26084214 0.26333991 0.26569137 0.2679069  0.27000612\n",
      " 0.27201635 0.27396837 0.27589187 0.2778126  0.27975041 0.28171888\n",
      " 0.28372577 0.2857739 ]\n",
      "20 day output [[0.2878625]]\n",
      "21 day input [0.19520394 0.20797848 0.22142537 0.22142537 0.22523532 0.23890632\n",
      " 0.2447333  0.24406096 0.24137158 0.24271627 0.24069924 0.23442403\n",
      " 0.25930076 0.25907665 0.25616316 0.24831914 0.26176602 0.2447333\n",
      " 0.23330345 0.22613178 0.20103093 0.20416853 0.18870462 0.18287763\n",
      " 0.19049753 0.19766921 0.19878978 0.20080681 0.19744509 0.19520394\n",
      " 0.19722098 0.19229045 0.19789332 0.20909906 0.20730614 0.20170327\n",
      " 0.19004931 0.19206634 0.17817122 0.17548185 0.18377409 0.19139399\n",
      " 0.18780816 0.20192739 0.18511878 0.18668758 0.23263111 0.2415957\n",
      " 0.25750784 0.25862842 0.27297176 0.29112506 0.29964142 0.29157329\n",
      " 0.27498879 0.27947109 0.26781712 0.27162707 0.27431645 0.28148812\n",
      " 0.25145675 0.26535186 0.2552667  0.27588525 0.2660242  0.24831914\n",
      " 0.25459435 0.25728373 0.25773196 0.2371134  0.23823398 0.24819353\n",
      " 0.24591739 0.24692547 0.24946815 0.25244007 0.25538826 0.25819311\n",
      " 0.26084214 0.26333991 0.26569137 0.2679069  0.27000612 0.27201635\n",
      " 0.27396837 0.27589187 0.2778126  0.27975041 0.28171888 0.28372577\n",
      " 0.2857739  0.28786251]\n",
      "21 day output [[0.28998825]]\n",
      "22 day input [0.20797848 0.22142537 0.22142537 0.22523532 0.23890632 0.2447333\n",
      " 0.24406096 0.24137158 0.24271627 0.24069924 0.23442403 0.25930076\n",
      " 0.25907665 0.25616316 0.24831914 0.26176602 0.2447333  0.23330345\n",
      " 0.22613178 0.20103093 0.20416853 0.18870462 0.18287763 0.19049753\n",
      " 0.19766921 0.19878978 0.20080681 0.19744509 0.19520394 0.19722098\n",
      " 0.19229045 0.19789332 0.20909906 0.20730614 0.20170327 0.19004931\n",
      " 0.19206634 0.17817122 0.17548185 0.18377409 0.19139399 0.18780816\n",
      " 0.20192739 0.18511878 0.18668758 0.23263111 0.2415957  0.25750784\n",
      " 0.25862842 0.27297176 0.29112506 0.29964142 0.29157329 0.27498879\n",
      " 0.27947109 0.26781712 0.27162707 0.27431645 0.28148812 0.25145675\n",
      " 0.26535186 0.2552667  0.27588525 0.2660242  0.24831914 0.25459435\n",
      " 0.25728373 0.25773196 0.2371134  0.23823398 0.24819353 0.24591739\n",
      " 0.24692547 0.24946815 0.25244007 0.25538826 0.25819311 0.26084214\n",
      " 0.26333991 0.26569137 0.2679069  0.27000612 0.27201635 0.27396837\n",
      " 0.27589187 0.2778126  0.27975041 0.28171888 0.28372577 0.2857739\n",
      " 0.28786251 0.28998825]\n",
      "22 day output [[0.29214653]]\n",
      "23 day input [0.22142537 0.22142537 0.22523532 0.23890632 0.2447333  0.24406096\n",
      " 0.24137158 0.24271627 0.24069924 0.23442403 0.25930076 0.25907665\n",
      " 0.25616316 0.24831914 0.26176602 0.2447333  0.23330345 0.22613178\n",
      " 0.20103093 0.20416853 0.18870462 0.18287763 0.19049753 0.19766921\n",
      " 0.19878978 0.20080681 0.19744509 0.19520394 0.19722098 0.19229045\n",
      " 0.19789332 0.20909906 0.20730614 0.20170327 0.19004931 0.19206634\n",
      " 0.17817122 0.17548185 0.18377409 0.19139399 0.18780816 0.20192739\n",
      " 0.18511878 0.18668758 0.23263111 0.2415957  0.25750784 0.25862842\n",
      " 0.27297176 0.29112506 0.29964142 0.29157329 0.27498879 0.27947109\n",
      " 0.26781712 0.27162707 0.27431645 0.28148812 0.25145675 0.26535186\n",
      " 0.2552667  0.27588525 0.2660242  0.24831914 0.25459435 0.25728373\n",
      " 0.25773196 0.2371134  0.23823398 0.24819353 0.24591739 0.24692547\n",
      " 0.24946815 0.25244007 0.25538826 0.25819311 0.26084214 0.26333991\n",
      " 0.26569137 0.2679069  0.27000612 0.27201635 0.27396837 0.27589187\n",
      " 0.2778126  0.27975041 0.28171888 0.28372577 0.2857739  0.28786251\n",
      " 0.28998825 0.29214653]\n",
      "23 day output [[0.29433253]]\n",
      "24 day input [0.22142537 0.22523532 0.23890632 0.2447333  0.24406096 0.24137158\n",
      " 0.24271627 0.24069924 0.23442403 0.25930076 0.25907665 0.25616316\n",
      " 0.24831914 0.26176602 0.2447333  0.23330345 0.22613178 0.20103093\n",
      " 0.20416853 0.18870462 0.18287763 0.19049753 0.19766921 0.19878978\n",
      " 0.20080681 0.19744509 0.19520394 0.19722098 0.19229045 0.19789332\n",
      " 0.20909906 0.20730614 0.20170327 0.19004931 0.19206634 0.17817122\n",
      " 0.17548185 0.18377409 0.19139399 0.18780816 0.20192739 0.18511878\n",
      " 0.18668758 0.23263111 0.2415957  0.25750784 0.25862842 0.27297176\n",
      " 0.29112506 0.29964142 0.29157329 0.27498879 0.27947109 0.26781712\n",
      " 0.27162707 0.27431645 0.28148812 0.25145675 0.26535186 0.2552667\n",
      " 0.27588525 0.2660242  0.24831914 0.25459435 0.25728373 0.25773196\n",
      " 0.2371134  0.23823398 0.24819353 0.24591739 0.24692547 0.24946815\n",
      " 0.25244007 0.25538826 0.25819311 0.26084214 0.26333991 0.26569137\n",
      " 0.2679069  0.27000612 0.27201635 0.27396837 0.27589187 0.2778126\n",
      " 0.27975041 0.28171888 0.28372577 0.2857739  0.28786251 0.28998825\n",
      " 0.29214653 0.29433253]\n",
      "24 day output [[0.29654178]]\n",
      "25 day input [0.22523532 0.23890632 0.2447333  0.24406096 0.24137158 0.24271627\n",
      " 0.24069924 0.23442403 0.25930076 0.25907665 0.25616316 0.24831914\n",
      " 0.26176602 0.2447333  0.23330345 0.22613178 0.20103093 0.20416853\n",
      " 0.18870462 0.18287763 0.19049753 0.19766921 0.19878978 0.20080681\n",
      " 0.19744509 0.19520394 0.19722098 0.19229045 0.19789332 0.20909906\n",
      " 0.20730614 0.20170327 0.19004931 0.19206634 0.17817122 0.17548185\n",
      " 0.18377409 0.19139399 0.18780816 0.20192739 0.18511878 0.18668758\n",
      " 0.23263111 0.2415957  0.25750784 0.25862842 0.27297176 0.29112506\n",
      " 0.29964142 0.29157329 0.27498879 0.27947109 0.26781712 0.27162707\n",
      " 0.27431645 0.28148812 0.25145675 0.26535186 0.2552667  0.27588525\n",
      " 0.2660242  0.24831914 0.25459435 0.25728373 0.25773196 0.2371134\n",
      " 0.23823398 0.24819353 0.24591739 0.24692547 0.24946815 0.25244007\n",
      " 0.25538826 0.25819311 0.26084214 0.26333991 0.26569137 0.2679069\n",
      " 0.27000612 0.27201635 0.27396837 0.27589187 0.2778126  0.27975041\n",
      " 0.28171888 0.28372577 0.2857739  0.28786251 0.28998825 0.29214653\n",
      " 0.29433253 0.29654178]\n",
      "25 day output [[0.2987707]]\n",
      "26 day input [0.23890632 0.2447333  0.24406096 0.24137158 0.24271627 0.24069924\n",
      " 0.23442403 0.25930076 0.25907665 0.25616316 0.24831914 0.26176602\n",
      " 0.2447333  0.23330345 0.22613178 0.20103093 0.20416853 0.18870462\n",
      " 0.18287763 0.19049753 0.19766921 0.19878978 0.20080681 0.19744509\n",
      " 0.19520394 0.19722098 0.19229045 0.19789332 0.20909906 0.20730614\n",
      " 0.20170327 0.19004931 0.19206634 0.17817122 0.17548185 0.18377409\n",
      " 0.19139399 0.18780816 0.20192739 0.18511878 0.18668758 0.23263111\n",
      " 0.2415957  0.25750784 0.25862842 0.27297176 0.29112506 0.29964142\n",
      " 0.29157329 0.27498879 0.27947109 0.26781712 0.27162707 0.27431645\n",
      " 0.28148812 0.25145675 0.26535186 0.2552667  0.27588525 0.2660242\n",
      " 0.24831914 0.25459435 0.25728373 0.25773196 0.2371134  0.23823398\n",
      " 0.24819353 0.24591739 0.24692547 0.24946815 0.25244007 0.25538826\n",
      " 0.25819311 0.26084214 0.26333991 0.26569137 0.2679069  0.27000612\n",
      " 0.27201635 0.27396837 0.27589187 0.2778126  0.27975041 0.28171888\n",
      " 0.28372577 0.2857739  0.28786251 0.28998825 0.29214653 0.29433253\n",
      " 0.29654178 0.2987707 ]\n",
      "26 day output [[0.30101696]]\n",
      "27 day input [0.2447333  0.24406096 0.24137158 0.24271627 0.24069924 0.23442403\n",
      " 0.25930076 0.25907665 0.25616316 0.24831914 0.26176602 0.2447333\n",
      " 0.23330345 0.22613178 0.20103093 0.20416853 0.18870462 0.18287763\n",
      " 0.19049753 0.19766921 0.19878978 0.20080681 0.19744509 0.19520394\n",
      " 0.19722098 0.19229045 0.19789332 0.20909906 0.20730614 0.20170327\n",
      " 0.19004931 0.19206634 0.17817122 0.17548185 0.18377409 0.19139399\n",
      " 0.18780816 0.20192739 0.18511878 0.18668758 0.23263111 0.2415957\n",
      " 0.25750784 0.25862842 0.27297176 0.29112506 0.29964142 0.29157329\n",
      " 0.27498879 0.27947109 0.26781712 0.27162707 0.27431645 0.28148812\n",
      " 0.25145675 0.26535186 0.2552667  0.27588525 0.2660242  0.24831914\n",
      " 0.25459435 0.25728373 0.25773196 0.2371134  0.23823398 0.24819353\n",
      " 0.24591739 0.24692547 0.24946815 0.25244007 0.25538826 0.25819311\n",
      " 0.26084214 0.26333991 0.26569137 0.2679069  0.27000612 0.27201635\n",
      " 0.27396837 0.27589187 0.2778126  0.27975041 0.28171888 0.28372577\n",
      " 0.2857739  0.28786251 0.28998825 0.29214653 0.29433253 0.29654178\n",
      " 0.2987707  0.30101696]\n",
      "27 day output [[0.30327934]]\n",
      "28 day input [0.24406096 0.24137158 0.24271627 0.24069924 0.23442403 0.25930076\n",
      " 0.25907665 0.25616316 0.24831914 0.26176602 0.2447333  0.23330345\n",
      " 0.22613178 0.20103093 0.20416853 0.18870462 0.18287763 0.19049753\n",
      " 0.19766921 0.19878978 0.20080681 0.19744509 0.19520394 0.19722098\n",
      " 0.19229045 0.19789332 0.20909906 0.20730614 0.20170327 0.19004931\n",
      " 0.19206634 0.17817122 0.17548185 0.18377409 0.19139399 0.18780816\n",
      " 0.20192739 0.18511878 0.18668758 0.23263111 0.2415957  0.25750784\n",
      " 0.25862842 0.27297176 0.29112506 0.29964142 0.29157329 0.27498879\n",
      " 0.27947109 0.26781712 0.27162707 0.27431645 0.28148812 0.25145675\n",
      " 0.26535186 0.2552667  0.27588525 0.2660242  0.24831914 0.25459435\n",
      " 0.25728373 0.25773196 0.2371134  0.23823398 0.24819353 0.24591739\n",
      " 0.24692547 0.24946815 0.25244007 0.25538826 0.25819311 0.26084214\n",
      " 0.26333991 0.26569137 0.2679069  0.27000612 0.27201635 0.27396837\n",
      " 0.27589187 0.2778126  0.27975041 0.28171888 0.28372577 0.2857739\n",
      " 0.28786251 0.28998825 0.29214653 0.29433253 0.29654178 0.2987707\n",
      " 0.30101696 0.30327934]\n",
      "28 day output [[0.30555785]]\n",
      "29 day input [0.24137158 0.24271627 0.24069924 0.23442403 0.25930076 0.25907665\n",
      " 0.25616316 0.24831914 0.26176602 0.2447333  0.23330345 0.22613178\n",
      " 0.20103093 0.20416853 0.18870462 0.18287763 0.19049753 0.19766921\n",
      " 0.19878978 0.20080681 0.19744509 0.19520394 0.19722098 0.19229045\n",
      " 0.19789332 0.20909906 0.20730614 0.20170327 0.19004931 0.19206634\n",
      " 0.17817122 0.17548185 0.18377409 0.19139399 0.18780816 0.20192739\n",
      " 0.18511878 0.18668758 0.23263111 0.2415957  0.25750784 0.25862842\n",
      " 0.27297176 0.29112506 0.29964142 0.29157329 0.27498879 0.27947109\n",
      " 0.26781712 0.27162707 0.27431645 0.28148812 0.25145675 0.26535186\n",
      " 0.2552667  0.27588525 0.2660242  0.24831914 0.25459435 0.25728373\n",
      " 0.25773196 0.2371134  0.23823398 0.24819353 0.24591739 0.24692547\n",
      " 0.24946815 0.25244007 0.25538826 0.25819311 0.26084214 0.26333991\n",
      " 0.26569137 0.2679069  0.27000612 0.27201635 0.27396837 0.27589187\n",
      " 0.2778126  0.27975041 0.28171888 0.28372577 0.2857739  0.28786251\n",
      " 0.28998825 0.29214653 0.29433253 0.29654178 0.2987707  0.30101696\n",
      " 0.30327934 0.30555785]\n",
      "29 day output [[0.30785346]]\n"
     ]
    }
   ],
   "source": [
    "# Demonstrate prediction for next 30 days\n",
    "from numpy import array\n",
    "\n",
    "lst_output=[]\n",
    "n_steps=92\n",
    "i=0\n",
    "while(i<30):\n",
    "    \n",
    "    if(len(temp_input)>92):\n",
    "        #print(temp_input)\n",
    "        x_input=np.array(temp_input[1:])\n",
    "        print(\"{} day input {}\".format(i,x_input))\n",
    "        x_input=x_input.reshape(1,-1)\n",
    "        x_input = x_input.reshape((1, n_steps, 1))\n",
    "        #print(x_input)\n",
    "        yhat = model.predict(x_input, verbose=0)\n",
    "        print(\"{} day output {}\".format(i,yhat))\n",
    "        temp_input.extend(yhat[0].tolist())\n",
    "        temp_input=temp_input[1:]\n",
    "        #print(temp_input)\n",
    "        lst_output.extend(yhat.tolist())\n",
    "        i=i+1\n",
    "    else:\n",
    "        x_input = x_input.reshape((1, n_steps,1))\n",
    "        yhat = model.predict(x_input, verbose=0)\n",
    "        print(yhat[0])\n",
    "        temp_input.extend(yhat[0].tolist())\n",
    "        print(len(temp_input))\n",
    "        lst_output.extend(yhat.tolist())\n",
    "        i=i+1\n",
    "    "
   ]
  },
  {
   "cell_type": "code",
   "execution_count": 33,
   "id": "a678c7e2",
   "metadata": {
    "execution": {
     "iopub.execute_input": "2022-04-30T14:15:52.695981Z",
     "iopub.status.busy": "2022-04-30T14:15:52.695650Z",
     "iopub.status.idle": "2022-04-30T14:15:52.702092Z",
     "shell.execute_reply": "2022-04-30T14:15:52.700003Z"
    },
    "papermill": {
     "duration": 0.309251,
     "end_time": "2022-04-30T14:15:52.704452",
     "exception": false,
     "start_time": "2022-04-30T14:15:52.395201",
     "status": "completed"
    },
    "tags": []
   },
   "outputs": [],
   "source": [
    "day_new=np.arange(1,93)\n",
    "day_pred=np.arange(93,123)"
   ]
  },
  {
   "cell_type": "code",
   "execution_count": 34,
   "id": "0ec822a2",
   "metadata": {
    "execution": {
     "iopub.execute_input": "2022-04-30T14:15:53.301533Z",
     "iopub.status.busy": "2022-04-30T14:15:53.301188Z",
     "iopub.status.idle": "2022-04-30T14:15:53.305890Z",
     "shell.execute_reply": "2022-04-30T14:15:53.304965Z"
    },
    "papermill": {
     "duration": 0.303616,
     "end_time": "2022-04-30T14:15:53.308237",
     "exception": false,
     "start_time": "2022-04-30T14:15:53.004621",
     "status": "completed"
    },
    "tags": []
   },
   "outputs": [],
   "source": [
    "import matplotlib.pyplot as plt"
   ]
  },
  {
   "cell_type": "code",
   "execution_count": 35,
   "id": "d85eed4a",
   "metadata": {
    "execution": {
     "iopub.execute_input": "2022-04-30T14:15:53.888935Z",
     "iopub.status.busy": "2022-04-30T14:15:53.888625Z",
     "iopub.status.idle": "2022-04-30T14:15:53.895682Z",
     "shell.execute_reply": "2022-04-30T14:15:53.894518Z"
    },
    "papermill": {
     "duration": 0.300525,
     "end_time": "2022-04-30T14:15:53.899505",
     "exception": false,
     "start_time": "2022-04-30T14:15:53.598980",
     "status": "completed"
    },
    "tags": []
   },
   "outputs": [
    {
     "data": {
      "text/plain": [
       "1235"
      ]
     },
     "execution_count": 35,
     "metadata": {},
     "output_type": "execute_result"
    }
   ],
   "source": [
    "len(df1)"
   ]
  },
  {
   "cell_type": "code",
   "execution_count": 36,
   "id": "6a6e6327",
   "metadata": {
    "execution": {
     "iopub.execute_input": "2022-04-30T14:15:54.484371Z",
     "iopub.status.busy": "2022-04-30T14:15:54.484006Z",
     "iopub.status.idle": "2022-04-30T14:15:54.749926Z",
     "shell.execute_reply": "2022-04-30T14:15:54.748912Z"
    },
    "papermill": {
     "duration": 0.565791,
     "end_time": "2022-04-30T14:15:54.752762",
     "exception": false,
     "start_time": "2022-04-30T14:15:54.186971",
     "status": "completed"
    },
    "tags": []
   },
   "outputs": [
    {
     "data": {
      "image/png": "[encoded data removed]",
      "text/plain": [
       "<Figure size 1080x432 with 1 Axes>"
      ]
     },
     "metadata": {
      "needs_background": "light"
     },
     "output_type": "display_data"
    }
   ],
   "source": [
    "plt.figure(figsize=(15,6))\n",
    "plt.plot(day_new,scaler.inverse_transform(df1[1143:]),'b', label='Last 10 Days Data')\n",
    "plt.plot(day_pred,scaler.inverse_transform(lst_output),'g', label='Next 30 Days Predicted Data')\n",
    "leg = plt.legend();\n",
    "plt.show()"
   ]
  },
  {
   "cell_type": "code",
   "execution_count": 37,
   "id": "1d8a69d7",
   "metadata": {
    "execution": {
     "iopub.execute_input": "2022-04-30T14:15:55.338722Z",
     "iopub.status.busy": "2022-04-30T14:15:55.337970Z",
     "iopub.status.idle": "2022-04-30T14:15:55.577879Z",
     "shell.execute_reply": "2022-04-30T14:15:55.576882Z"
    },
    "papermill": {
     "duration": 0.53697,
     "end_time": "2022-04-30T14:15:55.580206",
     "exception": false,
     "start_time": "2022-04-30T14:15:55.043236",
     "status": "completed"
    },
    "tags": []
   },
   "outputs": [
    {
     "data": {
      "text/plain": [
       "[<matplotlib.lines.Line2D at 0x7f2f70d371d0>]"
      ]
     },
     "execution_count": 37,
     "metadata": {},
     "output_type": "execute_result"
    },
    {
     "data": {
      "image/png": "[encoded data removed]",
      "text/plain": [
       "<Figure size 432x288 with 1 Axes>"
      ]
     },
     "metadata": {
      "needs_background": "light"
     },
     "output_type": "display_data"
    }
   ],
   "source": [
    "df3=df1.tolist()\n",
    "df3.extend(lst_output)\n",
    "plt.plot(df3[1200:])"
   ]
  },
  {
   "cell_type": "code",
   "execution_count": 38,
   "id": "c597c6e8",
   "metadata": {
    "execution": {
     "iopub.execute_input": "2022-04-30T14:15:56.164575Z",
     "iopub.status.busy": "2022-04-30T14:15:56.164265Z",
     "iopub.status.idle": "2022-04-30T14:15:56.171747Z",
     "shell.execute_reply": "2022-04-30T14:15:56.170620Z"
    },
    "papermill": {
     "duration": 0.300731,
     "end_time": "2022-04-30T14:15:56.174497",
     "exception": false,
     "start_time": "2022-04-30T14:15:55.873766",
     "status": "completed"
    },
    "tags": []
   },
   "outputs": [],
   "source": [
    "df3=scaler.inverse_transform(df3).tolist()"
   ]
  },
  {
   "cell_type": "code",
   "execution_count": 39,
   "id": "94388982",
   "metadata": {
    "execution": {
     "iopub.execute_input": "2022-04-30T14:15:56.806556Z",
     "iopub.status.busy": "2022-04-30T14:15:56.804683Z",
     "iopub.status.idle": "2022-04-30T14:15:57.190633Z",
     "shell.execute_reply": "2022-04-30T14:15:57.189640Z"
    },
    "papermill": {
     "duration": 0.727076,
     "end_time": "2022-04-30T14:15:57.193986",
     "exception": false,
     "start_time": "2022-04-30T14:15:56.466910",
     "status": "completed"
    },
    "tags": []
   },
   "outputs": [
    {
     "data": {
      "text/plain": [
       "[<matplotlib.lines.Line2D at 0x7f2f954a8750>]"
      ]
     },
     "execution_count": 39,
     "metadata": {},
     "output_type": "execute_result"
    },
    {
     "data": {
      "image/png": "[encoded data removed]",
      "text/plain": [
       "<Figure size 432x288 with 1 Axes>"
      ]
     },
     "metadata": {
      "needs_background": "light"
     },
     "output_type": "display_data"
    }
   ],
   "source": [
    "plt.plot(df3)"
   ]
  },
  {
   "cell_type": "markdown",
   "id": "1dde09cc",
   "metadata": {
    "papermill": {
     "duration": 0.327399,
     "end_time": "2022-04-30T14:15:57.939161",
     "exception": false,
     "start_time": "2022-04-30T14:15:57.611762",
     "status": "completed"
    },
    "tags": []
   },
   "source": [
    "**The End**"
   ]
  }
 ],
 "metadata": {
  "kernelspec": {
   "display_name": "Python 3",
   "language": "python",
   "name": "python3"
  },
  "language_info": {
   "codemirror_mode": {
    "name": "ipython",
    "version": 3
   },
   "file_extension": ".py",
   "mimetype": "text/x-python",
   "name": "python",
   "nbconvert_exporter": "python",
   "pygments_lexer": "ipython3",
   "version": "3.7.12"
  },
  "papermill": {
   "default_parameters": {},
   "duration": 91.967814,
   "end_time": "2022-04-30T14:16:01.922348",
   "environment_variables": {},
   "exception": null,
   "input_path": "__notebook__.ipynb",
   "output_path": "__notebook__.ipynb",
   "parameters": {},
   "start_time": "2022-04-30T14:14:29.954534",
   "version": "2.3.4"
  }
 },
 "nbformat": 4,
 "nbformat_minor": 5
}
