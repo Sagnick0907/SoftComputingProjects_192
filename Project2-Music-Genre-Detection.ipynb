{
 "cells": [
  {
   "cell_type": "markdown",
   "id": "f2c297b6",
   "metadata": {
    "papermill": {
     "duration": 0.014541,
     "end_time": "2022-05-01T14:47:35.239312",
     "exception": false,
     "start_time": "2022-05-01T14:47:35.224771",
     "status": "completed"
    },
    "tags": []
   },
   "source": [
    "## Music genre classifier with TensorFlow"
   ]
  },
  {
   "cell_type": "markdown",
   "id": "a7a956fd",
   "metadata": {
    "papermill": {
     "duration": 0.013276,
     "end_time": "2022-05-01T14:47:35.265671",
     "exception": false,
     "start_time": "2022-05-01T14:47:35.252395",
     "status": "completed"
    },
    "tags": []
   },
   "source": [
    "Author - Sagnick Bhar \n",
    "\nThe objective of this project is to classify 30 sec wav files by genre using a TensorFLow LSTM model. The GTZAN dataset can be found here:\n",
    "\n",
    "https://www.kaggle.com/andradaolteanu/gtzan-dataset-music-genre-classification\n",
    "\n",
    "To classify audio samples, we will preprocess them by calculating their MFCC, which is a temporal representation of the energy for each perceived frequency band. In this case, we are choosing 13 bands."
   ]
  },
  {
   "cell_type": "code",
   "execution_count": 1,
   "id": "0c249336",
   "metadata": {
    "execution": {
     "iopub.execute_input": "2022-05-01T14:47:35.294646Z",
     "iopub.status.busy": "2022-05-01T14:47:35.294179Z",
     "iopub.status.idle": "2022-05-01T14:47:42.367060Z",
     "shell.execute_reply": "2022-05-01T14:47:42.365892Z"
    },
    "papermill": {
     "duration": 7.090374,
     "end_time": "2022-05-01T14:47:42.369764",
     "exception": false,
     "start_time": "2022-05-01T14:47:35.279390",
     "status": "completed"
    },
    "tags": []
   },
   "outputs": [],
   "source": [
    "import os\n",
    "import json\n",
    "import numpy as np\n",
    "import librosa\n",
    "import matplotlib.pyplot as plt\n",
    "from sklearn.model_selection import train_test_split\n",
    "import tensorflow as tf"
   ]
  },
  {
   "cell_type": "code",
   "execution_count": 2,
   "id": "948321ef",
   "metadata": {
    "execution": {
     "iopub.execute_input": "2022-05-01T14:47:42.399336Z",
     "iopub.status.busy": "2022-05-01T14:47:42.398551Z",
     "iopub.status.idle": "2022-05-01T14:47:42.404673Z",
     "shell.execute_reply": "2022-05-01T14:47:42.403685Z"
    },
    "papermill": {
     "duration": 0.02316,
     "end_time": "2022-05-01T14:47:42.406813",
     "exception": false,
     "start_time": "2022-05-01T14:47:42.383653",
     "status": "completed"
    },
    "tags": []
   },
   "outputs": [],
   "source": [
    "SOURCE_PATH = '/kaggle/input/gtzan-dataset-music-genre-classification/Data/genres_original/'\n",
    "\n",
    "# Path to labels and processed data file, json format.\n",
    "JSON_PATH = '/kaggle/working/data.json'\n",
    "\n",
    "# Sampling rate.\n",
    "sr = 22050\n",
    "\n",
    "# Let's make sure all files have the same amount of samples and pick a duration right under 30 seconds.\n",
    "TOTAL_SAMPLES = 29 * sr\n",
    "\n",
    "# The dataset contains 999 files. Lets make it bigger. \n",
    "# X amount of slices => X times more training examples.\n",
    "NUM_SLICES = 10\n",
    "SAMPLES_PER_SLICE = int(TOTAL_SAMPLES / NUM_SLICES)"
   ]
  },
  {
   "cell_type": "code",
   "execution_count": 3,
   "id": "bc1db692",
   "metadata": {
    "execution": {
     "iopub.execute_input": "2022-05-01T14:47:42.434251Z",
     "iopub.status.busy": "2022-05-01T14:47:42.434030Z",
     "iopub.status.idle": "2022-05-01T14:47:42.443058Z",
     "shell.execute_reply": "2022-05-01T14:47:42.442047Z"
    },
    "papermill": {
     "duration": 0.025476,
     "end_time": "2022-05-01T14:47:42.445284",
     "exception": false,
     "start_time": "2022-05-01T14:47:42.419808",
     "status": "completed"
    },
    "tags": []
   },
   "outputs": [],
   "source": [
    "def preprocess_data(source_path, json_path):\n",
    "\n",
    "    # Let's create a dictionary of labels and processed data.\n",
    "    mydict = {\n",
    "        \"labels\": [],\n",
    "        \"mfcc\": []\n",
    "        }\n",
    "\n",
    "    # Let's browse each file, slice it and generate the 13 band mfcc for each slice.\n",
    "    for i, (dirpath, dirnames, filenames) in enumerate(os.walk(source_path)):\n",
    "        for file in filenames:\n",
    "            # exclude a corrupted wav file that makes everything crash.\n",
    "            if os.path.join(dirpath, file) != '/kaggle/input/gtzan-dataset-music-genre-classification/Data/genres_original/jazz/jazz.00054.wav':\n",
    "                song, sr = librosa.load(os.path.join(dirpath, file), duration=29)\n",
    "                for s in range(NUM_SLICES):\n",
    "                    start_sample = SAMPLES_PER_SLICE * s\n",
    "                    end_sample = start_sample + SAMPLES_PER_SLICE\n",
    "                    mfcc = librosa.feature.mfcc(y=song[start_sample:end_sample], sr=sr, n_mfcc=13)\n",
    "                    mfcc = mfcc.T\n",
    "                    mydict[\"labels\"].append(i-1)\n",
    "                    mydict[\"mfcc\"].append(mfcc.tolist())\n",
    "            else:\n",
    "                pass\n",
    "\n",
    "    # Let's write the dictionary in a json file.    \n",
    "    with open(json_path, 'w') as f:\n",
    "        json.dump(mydict, f)\n",
    "    f.close()"
   ]
  },
  {
   "cell_type": "code",
   "execution_count": 4,
   "id": "8d39b155",
   "metadata": {
    "execution": {
     "iopub.execute_input": "2022-05-01T14:47:42.474345Z",
     "iopub.status.busy": "2022-05-01T14:47:42.474120Z",
     "iopub.status.idle": "2022-05-01T14:47:42.479935Z",
     "shell.execute_reply": "2022-05-01T14:47:42.478900Z"
    },
    "papermill": {
     "duration": 0.021665,
     "end_time": "2022-05-01T14:47:42.482045",
     "exception": false,
     "start_time": "2022-05-01T14:47:42.460380",
     "status": "completed"
    },
    "tags": []
   },
   "outputs": [],
   "source": [
    "def load_data(json_path):\n",
    "\n",
    "    with open(json_path, 'r') as f:\n",
    "        data = json.load(f)\n",
    "    f.close()\n",
    "\n",
    "    # Let's load our data into numpy arrays for TensorFlow compatibility.\n",
    "    X = np.array(data[\"mfcc\"])\n",
    "    y = np.array(data[\"labels\"])\n",
    "\n",
    "    return X, y"
   ]
  },
  {
   "cell_type": "code",
   "execution_count": 5,
   "id": "41c11c68",
   "metadata": {
    "execution": {
     "iopub.execute_input": "2022-05-01T14:47:42.510344Z",
     "iopub.status.busy": "2022-05-01T14:47:42.509580Z",
     "iopub.status.idle": "2022-05-01T14:47:42.516271Z",
     "shell.execute_reply": "2022-05-01T14:47:42.515252Z"
    },
    "papermill": {
     "duration": 0.023308,
     "end_time": "2022-05-01T14:47:42.518482",
     "exception": false,
     "start_time": "2022-05-01T14:47:42.495174",
     "status": "completed"
    },
    "tags": []
   },
   "outputs": [],
   "source": [
    "def prepare_datasets(inputs, targets, split_size):\n",
    "    \n",
    "    # Creating a validation set and a test set.\n",
    "    inputs_train, inputs_val, targets_train, targets_val = train_test_split(inputs, targets, test_size=split_size)\n",
    "    inputs_train, inputs_test, targets_train, targets_test = train_test_split(inputs_train, targets_train, test_size=split_size)\n",
    "    \n",
    "    # Our CNN model expects 3D input shape.\n",
    "    inputs_train = inputs_train[..., np.newaxis]\n",
    "    inputs_val = inputs_val[..., np.newaxis]\n",
    "    inputs_test = inputs_test[..., np.newaxis]\n",
    "    \n",
    "    return inputs_train, inputs_val, inputs_test, targets_train, targets_val, targets_test"
   ]
  },
  {
   "cell_type": "code",
   "execution_count": 6,
   "id": "d2ebbebc",
   "metadata": {
    "execution": {
     "iopub.execute_input": "2022-05-01T14:47:42.546469Z",
     "iopub.status.busy": "2022-05-01T14:47:42.546235Z",
     "iopub.status.idle": "2022-05-01T14:47:42.555800Z",
     "shell.execute_reply": "2022-05-01T14:47:42.554875Z"
    },
    "papermill": {
     "duration": 0.025844,
     "end_time": "2022-05-01T14:47:42.558025",
     "exception": false,
     "start_time": "2022-05-01T14:47:42.532181",
     "status": "completed"
    },
    "tags": []
   },
   "outputs": [],
   "source": [
    "def design_model(input_shape):\n",
    "\n",
    "    # Let's design the model architecture.\n",
    "    model = tf.keras.models.Sequential([\n",
    "        \n",
    "        tf.keras.layers.Conv2D(32, (3,3), activation='relu', input_shape=input_shape),\n",
    "        tf.keras.layers.MaxPooling2D((3,3), strides=(2,2), padding='same'),\n",
    "        tf.keras.layers.BatchNormalization(),\n",
    "        \n",
    "        tf.keras.layers.Conv2D(32, (3,3), activation='relu'),\n",
    "        tf.keras.layers.MaxPooling2D((3,3), strides=(2,2), padding='same'),\n",
    "        tf.keras.layers.BatchNormalization(),\n",
    "        \n",
    "        tf.keras.layers.Conv2D(32, (2,2), activation='relu'),\n",
    "        tf.keras.layers.MaxPooling2D((3,3), strides=(2,2), padding='same'),\n",
    "        tf.keras.layers.BatchNormalization(),\n",
    "        tf.keras.layers.Dropout(0.3),\n",
    "        \n",
    "        tf.keras.layers.Flatten(),\n",
    "        tf.keras.layers.Dense(64, activation='relu'), \n",
    "        tf.keras.layers.Dense(len(np.unique(targets)), activation='softmax')\n",
    "    ])\n",
    "\n",
    "    return model"
   ]
  },
  {
   "cell_type": "code",
   "execution_count": 7,
   "id": "3cad25d2",
   "metadata": {
    "execution": {
     "iopub.execute_input": "2022-05-01T14:47:42.585963Z",
     "iopub.status.busy": "2022-05-01T14:47:42.585188Z",
     "iopub.status.idle": "2022-05-01T14:47:42.592368Z",
     "shell.execute_reply": "2022-05-01T14:47:42.591376Z"
    },
    "papermill": {
     "duration": 0.023127,
     "end_time": "2022-05-01T14:47:42.594427",
     "exception": false,
     "start_time": "2022-05-01T14:47:42.571300",
     "status": "completed"
    },
    "tags": []
   },
   "outputs": [],
   "source": [
    "def make_prediction(model, X, y, idx):\n",
    "    \n",
    "    genre_dict = {\n",
    "        0 : \"blues\",\n",
    "        1 : \"classical\",\n",
    "        2 : \"country\",\n",
    "        3 : \"disco\",\n",
    "        4 : \"hiphop\",\n",
    "        5 : \"jazz\",\n",
    "        6 : \"metal\",\n",
    "        7 : \"pop\",\n",
    "        8 : \"reggae\",\n",
    "        9 : \"rock\",\n",
    "        }\n",
    "        \n",
    "    predictions = model.predict(X)\n",
    "    genre = np.argmax(predictions[idx])\n",
    "    \n",
    "    print(\"\\n---Now testing the model for one audio file---\\nThe model predicts: {}, and ground truth is: {}.\\n\".format(genre_dict[genre], genre_dict[y[idx]]))"
   ]
  },
  {
   "cell_type": "code",
   "execution_count": 8,
   "id": "a6a36a2f",
   "metadata": {
    "execution": {
     "iopub.execute_input": "2022-05-01T14:47:42.622472Z",
     "iopub.status.busy": "2022-05-01T14:47:42.622225Z",
     "iopub.status.idle": "2022-05-01T14:47:42.629713Z",
     "shell.execute_reply": "2022-05-01T14:47:42.628704Z"
    },
    "papermill": {
     "duration": 0.024475,
     "end_time": "2022-05-01T14:47:42.631977",
     "exception": false,
     "start_time": "2022-05-01T14:47:42.607502",
     "status": "completed"
    },
    "tags": []
   },
   "outputs": [],
   "source": [
    "def plot_performance(hist):\n",
    "    \n",
    "    acc = hist.history['acc']\n",
    "    val_acc = hist.history['val_acc']\n",
    "    loss = hist.history['loss']\n",
    "    val_loss = hist.history['val_loss']\n",
    "\n",
    "    epochs = range(len(acc))\n",
    "\n",
    "    plt.plot(epochs, acc, 'r', label='Training accuracy')\n",
    "    plt.plot(epochs, val_acc, 'b', label='Validation accuracy')\n",
    "    plt.title('Training and validation accuracy')\n",
    "    plt.legend()\n",
    "    plt.figure()\n",
    "\n",
    "    plt.plot(epochs, loss, 'r', label='Training Loss')\n",
    "    plt.plot(epochs, val_loss, 'b', label='Validation Loss')\n",
    "    plt.title('Training and validation loss')\n",
    "    plt.legend()\n",
    "\n",
    "    plt.show()"
   ]
  },
  {
   "cell_type": "code",
   "execution_count": 9,
   "id": "0115ac16",
   "metadata": {
    "execution": {
     "iopub.execute_input": "2022-05-01T14:47:42.659152Z",
     "iopub.status.busy": "2022-05-01T14:47:42.658894Z",
     "iopub.status.idle": "2022-05-01T14:53:06.336374Z",
     "shell.execute_reply": "2022-05-01T14:53:06.335236Z"
    },
    "papermill": {
     "duration": 323.695032,
     "end_time": "2022-05-01T14:53:06.339942",
     "exception": false,
     "start_time": "2022-05-01T14:47:42.644910",
     "status": "completed"
    },
    "tags": []
   },
   "outputs": [
    {
     "name": "stderr",
     "output_type": "stream",
     "text": [
      "2022-05-01 14:52:13.753128: I tensorflow/stream_executor/cuda/cuda_gpu_executor.cc:937] successful NUMA node read from SysFS had negative value (-1), but there must be at least one NUMA node, so returning NUMA node zero\n",
      "2022-05-01 14:52:13.862580: I tensorflow/stream_executor/cuda/cuda_gpu_executor.cc:937] successful NUMA node read from SysFS had negative value (-1), but there must be at least one NUMA node, so returning NUMA node zero\n",
      "2022-05-01 14:52:13.863764: I tensorflow/stream_executor/cuda/cuda_gpu_executor.cc:937] successful NUMA node read from SysFS had negative value (-1), but there must be at least one NUMA node, so returning NUMA node zero\n",
      "2022-05-01 14:52:13.865376: I tensorflow/core/platform/cpu_feature_guard.cc:142] This TensorFlow binary is optimized with oneAPI Deep Neural Network Library (oneDNN) to use the following CPU instructions in performance-critical operations:  AVX2 FMA\n",
      "To enable them in other operations, rebuild TensorFlow with the appropriate compiler flags.\n",
      "2022-05-01 14:52:13.870956: I tensorflow/stream_executor/cuda/cuda_gpu_executor.cc:937] successful NUMA node read from SysFS had negative value (-1), but there must be at least one NUMA node, so returning NUMA node zero\n",
      "2022-05-01 14:52:13.872320: I tensorflow/stream_executor/cuda/cuda_gpu_executor.cc:937] successful NUMA node read from SysFS had negative value (-1), but there must be at least one NUMA node, so returning NUMA node zero\n",
      "2022-05-01 14:52:13.873365: I tensorflow/stream_executor/cuda/cuda_gpu_executor.cc:937] successful NUMA node read from SysFS had negative value (-1), but there must be at least one NUMA node, so returning NUMA node zero\n",
      "2022-05-01 14:52:16.168408: I tensorflow/stream_executor/cuda/cuda_gpu_executor.cc:937] successful NUMA node read from SysFS had negative value (-1), but there must be at least one NUMA node, so returning NUMA node zero\n",
      "2022-05-01 14:52:16.169496: I tensorflow/stream_executor/cuda/cuda_gpu_executor.cc:937] successful NUMA node read from SysFS had negative value (-1), but there must be at least one NUMA node, so returning NUMA node zero\n",
      "2022-05-01 14:52:16.170510: I tensorflow/stream_executor/cuda/cuda_gpu_executor.cc:937] successful NUMA node read from SysFS had negative value (-1), but there must be at least one NUMA node, so returning NUMA node zero\n",
      "2022-05-01 14:52:16.172222: I tensorflow/core/common_runtime/gpu/gpu_device.cc:1510] Created device /job:localhost/replica:0/task:0/device:GPU:0 with 15403 MB memory:  -> device: 0, name: Tesla P100-PCIE-16GB, pci bus id: 0000:00:04.0, compute capability: 6.0\n",
      "/opt/conda/lib/python3.7/site-packages/keras/optimizer_v2/optimizer_v2.py:356: UserWarning: The `lr` argument is deprecated, use `learning_rate` instead.\n",
      "  \"The `lr` argument is deprecated, use `learning_rate` instead.\")\n"
     ]
    },
    {
     "name": "stdout",
     "output_type": "stream",
     "text": [
      "Model: \"sequential\"\n",
      "_________________________________________________________________\n",
      "Layer (type)                 Output Shape              Param #   \n",
      "=================================================================\n",
      "conv2d (Conv2D)              (None, 123, 11, 32)       320       \n",
      "_________________________________________________________________\n",
      "max_pooling2d (MaxPooling2D) (None, 62, 6, 32)         0         \n",
      "_________________________________________________________________\n",
      "batch_normalization (BatchNo (None, 62, 6, 32)         128       \n",
      "_________________________________________________________________\n",
      "conv2d_1 (Conv2D)            (None, 60, 4, 32)         9248      \n",
      "_________________________________________________________________\n",
      "max_pooling2d_1 (MaxPooling2 (None, 30, 2, 32)         0         \n",
      "_________________________________________________________________\n",
      "batch_normalization_1 (Batch (None, 30, 2, 32)         128       \n",
      "_________________________________________________________________\n",
      "conv2d_2 (Conv2D)            (None, 29, 1, 32)         4128      \n",
      "_________________________________________________________________\n",
      "max_pooling2d_2 (MaxPooling2 (None, 15, 1, 32)         0         \n",
      "_________________________________________________________________\n",
      "batch_normalization_2 (Batch (None, 15, 1, 32)         128       \n",
      "_________________________________________________________________\n",
      "dropout (Dropout)            (None, 15, 1, 32)         0         \n",
      "_________________________________________________________________\n",
      "flatten (Flatten)            (None, 480)               0         \n",
      "_________________________________________________________________\n",
      "dense (Dense)                (None, 64)                30784     \n",
      "_________________________________________________________________\n",
      "dense_1 (Dense)              (None, 10)                650       \n",
      "=================================================================\n",
      "Total params: 45,514\n",
      "Trainable params: 45,322\n",
      "Non-trainable params: 192\n",
      "_________________________________________________________________\n"
     ]
    },
    {
     "name": "stderr",
     "output_type": "stream",
     "text": [
      "2022-05-01 14:52:16.848862: I tensorflow/compiler/mlir/mlir_graph_optimization_pass.cc:185] None of the MLIR Optimization Passes are enabled (registered 2)\n"
     ]
    },
    {
     "name": "stdout",
     "output_type": "stream",
     "text": [
      "Epoch 1/30\n"
     ]
    },
    {
     "name": "stderr",
     "output_type": "stream",
     "text": [
      "2022-05-01 14:52:18.873295: I tensorflow/stream_executor/cuda/cuda_dnn.cc:369] Loaded cuDNN version 8005\n"
     ]
    },
    {
     "name": "stdout",
     "output_type": "stream",
     "text": [
      "200/200 [==============================] - 9s 8ms/step - loss: 1.6317 - acc: 0.4386 - val_loss: 1.4750 - val_acc: 0.5020\n",
      "Epoch 2/30\n",
      "200/200 [==============================] - 1s 6ms/step - loss: 1.1843 - acc: 0.5772 - val_loss: 1.3019 - val_acc: 0.5511\n",
      "Epoch 3/30\n",
      "200/200 [==============================] - 1s 6ms/step - loss: 1.0170 - acc: 0.6407 - val_loss: 1.0236 - val_acc: 0.6296\n",
      "Epoch 4/30\n",
      "200/200 [==============================] - 1s 6ms/step - loss: 0.8903 - acc: 0.6834 - val_loss: 1.0830 - val_acc: 0.6196\n",
      "Epoch 5/30\n",
      "200/200 [==============================] - 1s 6ms/step - loss: 0.8024 - acc: 0.7186 - val_loss: 1.2142 - val_acc: 0.6051\n",
      "Epoch 6/30\n",
      "200/200 [==============================] - 1s 6ms/step - loss: 0.7442 - acc: 0.7363 - val_loss: 0.8287 - val_acc: 0.7087\n",
      "Epoch 7/30\n",
      "200/200 [==============================] - 2s 8ms/step - loss: 0.6973 - acc: 0.7500 - val_loss: 0.9162 - val_acc: 0.6837\n",
      "Epoch 8/30\n",
      "200/200 [==============================] - 1s 6ms/step - loss: 0.6260 - acc: 0.7796 - val_loss: 0.8523 - val_acc: 0.7092\n",
      "Epoch 9/30\n",
      "200/200 [==============================] - 1s 6ms/step - loss: 0.5952 - acc: 0.7902 - val_loss: 0.8741 - val_acc: 0.7067\n",
      "Epoch 10/30\n",
      "200/200 [==============================] - 2s 9ms/step - loss: 0.5686 - acc: 0.7973 - val_loss: 0.9833 - val_acc: 0.6877\n",
      "Epoch 11/30\n",
      "200/200 [==============================] - 1s 7ms/step - loss: 0.5242 - acc: 0.8114 - val_loss: 0.7923 - val_acc: 0.7337\n",
      "Epoch 12/30\n",
      "200/200 [==============================] - 1s 6ms/step - loss: 0.4903 - acc: 0.8254 - val_loss: 0.8328 - val_acc: 0.7277\n",
      "Epoch 13/30\n",
      "200/200 [==============================] - 1s 6ms/step - loss: 0.4648 - acc: 0.8351 - val_loss: 0.8035 - val_acc: 0.7287\n",
      "Epoch 14/30\n",
      "200/200 [==============================] - 1s 6ms/step - loss: 0.4289 - acc: 0.8466 - val_loss: 0.7440 - val_acc: 0.7558\n",
      "Epoch 15/30\n",
      "200/200 [==============================] - 1s 7ms/step - loss: 0.4139 - acc: 0.8528 - val_loss: 0.8634 - val_acc: 0.7292\n",
      "Epoch 16/30\n",
      "200/200 [==============================] - 1s 7ms/step - loss: 0.3944 - acc: 0.8553 - val_loss: 0.7923 - val_acc: 0.7412\n",
      "Epoch 17/30\n",
      "200/200 [==============================] - 1s 7ms/step - loss: 0.3654 - acc: 0.8699 - val_loss: 0.7370 - val_acc: 0.7668\n",
      "Epoch 18/30\n",
      "200/200 [==============================] - 1s 7ms/step - loss: 0.3516 - acc: 0.8752 - val_loss: 0.8916 - val_acc: 0.7382\n",
      "Epoch 19/30\n",
      "200/200 [==============================] - 1s 7ms/step - loss: 0.3512 - acc: 0.8747 - val_loss: 0.8376 - val_acc: 0.7402\n",
      "Epoch 20/30\n",
      "200/200 [==============================] - 1s 7ms/step - loss: 0.3442 - acc: 0.8796 - val_loss: 0.7939 - val_acc: 0.7482\n",
      "Epoch 21/30\n",
      "200/200 [==============================] - 1s 6ms/step - loss: 0.3198 - acc: 0.8871 - val_loss: 0.9566 - val_acc: 0.7217\n",
      "Epoch 22/30\n",
      "200/200 [==============================] - 1s 7ms/step - loss: 0.3135 - acc: 0.8874 - val_loss: 0.8025 - val_acc: 0.7598\n",
      "Epoch 23/30\n",
      "200/200 [==============================] - 2s 8ms/step - loss: 0.2926 - acc: 0.8960 - val_loss: 0.7896 - val_acc: 0.7573\n",
      "Epoch 24/30\n",
      "200/200 [==============================] - 1s 6ms/step - loss: 0.3076 - acc: 0.8882 - val_loss: 0.8468 - val_acc: 0.7588\n",
      "Epoch 25/30\n",
      "200/200 [==============================] - 1s 6ms/step - loss: 0.2966 - acc: 0.8985 - val_loss: 0.7361 - val_acc: 0.7738\n",
      "Epoch 26/30\n",
      "200/200 [==============================] - 1s 6ms/step - loss: 0.2776 - acc: 0.9033 - val_loss: 0.9919 - val_acc: 0.7307\n",
      "Epoch 27/30\n",
      "200/200 [==============================] - 1s 6ms/step - loss: 0.2795 - acc: 0.8988 - val_loss: 0.7961 - val_acc: 0.7673\n",
      "Epoch 28/30\n",
      "200/200 [==============================] - 1s 6ms/step - loss: 0.2707 - acc: 0.9044 - val_loss: 0.7881 - val_acc: 0.7693\n",
      "Epoch 29/30\n",
      "200/200 [==============================] - 1s 6ms/step - loss: 0.2515 - acc: 0.9129 - val_loss: 0.8405 - val_acc: 0.7608\n",
      "Epoch 30/30\n",
      "200/200 [==============================] - 1s 6ms/step - loss: 0.2381 - acc: 0.9162 - val_loss: 0.8412 - val_acc: 0.7713\n"
     ]
    },
    {
     "data": {
      "image/png": "[encoded data removed]",
      "text/plain": [
       "<Figure size 432x288 with 1 Axes>"
      ]
     },
     "metadata": {
      "needs_background": "light"
     },
     "output_type": "display_data"
    },
    {
     "data": {
      "image/png": "[encoded data removed]",
      "text/plain": [
       "<Figure size 432x288 with 1 Axes>"
      ]
     },
     "metadata": {
      "needs_background": "light"
     },
     "output_type": "display_data"
    },
    {
     "name": "stdout",
     "output_type": "stream",
     "text": [
      "\n",
      "---Now testing the model for one audio file---\n",
      "The model predicts: jazz, and ground truth is: jazz.\n",
      "\n"
     ]
    }
   ],
   "source": [
    "if __name__ == \"__main__\":\n",
    "\n",
    "    preprocess_data(source_path=SOURCE_PATH, json_path=JSON_PATH)\n",
    "    \n",
    "    inputs, targets = load_data(json_path=JSON_PATH)\n",
    "    \n",
    "    Xtrain, Xval, Xtest, ytrain, yval, ytest = prepare_datasets(inputs, targets, 0.2)\n",
    "\n",
    "    input_shape = (Xtrain.shape[1], Xtrain.shape[2], 1)\n",
    "    model = design_model(input_shape)\n",
    "\n",
    "    # Selection of the optimizer, loss type and metrics for performance evaluation.\n",
    "    model.compile(optimizer = tf.keras.optimizers.RMSprop(lr=0.001),\n",
    "                     loss='sparse_categorical_crossentropy',\n",
    "                     metrics = ['acc']\n",
    "                     )\n",
    "\n",
    "    model.summary()\n",
    "\n",
    "    #Training the model.\n",
    "    history = model.fit(Xtrain, ytrain,\n",
    "                        validation_data=(Xval, yval),\n",
    "                        epochs=30,\n",
    "                        batch_size=32\n",
    "                        )\n",
    "\n",
    "    plot_performance(history)\n",
    "\n",
    "    # Testing the model on never seen before data.\n",
    "    make_prediction(model, Xtest, ytest, 24)"
   ]
  },
  {
   "cell_type": "markdown",
   "id": "e58dd8f5",
   "metadata": {
    "papermill": {
     "duration": 0.309182,
     "end_time": "2022-05-01T14:53:06.964646",
     "exception": false,
     "start_time": "2022-05-01T14:53:06.655464",
     "status": "completed"
    },
    "tags": []
   },
   "source": [
    "**The End**"
   ]
  }
 ],
 "metadata": {
  "kernelspec": {
   "display_name": "Python 3",
   "language": "python",
   "name": "python3"
  },
  "language_info": {
   "codemirror_mode": {
    "name": "ipython",
    "version": 3
   },
   "file_extension": ".py",
   "mimetype": "text/x-python",
   "name": "python",
   "nbconvert_exporter": "python",
   "pygments_lexer": "ipython3",
   "version": "3.7.12"
  },
  "papermill": {
   "default_parameters": {},
   "duration": 344.740995,
   "end_time": "2022-05-01T14:53:10.469813",
   "environment_variables": {},
   "exception": null,
   "input_path": "__notebook__.ipynb",
   "output_path": "__notebook__.ipynb",
   "parameters": {},
   "start_time": "2022-05-01T14:47:25.728818",
   "version": "2.3.4"
  }
 },
 "nbformat": 4,
 "nbformat_minor": 5
}
